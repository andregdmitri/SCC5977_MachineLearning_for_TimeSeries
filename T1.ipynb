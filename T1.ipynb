{
 "cells": [
  {
   "cell_type": "markdown",
   "metadata": {},
   "source": [
    "# SCC5977 - Aprendizado de Máquina para Séries Temporais (2024)\n",
    "\n",
    "## Grupo\n",
    "> André Guarnier De Mitri - 11395579\n",
    "> \n",
    "> \n",
    "\n",
    "## Problema\n"
   ]
  },
  {
   "cell_type": "code",
   "execution_count": 27,
   "metadata": {},
   "outputs": [
    {
     "name": "stdout",
     "output_type": "stream",
     "text": [
      "Loaded 6000 training samples with shape (1, 137) and 1500 test samples.\n",
      "Euclidean Distance: [[2.02366115]]\n",
      "Derivative DTW Distance: 0.3739516388002304\n"
     ]
    }
   ],
   "source": [
    "# Importing necessary libraries\n",
    "from aeon.distances import pairwise_distance\n",
    "from aeon.distances import ddtw_distance\n",
    "import numpy as np\n",
    "from aeon.datasets import load_from_tsfile\n",
    "\n",
    "# Load time series data\n",
    "X_train, y_train = load_from_tsfile(full_file_path_and_name='./data/ts_files/train.ts')\n",
    "X_test, y_test = load_from_tsfile(full_file_path_and_name='./data/ts_files/test.ts')\n",
    "\n",
    "# Validate loaded data\n",
    "print(f\"Loaded {X_train.shape[0]} training samples with shape {X_train.shape[1:]} and {X_test.shape[0]} test samples.\")\n",
    "\n",
    "# Selecting the first instance from train and test for demonstration purposes\n",
    "time_series_1 = X_train[0, 0]  # First time series from the training set\n",
    "time_series_2 = X_test[0, 0]  # First time series from the test set\n",
    "\n",
    "# Check if the selected data is valid\n",
    "euclidean_dist = pairwise_distance(time_series_1, time_series_2, metric=\"euclidean\")\n",
    "\n",
    "# Calculate Derivative Dynamic Time Warping distance\n",
    "ddtw_dist = ddtw_distance(time_series_1, time_series_2)\n",
    "\n",
    "# Print results\n",
    "print(f\"Euclidean Distance: {euclidean_dist}\")\n",
    "print(f\"Derivative DTW Distance: {ddtw_dist}\")"
   ]
  },
  {
   "cell_type": "markdown",
   "metadata": {},
   "source": [
    "# Trabalhos relacionados"
   ]
  },
  {
   "cell_type": "markdown",
   "metadata": {},
   "source": [
    "# Algoritimos Utilizados"
   ]
  },
  {
   "cell_type": "markdown",
   "metadata": {},
   "source": [
    "# Metodologia"
   ]
  },
  {
   "cell_type": "markdown",
   "metadata": {},
   "source": [
    "## Carregando o dataset"
   ]
  },
  {
   "cell_type": "markdown",
   "metadata": {},
   "source": [
    "# Resultados e Discussões"
   ]
  },
  {
   "cell_type": "code",
   "execution_count": null,
   "metadata": {},
   "outputs": [],
   "source": []
  }
 ],
 "metadata": {
  "kernelspec": {
   "display_name": "Python 3",
   "language": "python",
   "name": "python3"
  },
  "language_info": {
   "codemirror_mode": {
    "name": "ipython",
    "version": 3
   },
   "file_extension": ".py",
   "mimetype": "text/x-python",
   "name": "python",
   "nbconvert_exporter": "python",
   "pygments_lexer": "ipython3",
   "version": "3.10.11"
  }
 },
 "nbformat": 4,
 "nbformat_minor": 2
}
