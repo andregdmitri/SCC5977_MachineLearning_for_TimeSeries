{
 "cells": [
  {
   "cell_type": "markdown",
   "metadata": {},
   "source": [
    "# SCC5977 - Aprendizado de Máquina para Séries Temporais (2024)\n",
    "\n",
    "## Grupo\n",
    "> André Guarnier De Mitri - 11395579\n",
    "> \n",
    "> \n",
    "\n",
    "## Problema\n"
   ]
  },
  {
   "cell_type": "code",
   "execution_count": null,
   "metadata": {},
   "outputs": [
    {
     "name": "stdout",
     "output_type": "stream",
     "text": [
      "Loaded 6000 time series with shape (1, 137).\n",
      "Calculating Euclidean Distance...\n"
     ]
    },
    {
     "name": "stderr",
     "output_type": "stream",
     "text": [
      "Euclidean Distance:   2%|▏         | 291364/17997000 [00:20<20:04, 14695.82it/s]"
     ]
    }
   ],
   "source": [
    "# Import necessary libraries\n",
    "from aeon.distances import pairwise_distance, ddtw_distance\n",
    "import numpy as np\n",
    "from aeon.datasets import load_from_tsfile\n",
    "from itertools import combinations\n",
    "import matplotlib.pyplot as plt\n",
    "from tqdm import tqdm\n",
    "import time\n",
    "\n",
    "\n",
    "def load_and_validate_data(file_path):\n",
    "    \"\"\"Load and validate time series data.\"\"\"\n",
    "    X, y = load_from_tsfile(full_file_path_and_name=file_path)\n",
    "    print(f\"Loaded {X.shape[0]} time series with shape {X.shape[1:]}.\")\n",
    "    return X\n",
    "\n",
    "\n",
    "def calculate_distances(X, metric_function, metric_name):\n",
    "    \"\"\"Calculate pairwise distances using the specified metric with progress tracking.\"\"\"\n",
    "    num_ts = X.shape[0]\n",
    "    total_combinations = (num_ts * (num_ts - 1)) // 2  # Number of combinations\n",
    "\n",
    "    print(f\"Calculating {metric_name}...\")\n",
    "    distances = []\n",
    "    start_time = time.time()\n",
    "\n",
    "    with tqdm(total=total_combinations, desc=metric_name) as pbar:\n",
    "        for (i, ts1), (j, ts2) in combinations(enumerate(X[:, 0]), 2):\n",
    "            distances.append((metric_function(ts1, ts2), i, j))\n",
    "            pbar.update(1)  # Update the progress bar\n",
    "\n",
    "    elapsed_time = time.time() - start_time\n",
    "    print(f\"{metric_name} completed in {elapsed_time:.2f} seconds.\")\n",
    "    return distances, elapsed_time\n",
    "\n",
    "def summarize_distances(distances, distance_type):\n",
    "    \"\"\"Summarize and print statistics for the given distances.\"\"\"\n",
    "    distances_only = [d[0] for d in distances]\n",
    "    smallest = min(distances, key=lambda x: x[0])\n",
    "    largest = max(distances, key=lambda x: x[0])\n",
    "    median_dist = np.median(distances_only)\n",
    "\n",
    "    print(f\"\\n{distance_type} Analysis:\")\n",
    "    print(f\"Median Distance: {median_dist:.4f}\")\n",
    "    print(f\"Smallest Distance: {smallest[0]:.4f} (between series {smallest[1]} and {smallest[2]})\")\n",
    "    print(f\"Largest Distance: {largest[0]:.4f} (between series {largest[1]} and {largest[2]})\")\n",
    "\n",
    "    return smallest, largest\n",
    "\n",
    "\n",
    "def plot_time_series_comparison(X, pair, title, axs):\n",
    "    \"\"\"Plot two time series with a title.\"\"\"\n",
    "    ts1, ts2 = X[pair[1], 0], X[pair[2], 0]\n",
    "    axs.plot(ts1, label=\"Time Series 1\")\n",
    "    axs.plot(ts2, label=\"Time Series 2\")\n",
    "    axs.set_title(title)\n",
    "    axs.legend()\n",
    "    axs.grid(True)\n",
    "\n",
    "\n",
    "def main():\n",
    "    # Load data\n",
    "    file_path = './data/ts_files/train.ts'\n",
    "    X = load_and_validate_data(file_path)\n",
    "\n",
    "    # Calculate distances\n",
    "    euclidean_distances, euclidean_time = calculate_distances(\n",
    "        X, lambda x, y: pairwise_distance(x, y, metric=\"euclidean\"), \"Euclidean Distance\"\n",
    "    )\n",
    "    ddtw_distances, ddtw_time = calculate_distances(X, ddtw_distance, \"Derivative DTW Distance\")\n",
    "\n",
    "    # Summarize distances\n",
    "    euclidean_smallest, euclidean_largest = summarize_distances(euclidean_distances, \"Euclidean Distance\")\n",
    "    ddtw_smallest, ddtw_largest = summarize_distances(ddtw_distances, \"Derivative DTW Distance\")\n",
    "\n",
    "    # Print time analysis\n",
    "    print(f\"\\nTiming Analysis:\")\n",
    "    print(f\"Euclidean Distance took {euclidean_time:.2f} seconds.\")\n",
    "    print(f\"Derivative DTW Distance took {ddtw_time:.2f} seconds.\")\n",
    "\n",
    "    # Plot the time series comparisons\n",
    "    fig, axs = plt.subplots(2, 2, figsize=(12, 8))\n",
    "\n",
    "    plot_time_series_comparison(X, euclidean_smallest, \"Smallest Euclidean Distance\", axs[0, 0])\n",
    "    plot_time_series_comparison(X, ddtw_smallest, \"Smallest DDTW Distance\", axs[0, 1])\n",
    "    plot_time_series_comparison(X, euclidean_largest, \"Largest Euclidean Distance\", axs[1, 0])\n",
    "    plot_time_series_comparison(X, ddtw_largest, \"Largest DDTW Distance\", axs[1, 1])\n",
    "\n",
    "    plt.tight_layout()\n",
    "    plt.show()\n",
    "\n",
    "\n",
    "# Run the main function\n",
    "main()"
   ]
  },
  {
   "cell_type": "code",
   "execution_count": null,
   "metadata": {},
   "outputs": [
    {
     "name": "stdout",
     "output_type": "stream",
     "text": [
      "Loaded 6000 time series with shape (1, 137).\n",
      "Calculating Euclidean Distance...\n"
     ]
    },
    {
     "name": "stderr",
     "output_type": "stream",
     "text": [
      "Euclidean Distance:   0%|          | 0/17997000 [00:00<?, ?it/s]"
     ]
    }
   ],
   "source": [
    "from aeon.distances import pairwise_distance, ddtw_distance\n",
    "import numpy as np\n",
    "from aeon.datasets import load_from_tsfile\n",
    "from itertools import combinations\n",
    "import matplotlib.pyplot as plt\n",
    "from tqdm import tqdm\n",
    "import time\n",
    "from concurrent.futures import ProcessPoolExecutor\n",
    "\n",
    "\n",
    "def load_and_validate_data(file_path):\n",
    "    \"\"\"Load and validate time series data.\"\"\"\n",
    "    X, y = load_from_tsfile(full_file_path_and_name=file_path)\n",
    "    print(f\"Loaded {X.shape[0]} time series with shape {X.shape[1:]}.\")\n",
    "    return X\n",
    "\n",
    "\n",
    "def calculate_pairwise_distance(args):\n",
    "    \"\"\"Helper function to calculate pairwise distance in parallel.\"\"\"\n",
    "    i, ts1, j, ts2, metric_function = args\n",
    "    distance = metric_function(ts1, ts2)\n",
    "    return (distance, i, j)\n",
    "\n",
    "\n",
    "def calculate_distances(X, metric_function, metric_name):\n",
    "    \"\"\"Calculate pairwise distances using the specified metric with parallel processing.\"\"\"\n",
    "    num_ts = X.shape[0]\n",
    "    total_combinations = (num_ts * (num_ts - 1)) // 2  # Number of combinations\n",
    "\n",
    "    print(f\"Calculating {metric_name}...\")\n",
    "    \n",
    "    start_time = time.time()\n",
    "\n",
    "    # Prepare list of arguments for parallel processing\n",
    "    tasks = [\n",
    "        (i, X[i, 0], j, X[j, 0], metric_function)\n",
    "        for i, j in combinations(range(num_ts), 2)\n",
    "    ]\n",
    "    \n",
    "    # Create a tqdm object to track progress\n",
    "    with tqdm(total=total_combinations, desc=metric_name) as pbar:\n",
    "        results = []\n",
    "        # Use ProcessPoolExecutor to parallelize distance calculations\n",
    "        with ProcessPoolExecutor() as executor:\n",
    "            for result in executor.map(calculate_pairwise_distance, tasks):\n",
    "                results.append(result)\n",
    "                pbar.update(1)  # Update progress bar after each task\n",
    "\n",
    "    elapsed_time = time.time() - start_time\n",
    "    print(f\"{metric_name} completed in {elapsed_time:.2f} seconds.\")\n",
    "    return results, elapsed_time\n",
    "\n",
    "\n",
    "def summarize_distances(distances, distance_type):\n",
    "    \"\"\"Summarize and print statistics for the given distances.\"\"\"\n",
    "    distances_only = [d[0] for d in distances]\n",
    "    smallest = min(distances, key=lambda x: x[0])\n",
    "    largest = max(distances, key=lambda x: x[0])\n",
    "    median_dist = np.median(distances_only)\n",
    "\n",
    "    print(f\"\\n{distance_type} Analysis:\")\n",
    "    print(f\"Median Distance: {median_dist:.4f}\")\n",
    "    print(f\"Smallest Distance: {smallest[0]:.4f} (between series {smallest[1]} and {smallest[2]})\")\n",
    "    print(f\"Largest Distance: {largest[0]:.4f} (between series {largest[1]} and {largest[2]})\")\n",
    "\n",
    "    return smallest, largest\n",
    "\n",
    "\n",
    "def plot_time_series_comparison(X, pair, title, axs):\n",
    "    \"\"\"Plot two time series with a title.\"\"\"\n",
    "    ts1, ts2 = X[pair[1], 0], X[pair[2], 0]\n",
    "    axs.plot(ts1, label=\"Time Series 1\")\n",
    "    axs.plot(ts2, label=\"Time Series 2\")\n",
    "    axs.set_title(title)\n",
    "    axs.legend()\n",
    "    axs.grid(True)\n",
    "\n",
    "\n",
    "def main():\n",
    "    # Load data\n",
    "    file_path = './data/ts_files/train.ts'\n",
    "    X = load_and_validate_data(file_path)\n",
    "\n",
    "    # Calculate distances\n",
    "    euclidean_distances, euclidean_time = calculate_distances(\n",
    "        X, lambda x, y: pairwise_distance(x, y, metric=\"euclidean\"), \"Euclidean Distance\"\n",
    "    )\n",
    "    ddtw_distances, ddtw_time = calculate_distances(X, ddtw_distance, \"Derivative DTW Distance\")\n",
    "\n",
    "    # Summarize distances\n",
    "    euclidean_smallest, euclidean_largest = summarize_distances(euclidean_distances, \"Euclidean Distance\")\n",
    "    ddtw_smallest, ddtw_largest = summarize_distances(ddtw_distances, \"Derivative DTW Distance\")\n",
    "\n",
    "    # Print time analysis\n",
    "    print(f\"\\nTiming Analysis:\")\n",
    "    print(f\"Euclidean Distance took {euclidean_time:.2f} seconds.\")\n",
    "    print(f\"Derivative DTW Distance took {ddtw_time:.2f} seconds.\")\n",
    "\n",
    "    # Plot the time series comparisons\n",
    "    fig, axs = plt.subplots(2, 2, figsize=(12, 8))\n",
    "\n",
    "    plot_time_series_comparison(X, euclidean_smallest, \"Smallest Euclidean Distance\", axs[0, 0])\n",
    "    plot_time_series_comparison(X, ddtw_smallest, \"Smallest DDTW Distance\", axs[0, 1])\n",
    "    plot_time_series_comparison(X, euclidean_largest, \"Largest Euclidean Distance\", axs[1, 0])\n",
    "    plot_time_series_comparison(X, ddtw_largest, \"Largest DDTW Distance\", axs[1, 1])\n",
    "\n",
    "    plt.tight_layout()\n",
    "    plt.show()\n",
    "\n",
    "\n",
    "# Run the main function\n",
    "main()"
   ]
  },
  {
   "cell_type": "markdown",
   "metadata": {},
   "source": [
    "# Trabalhos relacionados"
   ]
  },
  {
   "cell_type": "markdown",
   "metadata": {},
   "source": [
    "# Algoritimos Utilizados"
   ]
  },
  {
   "cell_type": "markdown",
   "metadata": {},
   "source": [
    "# Metodologia"
   ]
  },
  {
   "cell_type": "markdown",
   "metadata": {},
   "source": [
    "## Carregando o dataset"
   ]
  },
  {
   "cell_type": "markdown",
   "metadata": {},
   "source": [
    "# Resultados e Discussões"
   ]
  },
  {
   "cell_type": "code",
   "execution_count": null,
   "metadata": {},
   "outputs": [],
   "source": []
  }
 ],
 "metadata": {
  "kernelspec": {
   "display_name": "Python 3",
   "language": "python",
   "name": "python3"
  },
  "language_info": {
   "codemirror_mode": {
    "name": "ipython",
    "version": 3
   },
   "file_extension": ".py",
   "mimetype": "text/x-python",
   "name": "python",
   "nbconvert_exporter": "python",
   "pygments_lexer": "ipython3",
   "version": "3.10.11"
  }
 },
 "nbformat": 4,
 "nbformat_minor": 2
}
