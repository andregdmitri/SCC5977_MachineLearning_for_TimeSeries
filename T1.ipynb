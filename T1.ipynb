{
 "cells": [
  {
   "cell_type": "markdown",
   "metadata": {},
   "source": [
    "# SCC5977 - Aprendizado de Máquina para Séries Temporais (2024)\n",
    "\n",
    "## Grupo\n",
    "> André Guarnier De Mitri - 11395579\n",
    "> \n",
    "> \n",
    "\n",
    "## Problema\n"
   ]
  },
  {
   "cell_type": "code",
   "execution_count": null,
   "metadata": {},
   "outputs": [],
   "source": []
  },
  {
   "cell_type": "markdown",
   "metadata": {},
   "source": [
    "# VERSÃO 1.0 SEM PROCESSAMENTO PARALELO"
   ]
  },
  {
   "cell_type": "code",
   "execution_count": 1,
   "metadata": {},
   "outputs": [
    {
     "name": "stdout",
     "output_type": "stream",
     "text": [
      "Loaded 6000 time series with shape (1, 137).\n",
      "Calculating Euclidean Distance...\n"
     ]
    },
    {
     "name": "stderr",
     "output_type": "stream",
     "text": [
      "Euclidean Distance:  14%|█▍        | 2576196/17997000 [03:07<18:41, 13744.51it/s]\n"
     ]
    },
    {
     "ename": "KeyboardInterrupt",
     "evalue": "",
     "output_type": "error",
     "traceback": [
      "\u001b[1;31m---------------------------------------------------------------------------\u001b[0m",
      "\u001b[1;31mKeyboardInterrupt\u001b[0m                         Traceback (most recent call last)",
      "Cell \u001b[1;32mIn[1], line 94\u001b[0m\n\u001b[0;32m     90\u001b[0m     plt\u001b[38;5;241m.\u001b[39mshow()\n\u001b[0;32m     93\u001b[0m \u001b[38;5;66;03m# Run the main function\u001b[39;00m\n\u001b[1;32m---> 94\u001b[0m \u001b[43mmain\u001b[49m\u001b[43m(\u001b[49m\u001b[43m)\u001b[49m\n",
      "Cell \u001b[1;32mIn[1], line 67\u001b[0m, in \u001b[0;36mmain\u001b[1;34m()\u001b[0m\n\u001b[0;32m     64\u001b[0m X \u001b[38;5;241m=\u001b[39m load_and_validate_data(file_path)\n\u001b[0;32m     66\u001b[0m \u001b[38;5;66;03m# Calculate distances\u001b[39;00m\n\u001b[1;32m---> 67\u001b[0m euclidean_distances, euclidean_time \u001b[38;5;241m=\u001b[39m \u001b[43mcalculate_distances\u001b[49m\u001b[43m(\u001b[49m\n\u001b[0;32m     68\u001b[0m \u001b[43m    \u001b[49m\u001b[43mX\u001b[49m\u001b[43m,\u001b[49m\u001b[43m \u001b[49m\u001b[38;5;28;43;01mlambda\u001b[39;49;00m\u001b[43m \u001b[49m\u001b[43mx\u001b[49m\u001b[43m,\u001b[49m\u001b[43m \u001b[49m\u001b[43my\u001b[49m\u001b[43m:\u001b[49m\u001b[43m \u001b[49m\u001b[43mpairwise_distance\u001b[49m\u001b[43m(\u001b[49m\u001b[43mx\u001b[49m\u001b[43m,\u001b[49m\u001b[43m \u001b[49m\u001b[43my\u001b[49m\u001b[43m,\u001b[49m\u001b[43m \u001b[49m\u001b[43mmetric\u001b[49m\u001b[38;5;241;43m=\u001b[39;49m\u001b[38;5;124;43m\"\u001b[39;49m\u001b[38;5;124;43meuclidean\u001b[39;49m\u001b[38;5;124;43m\"\u001b[39;49m\u001b[43m)\u001b[49m\u001b[43m,\u001b[49m\u001b[43m \u001b[49m\u001b[38;5;124;43m\"\u001b[39;49m\u001b[38;5;124;43mEuclidean Distance\u001b[39;49m\u001b[38;5;124;43m\"\u001b[39;49m\n\u001b[0;32m     69\u001b[0m \u001b[43m\u001b[49m\u001b[43m)\u001b[49m\n\u001b[0;32m     70\u001b[0m ddtw_distances, ddtw_time \u001b[38;5;241m=\u001b[39m calculate_distances(X, ddtw_distance, \u001b[38;5;124m\"\u001b[39m\u001b[38;5;124mDerivative DTW Distance\u001b[39m\u001b[38;5;124m\"\u001b[39m)\n\u001b[0;32m     72\u001b[0m \u001b[38;5;66;03m# Summarize distances\u001b[39;00m\n",
      "Cell \u001b[1;32mIn[1], line 29\u001b[0m, in \u001b[0;36mcalculate_distances\u001b[1;34m(X, metric_function, metric_name)\u001b[0m\n\u001b[0;32m     27\u001b[0m \u001b[38;5;28;01mwith\u001b[39;00m tqdm(total\u001b[38;5;241m=\u001b[39mtotal_combinations, desc\u001b[38;5;241m=\u001b[39mmetric_name) \u001b[38;5;28;01mas\u001b[39;00m pbar:\n\u001b[0;32m     28\u001b[0m     \u001b[38;5;28;01mfor\u001b[39;00m (i, ts1), (j, ts2) \u001b[38;5;129;01min\u001b[39;00m combinations(\u001b[38;5;28menumerate\u001b[39m(X[:, \u001b[38;5;241m0\u001b[39m]), \u001b[38;5;241m2\u001b[39m):\n\u001b[1;32m---> 29\u001b[0m         distances\u001b[38;5;241m.\u001b[39mappend((\u001b[43mmetric_function\u001b[49m\u001b[43m(\u001b[49m\u001b[43mts1\u001b[49m\u001b[43m,\u001b[49m\u001b[43m \u001b[49m\u001b[43mts2\u001b[49m\u001b[43m)\u001b[49m, i, j))\n\u001b[0;32m     30\u001b[0m         pbar\u001b[38;5;241m.\u001b[39mupdate(\u001b[38;5;241m1\u001b[39m)  \u001b[38;5;66;03m# Update the progress bar\u001b[39;00m\n\u001b[0;32m     32\u001b[0m elapsed_time \u001b[38;5;241m=\u001b[39m time\u001b[38;5;241m.\u001b[39mtime() \u001b[38;5;241m-\u001b[39m start_time\n",
      "Cell \u001b[1;32mIn[1], line 68\u001b[0m, in \u001b[0;36mmain.<locals>.<lambda>\u001b[1;34m(x, y)\u001b[0m\n\u001b[0;32m     64\u001b[0m X \u001b[38;5;241m=\u001b[39m load_and_validate_data(file_path)\n\u001b[0;32m     66\u001b[0m \u001b[38;5;66;03m# Calculate distances\u001b[39;00m\n\u001b[0;32m     67\u001b[0m euclidean_distances, euclidean_time \u001b[38;5;241m=\u001b[39m calculate_distances(\n\u001b[1;32m---> 68\u001b[0m     X, \u001b[38;5;28;01mlambda\u001b[39;00m x, y: \u001b[43mpairwise_distance\u001b[49m\u001b[43m(\u001b[49m\u001b[43mx\u001b[49m\u001b[43m,\u001b[49m\u001b[43m \u001b[49m\u001b[43my\u001b[49m\u001b[43m,\u001b[49m\u001b[43m \u001b[49m\u001b[43mmetric\u001b[49m\u001b[38;5;241;43m=\u001b[39;49m\u001b[38;5;124;43m\"\u001b[39;49m\u001b[38;5;124;43meuclidean\u001b[39;49m\u001b[38;5;124;43m\"\u001b[39;49m\u001b[43m)\u001b[49m, \u001b[38;5;124m\"\u001b[39m\u001b[38;5;124mEuclidean Distance\u001b[39m\u001b[38;5;124m\"\u001b[39m\n\u001b[0;32m     69\u001b[0m )\n\u001b[0;32m     70\u001b[0m ddtw_distances, ddtw_time \u001b[38;5;241m=\u001b[39m calculate_distances(X, ddtw_distance, \u001b[38;5;124m\"\u001b[39m\u001b[38;5;124mDerivative DTW Distance\u001b[39m\u001b[38;5;124m\"\u001b[39m)\n\u001b[0;32m     72\u001b[0m \u001b[38;5;66;03m# Summarize distances\u001b[39;00m\n",
      "File \u001b[1;32m~\\AppData\\Local\\Packages\\PythonSoftwareFoundation.Python.3.10_qbz5n2kfra8p0\\LocalCache\\local-packages\\Python310\\site-packages\\aeon\\distances\\_distance.py:324\u001b[0m, in \u001b[0;36mpairwise_distance\u001b[1;34m(x, y, metric, **kwargs)\u001b[0m\n\u001b[0;32m    322\u001b[0m     \u001b[38;5;28;01mreturn\u001b[39;00m squared_pairwise_distance(x, y)\n\u001b[0;32m    323\u001b[0m \u001b[38;5;28;01melif\u001b[39;00m metric \u001b[38;5;241m==\u001b[39m \u001b[38;5;124m\"\u001b[39m\u001b[38;5;124meuclidean\u001b[39m\u001b[38;5;124m\"\u001b[39m:\n\u001b[1;32m--> 324\u001b[0m     \u001b[38;5;28;01mreturn\u001b[39;00m \u001b[43meuclidean_pairwise_distance\u001b[49m\u001b[43m(\u001b[49m\u001b[43mx\u001b[49m\u001b[43m,\u001b[49m\u001b[43m \u001b[49m\u001b[43my\u001b[49m\u001b[43m)\u001b[49m\n\u001b[0;32m    325\u001b[0m \u001b[38;5;28;01melif\u001b[39;00m metric \u001b[38;5;241m==\u001b[39m \u001b[38;5;124m\"\u001b[39m\u001b[38;5;124mmanhattan\u001b[39m\u001b[38;5;124m\"\u001b[39m:\n\u001b[0;32m    326\u001b[0m     \u001b[38;5;28;01mreturn\u001b[39;00m manhattan_pairwise_distance(x, y)\n",
      "File \u001b[1;32m~\\AppData\\Local\\Packages\\PythonSoftwareFoundation.Python.3.10_qbz5n2kfra8p0\\LocalCache\\local-packages\\Python310\\site-packages\\aeon\\distances\\_euclidean.py:133\u001b[0m, in \u001b[0;36meuclidean_pairwise_distance\u001b[1;34m(X, y)\u001b[0m\n\u001b[0;32m    129\u001b[0m \u001b[38;5;28;01mif\u001b[39;00m y \u001b[38;5;129;01mis\u001b[39;00m \u001b[38;5;28;01mNone\u001b[39;00m:\n\u001b[0;32m    130\u001b[0m     \u001b[38;5;66;03m# To self\u001b[39;00m\n\u001b[0;32m    131\u001b[0m     \u001b[38;5;28;01mreturn\u001b[39;00m _euclidean_pairwise_distance(_X)\n\u001b[1;32m--> 133\u001b[0m _y, _ \u001b[38;5;241m=\u001b[39m \u001b[43m_convert_to_list\u001b[49m\u001b[43m(\u001b[49m\u001b[43my\u001b[49m\u001b[43m,\u001b[49m\u001b[43m \u001b[49m\u001b[38;5;124;43m\"\u001b[39;49m\u001b[38;5;124;43my\u001b[39;49m\u001b[38;5;124;43m\"\u001b[39;49m\u001b[43m,\u001b[49m\u001b[43m \u001b[49m\u001b[43mmultivariate_conversion\u001b[49m\u001b[43m)\u001b[49m\n\u001b[0;32m    134\u001b[0m \u001b[38;5;28;01mreturn\u001b[39;00m _euclidean_from_multiple_to_multiple_distance(_X, _y)\n",
      "File \u001b[1;32m~\\AppData\\Local\\Packages\\PythonSoftwareFoundation.Python.3.10_qbz5n2kfra8p0\\LocalCache\\local-packages\\Python310\\site-packages\\aeon\\distances\\_utils.py:210\u001b[0m, in \u001b[0;36m_convert_to_list\u001b[1;34m(x, name, multivariate_conversion)\u001b[0m\n\u001b[0;32m    208\u001b[0m     \u001b[38;5;28;01mreturn\u001b[39;00m NumbaList(x\u001b[38;5;241m.\u001b[39mreshape(x\u001b[38;5;241m.\u001b[39mshape[\u001b[38;5;241m0\u001b[39m], \u001b[38;5;241m1\u001b[39m, x\u001b[38;5;241m.\u001b[39mshape[\u001b[38;5;241m1\u001b[39m])), \u001b[38;5;28;01mFalse\u001b[39;00m\n\u001b[0;32m    209\u001b[0m \u001b[38;5;28;01melif\u001b[39;00m x\u001b[38;5;241m.\u001b[39mndim \u001b[38;5;241m==\u001b[39m \u001b[38;5;241m1\u001b[39m:\n\u001b[1;32m--> 210\u001b[0m     \u001b[38;5;28;01mreturn\u001b[39;00m \u001b[43mNumbaList\u001b[49m\u001b[43m(\u001b[49m\u001b[43mx\u001b[49m\u001b[38;5;241;43m.\u001b[39;49m\u001b[43mreshape\u001b[49m\u001b[43m(\u001b[49m\u001b[38;5;241;43m1\u001b[39;49m\u001b[43m,\u001b[49m\u001b[43m \u001b[49m\u001b[38;5;241;43m1\u001b[39;49m\u001b[43m,\u001b[49m\u001b[43m \u001b[49m\u001b[43mx\u001b[49m\u001b[38;5;241;43m.\u001b[39;49m\u001b[43mshape\u001b[49m\u001b[43m[\u001b[49m\u001b[38;5;241;43m0\u001b[39;49m\u001b[43m]\u001b[49m\u001b[43m)\u001b[49m\u001b[43m)\u001b[49m, \u001b[38;5;28;01mFalse\u001b[39;00m\n\u001b[0;32m    211\u001b[0m \u001b[38;5;28;01melse\u001b[39;00m:\n\u001b[0;32m    212\u001b[0m     \u001b[38;5;28;01mraise\u001b[39;00m \u001b[38;5;167;01mValueError\u001b[39;00m(\u001b[38;5;124mf\u001b[39m\u001b[38;5;124m\"\u001b[39m\u001b[38;5;132;01m{\u001b[39;00mname\u001b[38;5;132;01m}\u001b[39;00m\u001b[38;5;124m must be 1D, 2D or 3D\u001b[39m\u001b[38;5;124m\"\u001b[39m)\n",
      "File \u001b[1;32m~\\AppData\\Local\\Packages\\PythonSoftwareFoundation.Python.3.10_qbz5n2kfra8p0\\LocalCache\\local-packages\\Python310\\site-packages\\numba\\typed\\typedlist.py:268\u001b[0m, in \u001b[0;36mList.__init__\u001b[1;34m(self, *args, **kwargs)\u001b[0m\n\u001b[0;32m    266\u001b[0m     \u001b[38;5;28;01mraise\u001b[39;00m \u001b[38;5;167;01mTypeError\u001b[39;00m(\u001b[38;5;124m\"\u001b[39m\u001b[38;5;124mList() argument must be iterable\u001b[39m\u001b[38;5;124m\"\u001b[39m)\n\u001b[0;32m    267\u001b[0m \u001b[38;5;28;01mfor\u001b[39;00m i \u001b[38;5;129;01min\u001b[39;00m args[\u001b[38;5;241m0\u001b[39m]:\n\u001b[1;32m--> 268\u001b[0m     \u001b[38;5;28;43mself\u001b[39;49m\u001b[38;5;241;43m.\u001b[39;49m\u001b[43mappend\u001b[49m\u001b[43m(\u001b[49m\u001b[43mi\u001b[49m\u001b[43m)\u001b[49m\n",
      "File \u001b[1;32m~\\AppData\\Local\\Packages\\PythonSoftwareFoundation.Python.3.10_qbz5n2kfra8p0\\LocalCache\\local-packages\\Python310\\site-packages\\numba\\typed\\typedlist.py:344\u001b[0m, in \u001b[0;36mList.append\u001b[1;34m(self, item)\u001b[0m\n\u001b[0;32m    342\u001b[0m \u001b[38;5;28;01mif\u001b[39;00m \u001b[38;5;129;01mnot\u001b[39;00m \u001b[38;5;28mself\u001b[39m\u001b[38;5;241m.\u001b[39m_typed:\n\u001b[0;32m    343\u001b[0m     \u001b[38;5;28mself\u001b[39m\u001b[38;5;241m.\u001b[39m_initialise_list(item)\n\u001b[1;32m--> 344\u001b[0m \u001b[43m_append\u001b[49m\u001b[43m(\u001b[49m\u001b[38;5;28;43mself\u001b[39;49m\u001b[43m,\u001b[49m\u001b[43m \u001b[49m\u001b[43mitem\u001b[49m\u001b[43m)\u001b[49m\n",
      "File \u001b[1;32m~\\AppData\\Local\\Packages\\PythonSoftwareFoundation.Python.3.10_qbz5n2kfra8p0\\LocalCache\\local-packages\\Python310\\site-packages\\numba\\typed\\typedlist.py:282\u001b[0m, in \u001b[0;36mList._numba_type_\u001b[1;34m(self)\u001b[0m\n\u001b[0;32m    280\u001b[0m \u001b[38;5;129m@property\u001b[39m\n\u001b[0;32m    281\u001b[0m \u001b[38;5;28;01mdef\u001b[39;00m \u001b[38;5;21m_numba_type_\u001b[39m(\u001b[38;5;28mself\u001b[39m):\n\u001b[1;32m--> 282\u001b[0m     \u001b[38;5;28;01mif\u001b[39;00m \u001b[38;5;28;43mself\u001b[39;49m\u001b[38;5;241;43m.\u001b[39;49m\u001b[43m_list_type\u001b[49m\u001b[43m \u001b[49m\u001b[38;5;129;43;01mis\u001b[39;49;00m\u001b[43m \u001b[49m\u001b[38;5;28;43;01mNone\u001b[39;49;00m:\n\u001b[0;32m    283\u001b[0m         \u001b[38;5;28;01mraise\u001b[39;00m \u001b[38;5;167;01mTypeError\u001b[39;00m(\u001b[38;5;124m\"\u001b[39m\u001b[38;5;124minvalid operation on untyped list\u001b[39m\u001b[38;5;124m\"\u001b[39m)\n\u001b[0;32m    284\u001b[0m     \u001b[38;5;28;01mreturn\u001b[39;00m \u001b[38;5;28mself\u001b[39m\u001b[38;5;241m.\u001b[39m_list_type\n",
      "\u001b[1;31mKeyboardInterrupt\u001b[0m: "
     ]
    }
   ],
   "source": [
    "# Import necessary libraries\n",
    "from aeon.distances import pairwise_distance, ddtw_distance\n",
    "import numpy as np\n",
    "from aeon.datasets import load_from_tsfile\n",
    "from itertools import combinations\n",
    "import matplotlib.pyplot as plt\n",
    "from tqdm import tqdm\n",
    "import time\n",
    "\n",
    "\n",
    "def load_and_validate_data(file_path):\n",
    "    \"\"\"Load and validate time series data.\"\"\"\n",
    "    X, y = load_from_tsfile(full_file_path_and_name=file_path)\n",
    "    print(f\"Loaded {X.shape[0]} time series with shape {X.shape[1:]}.\")\n",
    "    return X\n",
    "\n",
    "\n",
    "def calculate_distances(X, metric_function, metric_name):\n",
    "    \"\"\"Calculate pairwise distances using the specified metric with progress tracking.\"\"\"\n",
    "    num_ts = X.shape[0]\n",
    "    total_combinations = (num_ts * (num_ts - 1)) // 2  # Number of combinations\n",
    "\n",
    "    print(f\"Calculating {metric_name}...\")\n",
    "    distances = []\n",
    "    start_time = time.time()\n",
    "\n",
    "    with tqdm(total=total_combinations, desc=metric_name) as pbar:\n",
    "        for (i, ts1), (j, ts2) in combinations(enumerate(X[:, 0]), 2):\n",
    "            distances.append((metric_function(ts1, ts2), i, j))\n",
    "            pbar.update(1)  # Update the progress bar\n",
    "\n",
    "    elapsed_time = time.time() - start_time\n",
    "    print(f\"{metric_name} completed in {elapsed_time:.2f} seconds.\")\n",
    "    return distances, elapsed_time\n",
    "\n",
    "def summarize_distances(distances, distance_type):\n",
    "    \"\"\"Summarize and print statistics for the given distances.\"\"\"\n",
    "    distances_only = [d[0] for d in distances]\n",
    "    smallest = min(distances, key=lambda x: x[0])\n",
    "    largest = max(distances, key=lambda x: x[0])\n",
    "    median_dist = np.median(distances_only)\n",
    "\n",
    "    print(f\"\\n{distance_type} Analysis:\")\n",
    "    print(f\"Median Distance: {median_dist:.4f}\")\n",
    "    print(f\"Smallest Distance: {smallest[0]:.4f} (between series {smallest[1]} and {smallest[2]})\")\n",
    "    print(f\"Largest Distance: {largest[0]:.4f} (between series {largest[1]} and {largest[2]})\")\n",
    "\n",
    "    return smallest, largest\n",
    "\n",
    "\n",
    "def plot_time_series_comparison(X, pair, title, axs):\n",
    "    \"\"\"Plot two time series with a title.\"\"\"\n",
    "    ts1, ts2 = X[pair[1], 0], X[pair[2], 0]\n",
    "    axs.plot(ts1, label=\"Time Series 1\")\n",
    "    axs.plot(ts2, label=\"Time Series 2\")\n",
    "    axs.set_title(title)\n",
    "    axs.legend()\n",
    "    axs.grid(True)\n",
    "\n",
    "\n",
    "def main():\n",
    "    # Load data\n",
    "    file_path = './data/ts_files/train.ts'\n",
    "    X = load_and_validate_data(file_path)\n",
    "\n",
    "    # Calculate distances\n",
    "    euclidean_distances, euclidean_time = calculate_distances(\n",
    "        X, lambda x, y: pairwise_distance(x, y, metric=\"euclidean\"), \"Euclidean Distance\"\n",
    "    )\n",
    "    ddtw_distances, ddtw_time = calculate_distances(X, ddtw_distance, \"Derivative DTW Distance\")\n",
    "\n",
    "    # Summarize distances\n",
    "    euclidean_smallest, euclidean_largest = summarize_distances(euclidean_distances, \"Euclidean Distance\")\n",
    "    ddtw_smallest, ddtw_largest = summarize_distances(ddtw_distances, \"Derivative DTW Distance\")\n",
    "\n",
    "    # Print time analysis\n",
    "    print(f\"\\nTiming Analysis:\")\n",
    "    print(f\"Euclidean Distance took {euclidean_time:.2f} seconds.\")\n",
    "    print(f\"Derivative DTW Distance took {ddtw_time:.2f} seconds.\")\n",
    "\n",
    "    # Plot the time series comparisons\n",
    "    fig, axs = plt.subplots(2, 2, figsize=(12, 8))\n",
    "\n",
    "    plot_time_series_comparison(X, euclidean_smallest, \"Smallest Euclidean Distance\", axs[0, 0])\n",
    "    plot_time_series_comparison(X, ddtw_smallest, \"Smallest DDTW Distance\", axs[0, 1])\n",
    "    plot_time_series_comparison(X, euclidean_largest, \"Largest Euclidean Distance\", axs[1, 0])\n",
    "    plot_time_series_comparison(X, ddtw_largest, \"Largest DDTW Distance\", axs[1, 1])\n",
    "\n",
    "    plt.tight_layout()\n",
    "    plt.show()\n",
    "\n",
    "\n",
    "# Run the main function\n",
    "main()"
   ]
  },
  {
   "cell_type": "markdown",
   "metadata": {},
   "source": [
    "# TENTANDO PARALELIZAr"
   ]
  },
  {
   "cell_type": "code",
   "execution_count": null,
   "metadata": {},
   "outputs": [
    {
     "name": "stdout",
     "output_type": "stream",
     "text": [
      "Loaded 6000 time series with shape (1, 137).\n",
      "Calculating Euclidean Distance...\n"
     ]
    },
    {
     "name": "stderr",
     "output_type": "stream",
     "text": [
      "Euclidean Distance:   0%|          | 0/17997000 [00:00<?, ?it/s]"
     ]
    }
   ],
   "source": [
    "from aeon.distances import pairwise_distance, ddtw_distance\n",
    "import numpy as np\n",
    "from aeon.datasets import load_from_tsfile\n",
    "from itertools import combinations\n",
    "import matplotlib.pyplot as plt\n",
    "from tqdm import tqdm\n",
    "import time\n",
    "from concurrent.futures import ProcessPoolExecutor\n",
    "\n",
    "\n",
    "def load_and_validate_data(file_path):\n",
    "    \"\"\"Load and validate time series data.\"\"\"\n",
    "    X, y = load_from_tsfile(full_file_path_and_name=file_path)\n",
    "    print(f\"Loaded {X.shape[0]} time series with shape {X.shape[1:]}.\")\n",
    "    return X\n",
    "\n",
    "\n",
    "def calculate_pairwise_distance(i, ts1, j, ts2, metric_function):\n",
    "    \"\"\"Helper function to calculate pairwise distance in parallel.\"\"\"\n",
    "    distance = metric_function(ts1, ts2)\n",
    "    return (distance, i, j)\n",
    "\n",
    "\n",
    "def calculate_distances(X, metric_function, metric_name):\n",
    "    \"\"\"Calculate pairwise distances using the specified metric with parallel processing.\"\"\"\n",
    "    num_ts = X.shape[0]\n",
    "    total_combinations = (num_ts * (num_ts - 1)) // 2  # Number of combinations\n",
    "\n",
    "    print(f\"Calculating {metric_name}...\")\n",
    "    \n",
    "    start_time = time.time()\n",
    "\n",
    "    # Prepare list of arguments for parallel processing\n",
    "    tasks = [\n",
    "        (i, X[i, 0], j, X[j, 0], metric_function)\n",
    "        for i, j in combinations(range(num_ts), 2)\n",
    "    ]\n",
    "    \n",
    "    # Create a tqdm object to track progress\n",
    "    with tqdm(total=total_combinations, desc=metric_name) as pbar:\n",
    "        results = []\n",
    "        # Use ProcessPoolExecutor to parallelize distance calculations\n",
    "        with ProcessPoolExecutor() as executor:\n",
    "            futures = [executor.submit(calculate_pairwise_distance, *task) for task in tasks]\n",
    "\n",
    "            # As the futures complete, update the progress bar and collect results\n",
    "            for future in futures:\n",
    "                result = future.result()  # Block until the result is ready\n",
    "                results.append(result)\n",
    "                pbar.update(1)  # Update progress bar after each completed task\n",
    "\n",
    "    elapsed_time = time.time() - start_time\n",
    "    print(f\"{metric_name} completed in {elapsed_time:.2f} seconds.\")\n",
    "    return results, elapsed_time\n",
    "\n",
    "\n",
    "def summarize_distances(distances, distance_type):\n",
    "    \"\"\"Summarize and print statistics for the given distances.\"\"\"\n",
    "    distances_only = [d[0] for d in distances]\n",
    "    smallest = min(distances, key=lambda x: x[0])\n",
    "    largest = max(distances, key=lambda x: x[0])\n",
    "    median_dist = np.median(distances_only)\n",
    "\n",
    "    print(f\"\\n{distance_type} Analysis:\")\n",
    "    print(f\"Median Distance: {median_dist:.4f}\")\n",
    "    print(f\"Smallest Distance: {smallest[0]:.4f} (between series {smallest[1]} and {smallest[2]})\")\n",
    "    print(f\"Largest Distance: {largest[0]:.4f} (between series {largest[1]} and {largest[2]})\")\n",
    "\n",
    "    return smallest, largest\n",
    "\n",
    "\n",
    "def plot_time_series_comparison(X, pair, title, axs):\n",
    "    \"\"\"Plot two time series with a title.\"\"\"\n",
    "    ts1, ts2 = X[pair[1], 0], X[pair[2], 0]\n",
    "    axs.plot(ts1, label=\"Time Series 1\")\n",
    "    axs.plot(ts2, label=\"Time Series 2\")\n",
    "    axs.set_title(title)\n",
    "    axs.legend()\n",
    "    axs.grid(True)\n",
    "\n",
    "\n",
    "def main():\n",
    "    # Load data\n",
    "    file_path = './data/ts_files/train.ts'\n",
    "    X = load_and_validate_data(file_path)\n",
    "\n",
    "    # Calculate distances\n",
    "    euclidean_distances, euclidean_time = calculate_distances(\n",
    "        X, lambda x, y: pairwise_distance(x, y, metric=\"euclidean\"), \"Euclidean Distance\"\n",
    "    )\n",
    "    ddtw_distances, ddtw_time = calculate_distances(X, ddtw_distance, \"Derivative DTW Distance\")\n",
    "\n",
    "    # Summarize distances\n",
    "    euclidean_smallest, euclidean_largest = summarize_distances(euclidean_distances, \"Euclidean Distance\")\n",
    "    ddtw_smallest, ddtw_largest = summarize_distances(ddtw_distances, \"Derivative DTW Distance\")\n",
    "\n",
    "    # Print time analysis\n",
    "    print(f\"\\nTiming Analysis:\")\n",
    "    print(f\"Euclidean Distance took {euclidean_time:.2f} seconds.\")\n",
    "    print(f\"Derivative DTW Distance took {ddtw_time:.2f} seconds.\")\n",
    "\n",
    "    # Plot the time series comparisons\n",
    "    fig, axs = plt.subplots(2, 2, figsize=(12, 8))\n",
    "\n",
    "    plot_time_series_comparison(X, euclidean_smallest, \"Smallest Euclidean Distance\", axs[0, 0])\n",
    "    plot_time_series_comparison(X, ddtw_smallest, \"Smallest DDTW Distance\", axs[0, 1])\n",
    "    plot_time_series_comparison(X, euclidean_largest, \"Largest Euclidean Distance\", axs[1, 0])\n",
    "    plot_time_series_comparison(X, ddtw_largest, \"Largest DDTW Distance\", axs[1, 1])\n",
    "\n",
    "    plt.tight_layout()\n",
    "    plt.show()\n",
    "\n",
    "\n",
    "# Run the main function\n",
    "main()"
   ]
  },
  {
   "cell_type": "markdown",
   "metadata": {},
   "source": [
    "# Trabalhos relacionados"
   ]
  },
  {
   "cell_type": "markdown",
   "metadata": {},
   "source": [
    "# Algoritimos Utilizados"
   ]
  },
  {
   "cell_type": "markdown",
   "metadata": {},
   "source": [
    "# Metodologia"
   ]
  },
  {
   "cell_type": "markdown",
   "metadata": {},
   "source": [
    "## Carregando o dataset"
   ]
  },
  {
   "cell_type": "markdown",
   "metadata": {},
   "source": [
    "# Resultados e Discussões"
   ]
  },
  {
   "cell_type": "code",
   "execution_count": null,
   "metadata": {},
   "outputs": [],
   "source": []
  }
 ],
 "metadata": {
  "kernelspec": {
   "display_name": "Python 3",
   "language": "python",
   "name": "python3"
  },
  "language_info": {
   "codemirror_mode": {
    "name": "ipython",
    "version": 3
   },
   "file_extension": ".py",
   "mimetype": "text/x-python",
   "name": "python",
   "nbconvert_exporter": "python",
   "pygments_lexer": "ipython3",
   "version": "3.10.11"
  }
 },
 "nbformat": 4,
 "nbformat_minor": 2
}
