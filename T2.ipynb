{
 "cells": [
  {
   "cell_type": "markdown",
   "metadata": {},
   "source": [
    "# SCC5977 - Aprendizado de Máquina para Séries Temporais (2024)\n",
    "\n",
    "## Grupo\n",
    "> André Guarnier De Mitri - 11395579 \\\n",
    "> Fabio Cavaleti - 11200550\\\n",
    "> Giovani Decico Lucafó - 10288779\n",
    "\n",
    "## Problema\n",
    "- A Kolmogorov Arnold Network consegue resolver problemas de classificação em Séries Temporais?\n",
    "- Se ela for utilizada com um extrator de feature o seu resultado melhora?\n"
   ]
  },
  {
   "cell_type": "markdown",
   "metadata": {},
   "source": [
    "# KAN\n",
    "\n",
    "Aqui treinamos a rede KAN, com parametros\n",
    "> steps = 20 \\\n",
    "> width=[[137, 0], [50, 0], [30, 0], [3, 0]] \\\n",
    "> grid=5 \\\n",
    "> seed=42\n",
    "\n",
    "A série é univariada de tamanho 137 e possuí 3 classes."
   ]
  },
  {
   "cell_type": "code",
   "execution_count": 1,
   "metadata": {},
   "outputs": [
    {
     "name": "stdout",
     "output_type": "stream",
     "text": [
      "checkpoint directory created: ./kan_results\n",
      "saving model version 0.0\n"
     ]
    },
    {
     "name": "stderr",
     "output_type": "stream",
     "text": [
      "| train_loss: 8.32e-03 | test_loss: 2.84e+00 | reg: 9.99e+02 | : 100%|█| 50/50 [01:25<00:00,  1.71s/\n"
     ]
    },
    {
     "name": "stdout",
     "output_type": "stream",
     "text": [
      "saving model version 0.1\n",
      "checkpoint directory created: ./kan_results\n",
      "saving model version 0.0\n"
     ]
    },
    {
     "name": "stderr",
     "output_type": "stream",
     "text": [
      "| train_loss: 4.08e-04 | test_loss: 3.82e+00 | reg: 2.03e+03 | : 100%|█| 50/50 [01:19<00:00,  1.59s/\n"
     ]
    },
    {
     "name": "stdout",
     "output_type": "stream",
     "text": [
      "saving model version 0.1\n",
      "checkpoint directory created: ./kan_results\n",
      "saving model version 0.0\n"
     ]
    },
    {
     "name": "stderr",
     "output_type": "stream",
     "text": [
      "| train_loss: 4.08e-04 | test_loss: 3.82e+00 | reg: 2.03e+03 | : 100%|█| 50/50 [01:17<00:00,  1.55s/\n"
     ]
    },
    {
     "name": "stdout",
     "output_type": "stream",
     "text": [
      "saving model version 0.1\n",
      "checkpoint directory created: ./kan_results\n",
      "saving model version 0.0\n"
     ]
    },
    {
     "name": "stderr",
     "output_type": "stream",
     "text": [
      "| train_loss: 4.08e-04 | test_loss: 3.82e+00 | reg: 2.03e+03 | : 100%|█| 50/50 [01:17<00:00,  1.55s/\n"
     ]
    },
    {
     "name": "stdout",
     "output_type": "stream",
     "text": [
      "saving model version 0.1\n",
      "checkpoint directory created: ./kan_results\n",
      "saving model version 0.0\n"
     ]
    },
    {
     "name": "stderr",
     "output_type": "stream",
     "text": [
      "| train_loss: 4.08e-04 | test_loss: 3.82e+00 | reg: 2.03e+03 | : 100%|█| 50/50 [01:18<00:00,  1.57s/\n"
     ]
    },
    {
     "name": "stdout",
     "output_type": "stream",
     "text": [
      "saving model version 0.1\n"
     ]
    }
   ],
   "source": [
    "import os\n",
    "import numpy as np\n",
    "import json\n",
    "import matplotlib.pyplot as plt\n",
    "from aeon.datasets import load_from_ts_file\n",
    "from sklearn.preprocessing import LabelEncoder\n",
    "from kan import KAN\n",
    "import torch\n",
    "\n",
    "# Settings\n",
    "NUM_EXPERIMENTS = 5\n",
    "steps = 50\n",
    "\n",
    "# Load training and testing datasets\n",
    "if not os.path.exists(\"./data/ts_files/train.ts\") or not os.path.exists(\"./data/ts_files/test.ts\"):\n",
    "    raise FileNotFoundError(\"Train or test .ts files not found in the specified directory.\")\n",
    "\n",
    "X_train, y_train = load_from_ts_file(\"./data/ts_files/train.ts\")\n",
    "X_test, y_test = load_from_ts_file(\"./data/ts_files/test.ts\")\n",
    "\n",
    "# Encode string labels into integers\n",
    "label_encoder = LabelEncoder()\n",
    "y_train_encoded = label_encoder.fit_transform(y_train)\n",
    "y_test_encoded = label_encoder.transform(y_test)\n",
    "\n",
    "# Set device for training\n",
    "device = torch.device(\"cuda\" if torch.cuda.is_available() else \"cpu\")\n",
    "\n",
    "# Prepare data for KAN\n",
    "train_input = torch.from_numpy(X_train.squeeze(1)).float().to(device)\n",
    "train_label = torch.from_numpy(y_train_encoded).long().to(device)\n",
    "test_input = torch.from_numpy(X_test.squeeze(1)).float().to(device)\n",
    "test_label = torch.from_numpy(y_test_encoded).long().to(device)\n",
    "\n",
    "# Extract dimensions for KAN\n",
    "n_instances, n_timepoints = train_input.shape  # 6000, 137\n",
    "n_classes = len(np.unique(y_train_encoded))  # number of unique classes\n",
    "\n",
    "# Prepare dataset for KAN\n",
    "dataset = {\n",
    "    \"train_input\": train_input,\n",
    "    \"train_label\": train_label,\n",
    "    \"test_input\": test_input,\n",
    "    \"test_label\": test_label,\n",
    "}\n",
    "\n",
    "# Iteratively refine grids\n",
    "train_losses = []\n",
    "test_losses = []\n",
    "train_accuracies = []\n",
    "test_accuracies = []\n",
    "experiment_num = []\n",
    "\n",
    "def train_acc():\n",
    "    return torch.mean((torch.argmax(kan_model(dataset['train_input']), dim=1) == dataset['train_label']).float())\n",
    "\n",
    "def test_acc():\n",
    "    return torch.mean((torch.argmax(kan_model(dataset['test_input']), dim=1) == dataset['test_label']).float())\n",
    "\n",
    "for experiment in range(NUM_EXPERIMENTS):\n",
    "    kan_model = KAN(\n",
    "        ckpt_path='./kan_results',\n",
    "        width=[[n_timepoints, 0], [50, 0], [30, 0], [n_classes, 0]],\n",
    "        grid=5,\n",
    "        k=3,\n",
    "        seed=42,\n",
    "        device=device,\n",
    "    )\n",
    "\n",
    "    # Train the model and capture the results\n",
    "    results = kan_model.fit(\n",
    "        dataset=dataset,\n",
    "        steps=steps,\n",
    "        metrics=(train_acc, test_acc),\n",
    "        loss_fn=torch.nn.CrossEntropyLoss(),\n",
    "        log=1,\n",
    "    )\n",
    "    experiment_num.append(experiment)\n",
    "    train_losses.append(results[\"train_loss\"][-1])\n",
    "    test_losses.append(results[\"test_loss\"][-1])\n",
    "    train_accuracies.append(results[\"train_acc\"][-1])\n",
    "    test_accuracies.append(results[\"test_acc\"][-1])\n",
    "\n",
    "# Save the metrics to JSON\n",
    "metrics = {\n",
    "    \"experiment\": experiment_num,\n",
    "    \"train_loss\": [loss.item() for loss in train_losses],\n",
    "    \"test_loss\": [loss.item() for loss in test_losses],\n",
    "    \"train_acc\": train_accuracies,\n",
    "    \"test_acc\": test_accuracies,\n",
    "}\n",
    "with open(\"kan_metrics.json\", \"w\") as f:\n",
    "    json.dump(metrics, f)"
   ]
  },
  {
   "cell_type": "markdown",
   "metadata": {},
   "source": [
    "# Treinamento da FCN\n",
    "Aqui uma FCN é treinada com parâmetros\n",
    "> max_epochs = 100\n",
    "> dimension_num = 1 (series univariadas)\n",
    "> num_classes = 3"
   ]
  },
  {
   "cell_type": "code",
   "execution_count": 2,
   "metadata": {},
   "outputs": [
    {
     "name": "stderr",
     "output_type": "stream",
     "text": [
      "GPU available: True (cuda), used: True\n",
      "TPU available: False, using: 0 TPU cores\n",
      "HPU available: False, using: 0 HPUs\n",
      "\u001b[34m\u001b[1mwandb\u001b[0m: Using wandb-core as the SDK backend.  Please refer to https://wandb.me/wandb-core for more information.\n",
      "\u001b[34m\u001b[1mwandb\u001b[0m: Currently logged in as: \u001b[33mandremitri\u001b[0m. Use \u001b[1m`wandb login --relogin`\u001b[0m to force relogin\n"
     ]
    },
    {
     "data": {
      "text/html": [
       "Tracking run with wandb version 0.18.7"
      ],
      "text/plain": [
       "<IPython.core.display.HTML object>"
      ]
     },
     "metadata": {},
     "output_type": "display_data"
    },
    {
     "data": {
      "text/html": [
       "Run data is saved locally in <code>.\\wandb\\run-20241204_172252-tf4e2ora</code>"
      ],
      "text/plain": [
       "<IPython.core.display.HTML object>"
      ]
     },
     "metadata": {},
     "output_type": "display_data"
    },
    {
     "data": {
      "text/html": [
       "Syncing run <strong><a href='https://wandb.ai/andremitri/FCN/runs/tf4e2ora' target=\"_blank\">bright-fire-10</a></strong> to <a href='https://wandb.ai/andremitri/FCN' target=\"_blank\">Weights & Biases</a> (<a href='https://wandb.me/developer-guide' target=\"_blank\">docs</a>)<br/>"
      ],
      "text/plain": [
       "<IPython.core.display.HTML object>"
      ]
     },
     "metadata": {},
     "output_type": "display_data"
    },
    {
     "data": {
      "text/html": [
       " View project at <a href='https://wandb.ai/andremitri/FCN' target=\"_blank\">https://wandb.ai/andremitri/FCN</a>"
      ],
      "text/plain": [
       "<IPython.core.display.HTML object>"
      ]
     },
     "metadata": {},
     "output_type": "display_data"
    },
    {
     "data": {
      "text/html": [
       " View run at <a href='https://wandb.ai/andremitri/FCN/runs/tf4e2ora' target=\"_blank\">https://wandb.ai/andremitri/FCN/runs/tf4e2ora</a>"
      ],
      "text/plain": [
       "<IPython.core.display.HTML object>"
      ]
     },
     "metadata": {},
     "output_type": "display_data"
    },
    {
     "name": "stderr",
     "output_type": "stream",
     "text": [
      "LOCAL_RANK: 0 - CUDA_VISIBLE_DEVICES: [0]\n",
      "c:\\Users\\andre\\anaconda3\\envs\\pykan\\lib\\site-packages\\pytorch_lightning\\trainer\\connectors\\data_connector.py:419: Consider setting `persistent_workers=True` in 'train_dataloader' to speed up the dataloader worker initialization.\n"
     ]
    },
    {
     "name": "stdout",
     "output_type": "stream",
     "text": [
      "Epoch 0:   0%|          | 0/94 [00:00<?, ?it/s] "
     ]
    },
    {
     "name": "stderr",
     "output_type": "stream",
     "text": [
      "c:\\Users\\andre\\anaconda3\\envs\\pykan\\lib\\site-packages\\torch\\nn\\modules\\conv.py:370: UserWarning: Using padding='same' with even kernel lengths and odd dilation may require a zero-padded copy of the input be created (Triggered internally at C:\\actions-runner\\_work\\pytorch\\pytorch\\builder\\windows\\pytorch\\aten\\src\\ATen\\native\\Convolution.cpp:1037.)\n",
      "  return F.conv1d(\n"
     ]
    },
    {
     "name": "stdout",
     "output_type": "stream",
     "text": [
      "Epoch 1:   0%|          | 0/94 [00:00<?, ?it/s, v_num=2ora, train_loss_step=1.010, train_accuracy_step=0.500, train_f1_step=0.384, train_loss_epoch=1.040, train_accuracy_epoch=0.483, train_f1_epoch=0.380]         "
     ]
    },
    {
     "name": "stderr",
     "output_type": "stream",
     "text": [
      "c:\\Users\\andre\\anaconda3\\envs\\pykan\\lib\\site-packages\\pytorch_lightning\\callbacks\\model_checkpoint.py:384: `ModelCheckpoint(monitor='f1')` could not find the monitored key in the returned metrics: ['train_loss', 'train_loss_step', 'train_accuracy', 'train_accuracy_step', 'train_f1', 'train_f1_step', 'train_loss_epoch', 'train_accuracy_epoch', 'train_f1_epoch', 'epoch', 'step']. HINT: Did you call `log('f1', value)` in the `LightningModule`?\n"
     ]
    },
    {
     "name": "stdout",
     "output_type": "stream",
     "text": [
      "Epoch 99: 100%|██████████| 94/94 [00:23<00:00,  3.96it/s, v_num=2ora, train_loss_step=0.669, train_accuracy_step=0.771, train_f1_step=0.768, train_loss_epoch=0.733, train_accuracy_epoch=0.724, train_f1_epoch=0.722]"
     ]
    },
    {
     "name": "stderr",
     "output_type": "stream",
     "text": [
      "`Trainer.fit` stopped: `max_epochs=100` reached.\n"
     ]
    },
    {
     "name": "stdout",
     "output_type": "stream",
     "text": [
      "Epoch 99: 100%|██████████| 94/94 [00:23<00:00,  3.96it/s, v_num=2ora, train_loss_step=0.669, train_accuracy_step=0.771, train_f1_step=0.768, train_loss_epoch=0.733, train_accuracy_epoch=0.724, train_f1_epoch=0.722]\n"
     ]
    },
    {
     "name": "stderr",
     "output_type": "stream",
     "text": [
      "LOCAL_RANK: 0 - CUDA_VISIBLE_DEVICES: [0]\n",
      "c:\\Users\\andre\\anaconda3\\envs\\pykan\\lib\\site-packages\\pytorch_lightning\\trainer\\connectors\\data_connector.py:419: Consider setting `persistent_workers=True` in 'test_dataloader' to speed up the dataloader worker initialization.\n"
     ]
    },
    {
     "name": "stdout",
     "output_type": "stream",
     "text": [
      "Testing DataLoader 0: 100%|██████████| 24/24 [00:00<00:00, 114.27it/s]\n"
     ]
    },
    {
     "data": {
      "text/html": [
       "<pre style=\"white-space:pre;overflow-x:auto;line-height:normal;font-family:Menlo,'DejaVu Sans Mono',consolas,'Courier New',monospace\">┏━━━━━━━━━━━━━━━━━━━━━━━━━━━┳━━━━━━━━━━━━━━━━━━━━━━━━━━━┓\n",
       "┃<span style=\"font-weight: bold\">        Test metric        </span>┃<span style=\"font-weight: bold\">       DataLoader 0        </span>┃\n",
       "┡━━━━━━━━━━━━━━━━━━━━━━━━━━━╇━━━━━━━━━━━━━━━━━━━━━━━━━━━┩\n",
       "│<span style=\"color: #008080; text-decoration-color: #008080\">         accuracy          </span>│<span style=\"color: #800080; text-decoration-color: #800080\">    0.40666666626930237    </span>│\n",
       "│<span style=\"color: #008080; text-decoration-color: #008080\">            f1             </span>│<span style=\"color: #800080; text-decoration-color: #800080\">    0.20691214501857758    </span>│\n",
       "│<span style=\"color: #008080; text-decoration-color: #008080\">           loss            </span>│<span style=\"color: #800080; text-decoration-color: #800080\">     1.069551706314087     </span>│\n",
       "└───────────────────────────┴───────────────────────────┘\n",
       "</pre>\n"
      ],
      "text/plain": [
       "┏━━━━━━━━━━━━━━━━━━━━━━━━━━━┳━━━━━━━━━━━━━━━━━━━━━━━━━━━┓\n",
       "┃\u001b[1m \u001b[0m\u001b[1m       Test metric       \u001b[0m\u001b[1m \u001b[0m┃\u001b[1m \u001b[0m\u001b[1m      DataLoader 0       \u001b[0m\u001b[1m \u001b[0m┃\n",
       "┡━━━━━━━━━━━━━━━━━━━━━━━━━━━╇━━━━━━━━━━━━━━━━━━━━━━━━━━━┩\n",
       "│\u001b[36m \u001b[0m\u001b[36m        accuracy         \u001b[0m\u001b[36m \u001b[0m│\u001b[35m \u001b[0m\u001b[35m   0.40666666626930237   \u001b[0m\u001b[35m \u001b[0m│\n",
       "│\u001b[36m \u001b[0m\u001b[36m           f1            \u001b[0m\u001b[36m \u001b[0m│\u001b[35m \u001b[0m\u001b[35m   0.20691214501857758   \u001b[0m\u001b[35m \u001b[0m│\n",
       "│\u001b[36m \u001b[0m\u001b[36m          loss           \u001b[0m\u001b[36m \u001b[0m│\u001b[35m \u001b[0m\u001b[35m    1.069551706314087    \u001b[0m\u001b[35m \u001b[0m│\n",
       "└───────────────────────────┴───────────────────────────┘\n"
      ]
     },
     "metadata": {},
     "output_type": "display_data"
    },
    {
     "name": "stderr",
     "output_type": "stream",
     "text": [
      "GPU available: True (cuda), used: True\n",
      "TPU available: False, using: 0 TPU cores\n",
      "HPU available: False, using: 0 HPUs\n",
      "c:\\Users\\andre\\anaconda3\\envs\\pykan\\lib\\site-packages\\pytorch_lightning\\loggers\\wandb.py:396: There is a wandb run already in progress and newly created instances of `WandbLogger` will reuse this run. If this is not desired, call `wandb.finish()` before instantiating `WandbLogger`.\n",
      "LOCAL_RANK: 0 - CUDA_VISIBLE_DEVICES: [0]\n",
      "c:\\Users\\andre\\anaconda3\\envs\\pykan\\lib\\site-packages\\pytorch_lightning\\trainer\\connectors\\data_connector.py:419: Consider setting `persistent_workers=True` in 'train_dataloader' to speed up the dataloader worker initialization.\n"
     ]
    },
    {
     "name": "stdout",
     "output_type": "stream",
     "text": [
      "Epoch 99: 100%|██████████| 94/94 [00:22<00:00,  4.09it/s, v_num=2ora, train_loss_step=0.710, train_accuracy_step=0.688, train_f1_step=0.684, train_loss_epoch=0.733, train_accuracy_epoch=0.723, train_f1_epoch=0.723]"
     ]
    },
    {
     "name": "stderr",
     "output_type": "stream",
     "text": [
      "`Trainer.fit` stopped: `max_epochs=100` reached.\n"
     ]
    },
    {
     "name": "stdout",
     "output_type": "stream",
     "text": [
      "Epoch 99: 100%|██████████| 94/94 [00:22<00:00,  4.09it/s, v_num=2ora, train_loss_step=0.710, train_accuracy_step=0.688, train_f1_step=0.684, train_loss_epoch=0.733, train_accuracy_epoch=0.723, train_f1_epoch=0.723]\n"
     ]
    },
    {
     "name": "stderr",
     "output_type": "stream",
     "text": [
      "LOCAL_RANK: 0 - CUDA_VISIBLE_DEVICES: [0]\n",
      "c:\\Users\\andre\\anaconda3\\envs\\pykan\\lib\\site-packages\\pytorch_lightning\\trainer\\connectors\\data_connector.py:419: Consider setting `persistent_workers=True` in 'test_dataloader' to speed up the dataloader worker initialization.\n"
     ]
    },
    {
     "name": "stdout",
     "output_type": "stream",
     "text": [
      "Testing DataLoader 0: 100%|██████████| 24/24 [00:00<00:00, 138.16it/s]\n"
     ]
    },
    {
     "data": {
      "text/html": [
       "<pre style=\"white-space:pre;overflow-x:auto;line-height:normal;font-family:Menlo,'DejaVu Sans Mono',consolas,'Courier New',monospace\">┏━━━━━━━━━━━━━━━━━━━━━━━━━━━┳━━━━━━━━━━━━━━━━━━━━━━━━━━━┓\n",
       "┃<span style=\"font-weight: bold\">        Test metric        </span>┃<span style=\"font-weight: bold\">       DataLoader 0        </span>┃\n",
       "┡━━━━━━━━━━━━━━━━━━━━━━━━━━━╇━━━━━━━━━━━━━━━━━━━━━━━━━━━┩\n",
       "│<span style=\"color: #008080; text-decoration-color: #008080\">         accuracy          </span>│<span style=\"color: #800080; text-decoration-color: #800080\">    0.3686666786670685     </span>│\n",
       "│<span style=\"color: #008080; text-decoration-color: #008080\">            f1             </span>│<span style=\"color: #800080; text-decoration-color: #800080\">    0.20630161464214325    </span>│\n",
       "│<span style=\"color: #008080; text-decoration-color: #008080\">           loss            </span>│<span style=\"color: #800080; text-decoration-color: #800080\">    1.1063520908355713     </span>│\n",
       "└───────────────────────────┴───────────────────────────┘\n",
       "</pre>\n"
      ],
      "text/plain": [
       "┏━━━━━━━━━━━━━━━━━━━━━━━━━━━┳━━━━━━━━━━━━━━━━━━━━━━━━━━━┓\n",
       "┃\u001b[1m \u001b[0m\u001b[1m       Test metric       \u001b[0m\u001b[1m \u001b[0m┃\u001b[1m \u001b[0m\u001b[1m      DataLoader 0       \u001b[0m\u001b[1m \u001b[0m┃\n",
       "┡━━━━━━━━━━━━━━━━━━━━━━━━━━━╇━━━━━━━━━━━━━━━━━━━━━━━━━━━┩\n",
       "│\u001b[36m \u001b[0m\u001b[36m        accuracy         \u001b[0m\u001b[36m \u001b[0m│\u001b[35m \u001b[0m\u001b[35m   0.3686666786670685    \u001b[0m\u001b[35m \u001b[0m│\n",
       "│\u001b[36m \u001b[0m\u001b[36m           f1            \u001b[0m\u001b[36m \u001b[0m│\u001b[35m \u001b[0m\u001b[35m   0.20630161464214325   \u001b[0m\u001b[35m \u001b[0m│\n",
       "│\u001b[36m \u001b[0m\u001b[36m          loss           \u001b[0m\u001b[36m \u001b[0m│\u001b[35m \u001b[0m\u001b[35m   1.1063520908355713    \u001b[0m\u001b[35m \u001b[0m│\n",
       "└───────────────────────────┴───────────────────────────┘\n"
      ]
     },
     "metadata": {},
     "output_type": "display_data"
    },
    {
     "name": "stderr",
     "output_type": "stream",
     "text": [
      "GPU available: True (cuda), used: True\n",
      "TPU available: False, using: 0 TPU cores\n",
      "HPU available: False, using: 0 HPUs\n",
      "c:\\Users\\andre\\anaconda3\\envs\\pykan\\lib\\site-packages\\pytorch_lightning\\loggers\\wandb.py:396: There is a wandb run already in progress and newly created instances of `WandbLogger` will reuse this run. If this is not desired, call `wandb.finish()` before instantiating `WandbLogger`.\n",
      "LOCAL_RANK: 0 - CUDA_VISIBLE_DEVICES: [0]\n",
      "c:\\Users\\andre\\anaconda3\\envs\\pykan\\lib\\site-packages\\pytorch_lightning\\trainer\\connectors\\data_connector.py:419: Consider setting `persistent_workers=True` in 'train_dataloader' to speed up the dataloader worker initialization.\n"
     ]
    },
    {
     "name": "stdout",
     "output_type": "stream",
     "text": [
      "Epoch 99: 100%|██████████| 94/94 [00:22<00:00,  4.10it/s, v_num=2ora, train_loss_step=0.731, train_accuracy_step=0.750, train_f1_step=0.745, train_loss_epoch=0.742, train_accuracy_epoch=0.712, train_f1_epoch=0.713]"
     ]
    },
    {
     "name": "stderr",
     "output_type": "stream",
     "text": [
      "`Trainer.fit` stopped: `max_epochs=100` reached.\n"
     ]
    },
    {
     "name": "stdout",
     "output_type": "stream",
     "text": [
      "Epoch 99: 100%|██████████| 94/94 [00:22<00:00,  4.10it/s, v_num=2ora, train_loss_step=0.731, train_accuracy_step=0.750, train_f1_step=0.745, train_loss_epoch=0.742, train_accuracy_epoch=0.712, train_f1_epoch=0.713]\n"
     ]
    },
    {
     "name": "stderr",
     "output_type": "stream",
     "text": [
      "LOCAL_RANK: 0 - CUDA_VISIBLE_DEVICES: [0]\n",
      "c:\\Users\\andre\\anaconda3\\envs\\pykan\\lib\\site-packages\\pytorch_lightning\\trainer\\connectors\\data_connector.py:419: Consider setting `persistent_workers=True` in 'test_dataloader' to speed up the dataloader worker initialization.\n"
     ]
    },
    {
     "name": "stdout",
     "output_type": "stream",
     "text": [
      "Testing DataLoader 0: 100%|██████████| 24/24 [00:00<00:00, 136.34it/s]\n"
     ]
    },
    {
     "data": {
      "text/html": [
       "<pre style=\"white-space:pre;overflow-x:auto;line-height:normal;font-family:Menlo,'DejaVu Sans Mono',consolas,'Courier New',monospace\">┏━━━━━━━━━━━━━━━━━━━━━━━━━━━┳━━━━━━━━━━━━━━━━━━━━━━━━━━━┓\n",
       "┃<span style=\"font-weight: bold\">        Test metric        </span>┃<span style=\"font-weight: bold\">       DataLoader 0        </span>┃\n",
       "┡━━━━━━━━━━━━━━━━━━━━━━━━━━━╇━━━━━━━━━━━━━━━━━━━━━━━━━━━┩\n",
       "│<span style=\"color: #008080; text-decoration-color: #008080\">         accuracy          </span>│<span style=\"color: #800080; text-decoration-color: #800080\">    0.38866665959358215    </span>│\n",
       "│<span style=\"color: #008080; text-decoration-color: #008080\">            f1             </span>│<span style=\"color: #800080; text-decoration-color: #800080\">    0.20897795259952545    </span>│\n",
       "│<span style=\"color: #008080; text-decoration-color: #008080\">           loss            </span>│<span style=\"color: #800080; text-decoration-color: #800080\">     1.100414752960205     </span>│\n",
       "└───────────────────────────┴───────────────────────────┘\n",
       "</pre>\n"
      ],
      "text/plain": [
       "┏━━━━━━━━━━━━━━━━━━━━━━━━━━━┳━━━━━━━━━━━━━━━━━━━━━━━━━━━┓\n",
       "┃\u001b[1m \u001b[0m\u001b[1m       Test metric       \u001b[0m\u001b[1m \u001b[0m┃\u001b[1m \u001b[0m\u001b[1m      DataLoader 0       \u001b[0m\u001b[1m \u001b[0m┃\n",
       "┡━━━━━━━━━━━━━━━━━━━━━━━━━━━╇━━━━━━━━━━━━━━━━━━━━━━━━━━━┩\n",
       "│\u001b[36m \u001b[0m\u001b[36m        accuracy         \u001b[0m\u001b[36m \u001b[0m│\u001b[35m \u001b[0m\u001b[35m   0.38866665959358215   \u001b[0m\u001b[35m \u001b[0m│\n",
       "│\u001b[36m \u001b[0m\u001b[36m           f1            \u001b[0m\u001b[36m \u001b[0m│\u001b[35m \u001b[0m\u001b[35m   0.20897795259952545   \u001b[0m\u001b[35m \u001b[0m│\n",
       "│\u001b[36m \u001b[0m\u001b[36m          loss           \u001b[0m\u001b[36m \u001b[0m│\u001b[35m \u001b[0m\u001b[35m    1.100414752960205    \u001b[0m\u001b[35m \u001b[0m│\n",
       "└───────────────────────────┴───────────────────────────┘\n"
      ]
     },
     "metadata": {},
     "output_type": "display_data"
    },
    {
     "name": "stderr",
     "output_type": "stream",
     "text": [
      "GPU available: True (cuda), used: True\n",
      "TPU available: False, using: 0 TPU cores\n",
      "HPU available: False, using: 0 HPUs\n",
      "c:\\Users\\andre\\anaconda3\\envs\\pykan\\lib\\site-packages\\pytorch_lightning\\loggers\\wandb.py:396: There is a wandb run already in progress and newly created instances of `WandbLogger` will reuse this run. If this is not desired, call `wandb.finish()` before instantiating `WandbLogger`.\n",
      "LOCAL_RANK: 0 - CUDA_VISIBLE_DEVICES: [0]\n",
      "c:\\Users\\andre\\anaconda3\\envs\\pykan\\lib\\site-packages\\pytorch_lightning\\trainer\\connectors\\data_connector.py:419: Consider setting `persistent_workers=True` in 'train_dataloader' to speed up the dataloader worker initialization.\n"
     ]
    },
    {
     "name": "stdout",
     "output_type": "stream",
     "text": [
      "Epoch 99: 100%|██████████| 94/94 [00:23<00:00,  4.00it/s, v_num=2ora, train_loss_step=0.814, train_accuracy_step=0.583, train_f1_step=0.561, train_loss_epoch=0.733, train_accuracy_epoch=0.720, train_f1_epoch=0.718]"
     ]
    },
    {
     "name": "stderr",
     "output_type": "stream",
     "text": [
      "`Trainer.fit` stopped: `max_epochs=100` reached.\n"
     ]
    },
    {
     "name": "stdout",
     "output_type": "stream",
     "text": [
      "Epoch 99: 100%|██████████| 94/94 [00:23<00:00,  4.00it/s, v_num=2ora, train_loss_step=0.814, train_accuracy_step=0.583, train_f1_step=0.561, train_loss_epoch=0.733, train_accuracy_epoch=0.720, train_f1_epoch=0.718]\n"
     ]
    },
    {
     "name": "stderr",
     "output_type": "stream",
     "text": [
      "LOCAL_RANK: 0 - CUDA_VISIBLE_DEVICES: [0]\n",
      "c:\\Users\\andre\\anaconda3\\envs\\pykan\\lib\\site-packages\\pytorch_lightning\\trainer\\connectors\\data_connector.py:419: Consider setting `persistent_workers=True` in 'test_dataloader' to speed up the dataloader worker initialization.\n"
     ]
    },
    {
     "name": "stdout",
     "output_type": "stream",
     "text": [
      "Testing DataLoader 0: 100%|██████████| 24/24 [00:00<00:00, 107.12it/s]\n"
     ]
    },
    {
     "data": {
      "text/html": [
       "<pre style=\"white-space:pre;overflow-x:auto;line-height:normal;font-family:Menlo,'DejaVu Sans Mono',consolas,'Courier New',monospace\">┏━━━━━━━━━━━━━━━━━━━━━━━━━━━┳━━━━━━━━━━━━━━━━━━━━━━━━━━━┓\n",
       "┃<span style=\"font-weight: bold\">        Test metric        </span>┃<span style=\"font-weight: bold\">       DataLoader 0        </span>┃\n",
       "┡━━━━━━━━━━━━━━━━━━━━━━━━━━━╇━━━━━━━━━━━━━━━━━━━━━━━━━━━┩\n",
       "│<span style=\"color: #008080; text-decoration-color: #008080\">         accuracy          </span>│<span style=\"color: #800080; text-decoration-color: #800080\">    0.3946666717529297     </span>│\n",
       "│<span style=\"color: #008080; text-decoration-color: #008080\">            f1             </span>│<span style=\"color: #800080; text-decoration-color: #800080\">    0.21130304038524628    </span>│\n",
       "│<span style=\"color: #008080; text-decoration-color: #008080\">           loss            </span>│<span style=\"color: #800080; text-decoration-color: #800080\">    1.0900062322616577     </span>│\n",
       "└───────────────────────────┴───────────────────────────┘\n",
       "</pre>\n"
      ],
      "text/plain": [
       "┏━━━━━━━━━━━━━━━━━━━━━━━━━━━┳━━━━━━━━━━━━━━━━━━━━━━━━━━━┓\n",
       "┃\u001b[1m \u001b[0m\u001b[1m       Test metric       \u001b[0m\u001b[1m \u001b[0m┃\u001b[1m \u001b[0m\u001b[1m      DataLoader 0       \u001b[0m\u001b[1m \u001b[0m┃\n",
       "┡━━━━━━━━━━━━━━━━━━━━━━━━━━━╇━━━━━━━━━━━━━━━━━━━━━━━━━━━┩\n",
       "│\u001b[36m \u001b[0m\u001b[36m        accuracy         \u001b[0m\u001b[36m \u001b[0m│\u001b[35m \u001b[0m\u001b[35m   0.3946666717529297    \u001b[0m\u001b[35m \u001b[0m│\n",
       "│\u001b[36m \u001b[0m\u001b[36m           f1            \u001b[0m\u001b[36m \u001b[0m│\u001b[35m \u001b[0m\u001b[35m   0.21130304038524628   \u001b[0m\u001b[35m \u001b[0m│\n",
       "│\u001b[36m \u001b[0m\u001b[36m          loss           \u001b[0m\u001b[36m \u001b[0m│\u001b[35m \u001b[0m\u001b[35m   1.0900062322616577    \u001b[0m\u001b[35m \u001b[0m│\n",
       "└───────────────────────────┴───────────────────────────┘\n"
      ]
     },
     "metadata": {},
     "output_type": "display_data"
    },
    {
     "name": "stderr",
     "output_type": "stream",
     "text": [
      "GPU available: True (cuda), used: True\n",
      "TPU available: False, using: 0 TPU cores\n",
      "HPU available: False, using: 0 HPUs\n",
      "c:\\Users\\andre\\anaconda3\\envs\\pykan\\lib\\site-packages\\pytorch_lightning\\loggers\\wandb.py:396: There is a wandb run already in progress and newly created instances of `WandbLogger` will reuse this run. If this is not desired, call `wandb.finish()` before instantiating `WandbLogger`.\n",
      "LOCAL_RANK: 0 - CUDA_VISIBLE_DEVICES: [0]\n",
      "c:\\Users\\andre\\anaconda3\\envs\\pykan\\lib\\site-packages\\pytorch_lightning\\trainer\\connectors\\data_connector.py:419: Consider setting `persistent_workers=True` in 'train_dataloader' to speed up the dataloader worker initialization.\n"
     ]
    },
    {
     "name": "stdout",
     "output_type": "stream",
     "text": [
      "Epoch 99: 100%|██████████| 94/94 [00:24<00:00,  3.77it/s, v_num=2ora, train_loss_step=0.766, train_accuracy_step=0.771, train_f1_step=0.758, train_loss_epoch=0.734, train_accuracy_epoch=0.724, train_f1_epoch=0.721]"
     ]
    },
    {
     "name": "stderr",
     "output_type": "stream",
     "text": [
      "`Trainer.fit` stopped: `max_epochs=100` reached.\n"
     ]
    },
    {
     "name": "stdout",
     "output_type": "stream",
     "text": [
      "Epoch 99: 100%|██████████| 94/94 [00:24<00:00,  3.77it/s, v_num=2ora, train_loss_step=0.766, train_accuracy_step=0.771, train_f1_step=0.758, train_loss_epoch=0.734, train_accuracy_epoch=0.724, train_f1_epoch=0.721]\n"
     ]
    },
    {
     "name": "stderr",
     "output_type": "stream",
     "text": [
      "LOCAL_RANK: 0 - CUDA_VISIBLE_DEVICES: [0]\n",
      "c:\\Users\\andre\\anaconda3\\envs\\pykan\\lib\\site-packages\\pytorch_lightning\\trainer\\connectors\\data_connector.py:419: Consider setting `persistent_workers=True` in 'test_dataloader' to speed up the dataloader worker initialization.\n"
     ]
    },
    {
     "name": "stdout",
     "output_type": "stream",
     "text": [
      "Testing DataLoader 0: 100%|██████████| 24/24 [00:00<00:00, 120.22it/s]\n"
     ]
    },
    {
     "data": {
      "text/html": [
       "<pre style=\"white-space:pre;overflow-x:auto;line-height:normal;font-family:Menlo,'DejaVu Sans Mono',consolas,'Courier New',monospace\">┏━━━━━━━━━━━━━━━━━━━━━━━━━━━┳━━━━━━━━━━━━━━━━━━━━━━━━━━━┓\n",
       "┃<span style=\"font-weight: bold\">        Test metric        </span>┃<span style=\"font-weight: bold\">       DataLoader 0        </span>┃\n",
       "┡━━━━━━━━━━━━━━━━━━━━━━━━━━━╇━━━━━━━━━━━━━━━━━━━━━━━━━━━┩\n",
       "│<span style=\"color: #008080; text-decoration-color: #008080\">         accuracy          </span>│<span style=\"color: #800080; text-decoration-color: #800080\">    0.39266666769981384    </span>│\n",
       "│<span style=\"color: #008080; text-decoration-color: #008080\">            f1             </span>│<span style=\"color: #800080; text-decoration-color: #800080\">    0.20188860595226288    </span>│\n",
       "│<span style=\"color: #008080; text-decoration-color: #008080\">           loss            </span>│<span style=\"color: #800080; text-decoration-color: #800080\">     1.077689528465271     </span>│\n",
       "└───────────────────────────┴───────────────────────────┘\n",
       "</pre>\n"
      ],
      "text/plain": [
       "┏━━━━━━━━━━━━━━━━━━━━━━━━━━━┳━━━━━━━━━━━━━━━━━━━━━━━━━━━┓\n",
       "┃\u001b[1m \u001b[0m\u001b[1m       Test metric       \u001b[0m\u001b[1m \u001b[0m┃\u001b[1m \u001b[0m\u001b[1m      DataLoader 0       \u001b[0m\u001b[1m \u001b[0m┃\n",
       "┡━━━━━━━━━━━━━━━━━━━━━━━━━━━╇━━━━━━━━━━━━━━━━━━━━━━━━━━━┩\n",
       "│\u001b[36m \u001b[0m\u001b[36m        accuracy         \u001b[0m\u001b[36m \u001b[0m│\u001b[35m \u001b[0m\u001b[35m   0.39266666769981384   \u001b[0m\u001b[35m \u001b[0m│\n",
       "│\u001b[36m \u001b[0m\u001b[36m           f1            \u001b[0m\u001b[36m \u001b[0m│\u001b[35m \u001b[0m\u001b[35m   0.20188860595226288   \u001b[0m\u001b[35m \u001b[0m│\n",
       "│\u001b[36m \u001b[0m\u001b[36m          loss           \u001b[0m\u001b[36m \u001b[0m│\u001b[35m \u001b[0m\u001b[35m    1.077689528465271    \u001b[0m\u001b[35m \u001b[0m│\n",
       "└───────────────────────────┴───────────────────────────┘\n"
      ]
     },
     "metadata": {},
     "output_type": "display_data"
    }
   ],
   "source": [
    "import os\n",
    "import numpy as np\n",
    "import torch\n",
    "import torch.nn as nn\n",
    "from sklearn.preprocessing import LabelEncoder\n",
    "from torch.utils.data import DataLoader\n",
    "from pytorch_lightning import Trainer\n",
    "from pytorch_lightning.callbacks import ModelCheckpoint\n",
    "from models.fcn import FCNClassifier\n",
    "from utils import TimeSeriesClassifier, TimeSeriesDataset\n",
    "from kan import KAN\n",
    "from aeon.datasets import load_from_ts_file\n",
    "import pandas as pd\n",
    "from pytorch_lightning.loggers.wandb import WandbLogger\n",
    "\n",
    "# SETTINGS\n",
    "NUM_EXPERIMENTS = 5\n",
    "activation_fn = nn.ReLU()\n",
    "max_epochs=100\n",
    "\n",
    "# Load time series data\n",
    "X_train, y_train = load_from_ts_file(\"./data/ts_files/train.ts\")\n",
    "X_test, y_test = load_from_ts_file(\"./data/ts_files/test.ts\")\n",
    "\n",
    "# Encode labels\n",
    "label_encoder = LabelEncoder()\n",
    "y_train_encoded = label_encoder.fit_transform(y_train)\n",
    "y_test_encoded = label_encoder.transform(y_test)\n",
    "num_classes = len(label_encoder.classes_)\n",
    "\n",
    "# Infer sequence length and dimensions\n",
    "sequence_len = X_train.shape[-1]\n",
    "dimension_num = X_train.shape[1] if len(X_train.shape) > 1 else 1\n",
    "\n",
    "# Datasets\n",
    "train_dataset = TimeSeriesDataset(X_train, y_train_encoded)\n",
    "test_dataset = TimeSeriesDataset(X_test, y_test_encoded)\n",
    "\n",
    "# Dataloaders\n",
    "train_loader = DataLoader(train_dataset, batch_size=64, shuffle=True, num_workers=4)\n",
    "test_loader = DataLoader(test_dataset, batch_size=64, shuffle=False, num_workers=4)\n",
    "\n",
    "# Results\n",
    "results_dict = {\n",
    "    'experiment': [],\n",
    "    'accuracy': [],\n",
    "    'f1': []\n",
    "}\n",
    "for experiment in range(NUM_EXPERIMENTS):\n",
    "\n",
    "    # Model and optimizer\n",
    "    fcn_model = FCNClassifier(\n",
    "        dimension_num=dimension_num,\n",
    "        activation=activation_fn,\n",
    "        num_classes=num_classes\n",
    "    )\n",
    "    optimizer = torch.optim.Adadelta(fcn_model.parameters(), lr=1e-3, eps=1e-8)\n",
    "    model_classifier = TimeSeriesClassifier(model=fcn_model, optimizer=optimizer)\n",
    "    wandb_logger = WandbLogger(log_model=\"all\", project=\"FCN\")\n",
    "\n",
    "    # Define checkpoint callback\n",
    "    checkpoint_callback = ModelCheckpoint(\n",
    "        dirpath=\"experiments\",\n",
    "        filename=f\"fcn_kan_{experiment}\",\n",
    "        save_top_k=1,\n",
    "        monitor=\"f1\",\n",
    "        mode=\"max\"\n",
    "    )\n",
    "\n",
    "    # Trainer setup\n",
    "    trainer = Trainer(\n",
    "        max_epochs=max_epochs,\n",
    "        accelerator=\"gpu\",\n",
    "        devices=-1,\n",
    "        callbacks=[checkpoint_callback],\n",
    "        logger=wandb_logger, \n",
    "        enable_model_summary = False\n",
    "    )\n",
    "\n",
    "    # Train the FCNClassifier model\n",
    "    trainer.fit(model_classifier, train_loader)\n",
    "    results = trainer.test(model_classifier, test_loader)\n",
    "    results_dict['experiment'].append(experiment)\n",
    "    results_dict['accuracy'].append(results[0]['accuracy'])\n",
    "    results_dict['f1'].append(results[0]['f1'])\n",
    "\n",
    "    results_dataframe = pd.DataFrame(results_dict)\n",
    "    results_dataframe.to_csv(f'./results_fcn_{experiment}.csv', index=False)\n",
    "\n",
    "    #  Finish logging\n",
    "    wandb_logger.log_metrics({\"experiment\": experiment})\n",
    "    wandb_logger.finalize(\"success\")\n",
    "\n",
    "    # Free GPU\n",
    "    # device = torch.device(\"cpu\")\n",
    "    # model_classifier.to(device)\n",
    "    # model = None\n",
    "    # model_classifier = None\n",
    "    # torch.cuda.empty_cache()"
   ]
  },
  {
   "cell_type": "markdown",
   "metadata": {},
   "source": [
    "## Treinamento da FCN + KAN\n",
    "Aqui a FCN + KAN é treinada a partir do embedding extraido da GAP layer da FCN após pegarmos o melhor modelo FCN"
   ]
  },
  {
   "cell_type": "code",
   "execution_count": 3,
   "metadata": {},
   "outputs": [
    {
     "name": "stdout",
     "output_type": "stream",
     "text": [
      "checkpoint directory created: ./kan_fcn\n",
      "saving model version 0.0\n"
     ]
    },
    {
     "name": "stderr",
     "output_type": "stream",
     "text": [
      "| train_loss: 2.88e-01 | test_loss: 1.33e+00 | reg: 7.72e+02 | : 100%|█| 50/50 [01:11<00:00,  1.42s/\n"
     ]
    },
    {
     "name": "stdout",
     "output_type": "stream",
     "text": [
      "saving model version 0.1\n",
      "checkpoint directory created: ./kan_fcn\n",
      "saving model version 0.0\n"
     ]
    },
    {
     "name": "stderr",
     "output_type": "stream",
     "text": [
      "| train_loss: 2.84e-01 | test_loss: 1.59e+00 | reg: 8.60e+02 | : 100%|█| 50/50 [01:13<00:00,  1.46s/\n"
     ]
    },
    {
     "name": "stdout",
     "output_type": "stream",
     "text": [
      "saving model version 0.1\n",
      "checkpoint directory created: ./kan_fcn\n",
      "saving model version 0.0\n"
     ]
    },
    {
     "name": "stderr",
     "output_type": "stream",
     "text": [
      "| train_loss: 3.13e-01 | test_loss: 1.52e+00 | reg: 7.56e+02 | : 100%|█| 50/50 [01:13<00:00,  1.46s/\n"
     ]
    },
    {
     "name": "stdout",
     "output_type": "stream",
     "text": [
      "saving model version 0.1\n",
      "checkpoint directory created: ./kan_fcn\n",
      "saving model version 0.0\n"
     ]
    },
    {
     "name": "stderr",
     "output_type": "stream",
     "text": [
      "| train_loss: 2.44e-01 | test_loss: 1.49e+00 | reg: 8.14e+02 | : 100%|█| 50/50 [01:09<00:00,  1.38s/\n"
     ]
    },
    {
     "name": "stdout",
     "output_type": "stream",
     "text": [
      "saving model version 0.1\n",
      "checkpoint directory created: ./kan_fcn\n",
      "saving model version 0.0\n"
     ]
    },
    {
     "name": "stderr",
     "output_type": "stream",
     "text": [
      "| train_loss: 2.84e-01 | test_loss: 1.59e+00 | reg: 8.60e+02 | : 100%|█| 50/50 [01:12<00:00,  1.45s/\n"
     ]
    },
    {
     "name": "stdout",
     "output_type": "stream",
     "text": [
      "saving model version 0.1\n"
     ]
    },
    {
     "data": {
      "image/png": "[encoded data removed]",
      "text/plain": [
       "<Figure size 1200x600 with 2 Axes>"
      ]
     },
     "metadata": {},
     "output_type": "display_data"
    }
   ],
   "source": [
    "import torch\n",
    "from models.fcn import GAP1d\n",
    "from kan import KAN  # Assuming the KAN implementation is available\n",
    "import matplotlib.pyplot as plt\n",
    "import json  # For saving metrics\n",
    "from models.fcn import FCNClassifier\n",
    "from utils import TimeSeriesClassifier, TimeSeriesDataset\n",
    "from pytorch_lightning.callbacks import ModelCheckpoint\n",
    "from torch import nn\n",
    "\n",
    "steps = 50\n",
    "NUM_EXPERIMENTS = 5\n",
    "\n",
    "# Device setup\n",
    "device = torch.device(\"cuda\" if torch.cuda.is_available() else \"cpu\")\n",
    "\n",
    "# LOADING THE MODEL\n",
    "# optimizer = torch.optim.Adadelta(fcn_model.parameters(), lr=1e-3, eps=1e-8)\n",
    "\n",
    "# # Load the model (commented out for demonstration, assume `fcn_model` is defined)\n",
    "# best_model_path = 'experiments/cls_fcn.ckpt'\n",
    "# fcn_model = FCNClassifier(\n",
    "#     dimension_num=1,\n",
    "#     activation=nn.ReLU(),\n",
    "#     num_classes=3\n",
    "# )\n",
    "# optimizer = torch.optim.Adadelta(fcn_model.parameters(), lr=1e-3, eps=1e-8)\n",
    "# fcn_model = TimeSeriesClassifier.load_from_checkpoint(best_model_path, model=fcn_model, optimizer=optimizer)\n",
    "fcn_model.to(device)\n",
    "\n",
    "# Function to extract embeddings and labels from a model\n",
    "def get_embeddings(model, dataloader, device):\n",
    "    model.eval()  # Set the model to evaluation mode\n",
    "    embeddings_list = []\n",
    "    labels_list = []\n",
    "\n",
    "    with torch.no_grad():  # No need to compute gradients\n",
    "        for data, labels in dataloader:\n",
    "            data, labels = data.to(device), labels.to(device)  # Move data and labels to the appropriate device\n",
    "            \n",
    "            x = data  # Pass the input data through layers\n",
    "            for layer in model.layers:\n",
    "                x = layer(x)\n",
    "                if isinstance(layer, GAP1d):  # Check if the layer is a GAP1d layer\n",
    "                    embeddings = x  # Capture the output from GAP1d layer\n",
    "                    break  # Exit the loop after capturing the embeddings\n",
    "\n",
    "            embeddings_list.append(embeddings.cpu())  # Move embeddings to CPU for storage\n",
    "            labels_list.append(labels.cpu())  # Move labels to CPU for storage\n",
    "\n",
    "    # Concatenate embeddings and labels across all batches\n",
    "    embeddings = torch.cat(embeddings_list, dim=0)\n",
    "    labels = torch.cat(labels_list, dim=0)\n",
    "    \n",
    "    return embeddings, labels\n",
    "\n",
    "# Get embeddings and labels for train and test data\n",
    "train_embeddings, train_labels = get_embeddings(fcn_model, train_loader, device)\n",
    "test_embeddings, test_labels = get_embeddings(fcn_model, test_loader, device)\n",
    "\n",
    "# Move embeddings and labels to the appropriate device\n",
    "train_input = train_embeddings.to(device)\n",
    "test_input = test_embeddings.to(device)\n",
    "train_label = train_labels.to(device)\n",
    "test_label = test_labels.to(device)\n",
    "\n",
    "# Define KAN model input dimensions\n",
    "n_instances, embedding_size = train_input.shape\n",
    "n_classes = len(torch.unique(train_labels))  # Number of unique classes in training labels\n",
    "\n",
    "# Prepare dataset for KAN\n",
    "dataset = {\n",
    "    \"train_input\": train_input,\n",
    "    \"train_label\": train_label,\n",
    "    \"test_input\": test_input,\n",
    "    \"test_label\": test_label,\n",
    "}\n",
    "\n",
    "\n",
    "# Iteratively refine grids\n",
    "train_losses = []\n",
    "test_losses = []\n",
    "train_accuracies = []\n",
    "test_accuracies = []\n",
    "experiment_num = []\n",
    "\n",
    "def train_acc():\n",
    "    preds = torch.argmax(kan_model(dataset[\"train_input\"]), dim=1)\n",
    "    return torch.mean((preds == dataset[\"train_label\"]).float())\n",
    "\n",
    "def test_acc():\n",
    "    preds = torch.argmax(kan_model(dataset[\"test_input\"]), dim=1)\n",
    "    return torch.mean((preds == dataset[\"test_label\"]).float())\n",
    "\n",
    "kan_model = None\n",
    "for experiment in range(NUM_EXPERIMENTS):\n",
    "    kan_model = KAN(\n",
    "        ckpt_path='./kan_fcn',\n",
    "        width=[[embedding_size, 0], [50, 0], [30, 0], [n_classes, 0]],\n",
    "        k=3,\n",
    "        seed=42,\n",
    "        device=device,\n",
    "    )\n",
    "\n",
    "    # Train the model and capture the results\n",
    "    results = kan_model.fit(\n",
    "        dataset=dataset,\n",
    "        steps=steps,\n",
    "        metrics=(train_acc, test_acc),\n",
    "        loss_fn=torch.nn.CrossEntropyLoss(),\n",
    "        log=1,\n",
    "    )\n",
    "    experiment_num.append(experiment)\n",
    "    train_losses.append(results[\"train_loss\"][-1])\n",
    "    test_losses.append(results[\"test_loss\"][-1])\n",
    "    train_accuracies.append(results[\"train_acc\"][-1])\n",
    "    test_accuracies.append(results[\"test_acc\"][-1])\n",
    "\n",
    "# Save the metrics to JSON\n",
    "metrics = {\n",
    "    'experiment': experiment_num,\n",
    "    \"train_loss\": [loss.item() for loss in train_losses],\n",
    "    \"test_loss\": [loss.item() for loss in test_losses],\n",
    "    \"train_acc\": train_accuracies,\n",
    "    \"test_acc\": test_accuracies,\n",
    "}\n",
    "with open(\"kan_fcn_metrics.json\", \"w\") as f:\n",
    "    json.dump(metrics, f)\n",
    "\n",
    "# Plot the results\n",
    "plt.figure(figsize=(12, 6))\n",
    "\n",
    "# Plot losses\n",
    "plt.subplot(1, 2, 1)\n",
    "plt.plot(experiment_num, train_losses, marker=\"o\", label=\"Train Loss\", color=\"blue\")\n",
    "plt.plot(experiment_num, test_losses, marker=\"o\", label=\"Test Loss\", color=\"orange\")\n",
    "plt.xlabel(\"Grid Size\")\n",
    "plt.ylabel(\"Loss\")\n",
    "plt.title(\"Loss vs Grid Size\")\n",
    "plt.legend()\n",
    "\n",
    "# Plot accuracies\n",
    "plt.subplot(1, 2, 2)\n",
    "plt.plot(experiment_num, train_accuracies, marker=\"o\", label=\"Train Accuracy\", color=\"blue\")\n",
    "plt.plot(experiment_num, test_accuracies, marker=\"o\", label=\"Test Accuracy\", color=\"orange\")\n",
    "plt.xlabel(\"Grid Size\")\n",
    "plt.ylabel(\"Accuracy\")\n",
    "plt.title(\"Accuracy vs Grid Size\")\n",
    "plt.legend()\n",
    "\n",
    "plt.tight_layout()\n",
    "plt.show()"
   ]
  },
  {
   "cell_type": "markdown",
   "metadata": {},
   "source": [
    "# Alguns testes estatísticos"
   ]
  },
  {
   "cell_type": "code",
   "execution_count": 6,
   "metadata": {},
   "outputs": [
    {
     "data": {
      "application/vnd.plotly.v1+json": {
       "config": {
        "plotlyServerURL": "https://plot.ly"
       },
       "data": [
        {
         "alignmentgroup": "True",
         "hovertemplate": "Classifier=%{x}<br>Accuracy=%{y}<extra></extra>",
         "legendgroup": "FCN",
         "marker": {
          "color": "#636efa"
         },
         "name": "FCN",
         "notched": false,
         "offsetgroup": "FCN",
         "orientation": "v",
         "showlegend": true,
         "type": "box",
         "x": [
          "FCN",
          "FCN",
          "FCN",
          "FCN",
          "FCN"
         ],
         "x0": " ",
         "xaxis": "x",
         "y": [
          0.4066,
          0.3686,
          0.3886,
          0.3946,
          0.3926
         ],
         "y0": " ",
         "yaxis": "y"
        },
        {
         "alignmentgroup": "True",
         "hovertemplate": "Classifier=%{x}<br>Accuracy=%{y}<extra></extra>",
         "legendgroup": "KAN",
         "marker": {
          "color": "#EF553B"
         },
         "name": "KAN",
         "notched": false,
         "offsetgroup": "KAN",
         "orientation": "v",
         "showlegend": true,
         "type": "box",
         "x": [
          "KAN",
          "KAN",
          "KAN",
          "KAN",
          "KAN"
         ],
         "x0": " ",
         "xaxis": "x",
         "y": [
          0.4313,
          0.4293,
          0.4293,
          0.4293,
          0.4293
         ],
         "y0": " ",
         "yaxis": "y"
        },
        {
         "alignmentgroup": "True",
         "hovertemplate": "Classifier=%{x}<br>Accuracy=%{y}<extra></extra>",
         "legendgroup": "FCN_KAN",
         "marker": {
          "color": "#00cc96"
         },
         "name": "FCN_KAN",
         "notched": false,
         "offsetgroup": "FCN_KAN",
         "orientation": "v",
         "showlegend": true,
         "type": "box",
         "x": [
          "FCN_KAN",
          "FCN_KAN",
          "FCN_KAN",
          "FCN_KAN",
          "FCN_KAN"
         ],
         "x0": " ",
         "xaxis": "x",
         "y": [
          0.61,
          0.5033,
          0.5313,
          0.5519,
          0.5033
         ],
         "y0": " ",
         "yaxis": "y"
        }
       ],
       "layout": {
        "boxmode": "overlay",
        "height": 700,
        "legend": {
         "title": {
          "text": "Classifier"
         },
         "tracegroupgap": 0
        },
        "template": {
         "data": {
          "bar": [
           {
            "error_x": {
             "color": "#2a3f5f"
            },
            "error_y": {
             "color": "#2a3f5f"
            },
            "marker": {
             "line": {
              "color": "#E5ECF6",
              "width": 0.5
             },
             "pattern": {
              "fillmode": "overlay",
              "size": 10,
              "solidity": 0.2
             }
            },
            "type": "bar"
           }
          ],
          "barpolar": [
           {
            "marker": {
             "line": {
              "color": "#E5ECF6",
              "width": 0.5
             },
             "pattern": {
              "fillmode": "overlay",
              "size": 10,
              "solidity": 0.2
             }
            },
            "type": "barpolar"
           }
          ],
          "carpet": [
           {
            "aaxis": {
             "endlinecolor": "#2a3f5f",
             "gridcolor": "white",
             "linecolor": "white",
             "minorgridcolor": "white",
             "startlinecolor": "#2a3f5f"
            },
            "baxis": {
             "endlinecolor": "#2a3f5f",
             "gridcolor": "white",
             "linecolor": "white",
             "minorgridcolor": "white",
             "startlinecolor": "#2a3f5f"
            },
            "type": "carpet"
           }
          ],
          "choropleth": [
           {
            "colorbar": {
             "outlinewidth": 0,
             "ticks": ""
            },
            "type": "choropleth"
           }
          ],
          "contour": [
           {
            "colorbar": {
             "outlinewidth": 0,
             "ticks": ""
            },
            "colorscale": [
             [
              0,
              "#0d0887"
             ],
             [
              0.1111111111111111,
              "#46039f"
             ],
             [
              0.2222222222222222,
              "#7201a8"
             ],
             [
              0.3333333333333333,
              "#9c179e"
             ],
             [
              0.4444444444444444,
              "#bd3786"
             ],
             [
              0.5555555555555556,
              "#d8576b"
             ],
             [
              0.6666666666666666,
              "#ed7953"
             ],
             [
              0.7777777777777778,
              "#fb9f3a"
             ],
             [
              0.8888888888888888,
              "#fdca26"
             ],
             [
              1,
              "#f0f921"
             ]
            ],
            "type": "contour"
           }
          ],
          "contourcarpet": [
           {
            "colorbar": {
             "outlinewidth": 0,
             "ticks": ""
            },
            "type": "contourcarpet"
           }
          ],
          "heatmap": [
           {
            "colorbar": {
             "outlinewidth": 0,
             "ticks": ""
            },
            "colorscale": [
             [
              0,
              "#0d0887"
             ],
             [
              0.1111111111111111,
              "#46039f"
             ],
             [
              0.2222222222222222,
              "#7201a8"
             ],
             [
              0.3333333333333333,
              "#9c179e"
             ],
             [
              0.4444444444444444,
              "#bd3786"
             ],
             [
              0.5555555555555556,
              "#d8576b"
             ],
             [
              0.6666666666666666,
              "#ed7953"
             ],
             [
              0.7777777777777778,
              "#fb9f3a"
             ],
             [
              0.8888888888888888,
              "#fdca26"
             ],
             [
              1,
              "#f0f921"
             ]
            ],
            "type": "heatmap"
           }
          ],
          "heatmapgl": [
           {
            "colorbar": {
             "outlinewidth": 0,
             "ticks": ""
            },
            "colorscale": [
             [
              0,
              "#0d0887"
             ],
             [
              0.1111111111111111,
              "#46039f"
             ],
             [
              0.2222222222222222,
              "#7201a8"
             ],
             [
              0.3333333333333333,
              "#9c179e"
             ],
             [
              0.4444444444444444,
              "#bd3786"
             ],
             [
              0.5555555555555556,
              "#d8576b"
             ],
             [
              0.6666666666666666,
              "#ed7953"
             ],
             [
              0.7777777777777778,
              "#fb9f3a"
             ],
             [
              0.8888888888888888,
              "#fdca26"
             ],
             [
              1,
              "#f0f921"
             ]
            ],
            "type": "heatmapgl"
           }
          ],
          "histogram": [
           {
            "marker": {
             "pattern": {
              "fillmode": "overlay",
              "size": 10,
              "solidity": 0.2
             }
            },
            "type": "histogram"
           }
          ],
          "histogram2d": [
           {
            "colorbar": {
             "outlinewidth": 0,
             "ticks": ""
            },
            "colorscale": [
             [
              0,
              "#0d0887"
             ],
             [
              0.1111111111111111,
              "#46039f"
             ],
             [
              0.2222222222222222,
              "#7201a8"
             ],
             [
              0.3333333333333333,
              "#9c179e"
             ],
             [
              0.4444444444444444,
              "#bd3786"
             ],
             [
              0.5555555555555556,
              "#d8576b"
             ],
             [
              0.6666666666666666,
              "#ed7953"
             ],
             [
              0.7777777777777778,
              "#fb9f3a"
             ],
             [
              0.8888888888888888,
              "#fdca26"
             ],
             [
              1,
              "#f0f921"
             ]
            ],
            "type": "histogram2d"
           }
          ],
          "histogram2dcontour": [
           {
            "colorbar": {
             "outlinewidth": 0,
             "ticks": ""
            },
            "colorscale": [
             [
              0,
              "#0d0887"
             ],
             [
              0.1111111111111111,
              "#46039f"
             ],
             [
              0.2222222222222222,
              "#7201a8"
             ],
             [
              0.3333333333333333,
              "#9c179e"
             ],
             [
              0.4444444444444444,
              "#bd3786"
             ],
             [
              0.5555555555555556,
              "#d8576b"
             ],
             [
              0.6666666666666666,
              "#ed7953"
             ],
             [
              0.7777777777777778,
              "#fb9f3a"
             ],
             [
              0.8888888888888888,
              "#fdca26"
             ],
             [
              1,
              "#f0f921"
             ]
            ],
            "type": "histogram2dcontour"
           }
          ],
          "mesh3d": [
           {
            "colorbar": {
             "outlinewidth": 0,
             "ticks": ""
            },
            "type": "mesh3d"
           }
          ],
          "parcoords": [
           {
            "line": {
             "colorbar": {
              "outlinewidth": 0,
              "ticks": ""
             }
            },
            "type": "parcoords"
           }
          ],
          "pie": [
           {
            "automargin": true,
            "type": "pie"
           }
          ],
          "scatter": [
           {
            "fillpattern": {
             "fillmode": "overlay",
             "size": 10,
             "solidity": 0.2
            },
            "type": "scatter"
           }
          ],
          "scatter3d": [
           {
            "line": {
             "colorbar": {
              "outlinewidth": 0,
              "ticks": ""
             }
            },
            "marker": {
             "colorbar": {
              "outlinewidth": 0,
              "ticks": ""
             }
            },
            "type": "scatter3d"
           }
          ],
          "scattercarpet": [
           {
            "marker": {
             "colorbar": {
              "outlinewidth": 0,
              "ticks": ""
             }
            },
            "type": "scattercarpet"
           }
          ],
          "scattergeo": [
           {
            "marker": {
             "colorbar": {
              "outlinewidth": 0,
              "ticks": ""
             }
            },
            "type": "scattergeo"
           }
          ],
          "scattergl": [
           {
            "marker": {
             "colorbar": {
              "outlinewidth": 0,
              "ticks": ""
             }
            },
            "type": "scattergl"
           }
          ],
          "scattermapbox": [
           {
            "marker": {
             "colorbar": {
              "outlinewidth": 0,
              "ticks": ""
             }
            },
            "type": "scattermapbox"
           }
          ],
          "scatterpolar": [
           {
            "marker": {
             "colorbar": {
              "outlinewidth": 0,
              "ticks": ""
             }
            },
            "type": "scatterpolar"
           }
          ],
          "scatterpolargl": [
           {
            "marker": {
             "colorbar": {
              "outlinewidth": 0,
              "ticks": ""
             }
            },
            "type": "scatterpolargl"
           }
          ],
          "scatterternary": [
           {
            "marker": {
             "colorbar": {
              "outlinewidth": 0,
              "ticks": ""
             }
            },
            "type": "scatterternary"
           }
          ],
          "surface": [
           {
            "colorbar": {
             "outlinewidth": 0,
             "ticks": ""
            },
            "colorscale": [
             [
              0,
              "#0d0887"
             ],
             [
              0.1111111111111111,
              "#46039f"
             ],
             [
              0.2222222222222222,
              "#7201a8"
             ],
             [
              0.3333333333333333,
              "#9c179e"
             ],
             [
              0.4444444444444444,
              "#bd3786"
             ],
             [
              0.5555555555555556,
              "#d8576b"
             ],
             [
              0.6666666666666666,
              "#ed7953"
             ],
             [
              0.7777777777777778,
              "#fb9f3a"
             ],
             [
              0.8888888888888888,
              "#fdca26"
             ],
             [
              1,
              "#f0f921"
             ]
            ],
            "type": "surface"
           }
          ],
          "table": [
           {
            "cells": {
             "fill": {
              "color": "#EBF0F8"
             },
             "line": {
              "color": "white"
             }
            },
            "header": {
             "fill": {
              "color": "#C8D4E3"
             },
             "line": {
              "color": "white"
             }
            },
            "type": "table"
           }
          ]
         },
         "layout": {
          "annotationdefaults": {
           "arrowcolor": "#2a3f5f",
           "arrowhead": 0,
           "arrowwidth": 1
          },
          "autotypenumbers": "strict",
          "coloraxis": {
           "colorbar": {
            "outlinewidth": 0,
            "ticks": ""
           }
          },
          "colorscale": {
           "diverging": [
            [
             0,
             "#8e0152"
            ],
            [
             0.1,
             "#c51b7d"
            ],
            [
             0.2,
             "#de77ae"
            ],
            [
             0.3,
             "#f1b6da"
            ],
            [
             0.4,
             "#fde0ef"
            ],
            [
             0.5,
             "#f7f7f7"
            ],
            [
             0.6,
             "#e6f5d0"
            ],
            [
             0.7,
             "#b8e186"
            ],
            [
             0.8,
             "#7fbc41"
            ],
            [
             0.9,
             "#4d9221"
            ],
            [
             1,
             "#276419"
            ]
           ],
           "sequential": [
            [
             0,
             "#0d0887"
            ],
            [
             0.1111111111111111,
             "#46039f"
            ],
            [
             0.2222222222222222,
             "#7201a8"
            ],
            [
             0.3333333333333333,
             "#9c179e"
            ],
            [
             0.4444444444444444,
             "#bd3786"
            ],
            [
             0.5555555555555556,
             "#d8576b"
            ],
            [
             0.6666666666666666,
             "#ed7953"
            ],
            [
             0.7777777777777778,
             "#fb9f3a"
            ],
            [
             0.8888888888888888,
             "#fdca26"
            ],
            [
             1,
             "#f0f921"
            ]
           ],
           "sequentialminus": [
            [
             0,
             "#0d0887"
            ],
            [
             0.1111111111111111,
             "#46039f"
            ],
            [
             0.2222222222222222,
             "#7201a8"
            ],
            [
             0.3333333333333333,
             "#9c179e"
            ],
            [
             0.4444444444444444,
             "#bd3786"
            ],
            [
             0.5555555555555556,
             "#d8576b"
            ],
            [
             0.6666666666666666,
             "#ed7953"
            ],
            [
             0.7777777777777778,
             "#fb9f3a"
            ],
            [
             0.8888888888888888,
             "#fdca26"
            ],
            [
             1,
             "#f0f921"
            ]
           ]
          },
          "colorway": [
           "#636efa",
           "#EF553B",
           "#00cc96",
           "#ab63fa",
           "#FFA15A",
           "#19d3f3",
           "#FF6692",
           "#B6E880",
           "#FF97FF",
           "#FECB52"
          ],
          "font": {
           "color": "#2a3f5f"
          },
          "geo": {
           "bgcolor": "white",
           "lakecolor": "white",
           "landcolor": "#E5ECF6",
           "showlakes": true,
           "showland": true,
           "subunitcolor": "white"
          },
          "hoverlabel": {
           "align": "left"
          },
          "hovermode": "closest",
          "mapbox": {
           "style": "light"
          },
          "paper_bgcolor": "white",
          "plot_bgcolor": "#E5ECF6",
          "polar": {
           "angularaxis": {
            "gridcolor": "white",
            "linecolor": "white",
            "ticks": ""
           },
           "bgcolor": "#E5ECF6",
           "radialaxis": {
            "gridcolor": "white",
            "linecolor": "white",
            "ticks": ""
           }
          },
          "scene": {
           "xaxis": {
            "backgroundcolor": "#E5ECF6",
            "gridcolor": "white",
            "gridwidth": 2,
            "linecolor": "white",
            "showbackground": true,
            "ticks": "",
            "zerolinecolor": "white"
           },
           "yaxis": {
            "backgroundcolor": "#E5ECF6",
            "gridcolor": "white",
            "gridwidth": 2,
            "linecolor": "white",
            "showbackground": true,
            "ticks": "",
            "zerolinecolor": "white"
           },
           "zaxis": {
            "backgroundcolor": "#E5ECF6",
            "gridcolor": "white",
            "gridwidth": 2,
            "linecolor": "white",
            "showbackground": true,
            "ticks": "",
            "zerolinecolor": "white"
           }
          },
          "shapedefaults": {
           "line": {
            "color": "#2a3f5f"
           }
          },
          "ternary": {
           "aaxis": {
            "gridcolor": "white",
            "linecolor": "white",
            "ticks": ""
           },
           "baxis": {
            "gridcolor": "white",
            "linecolor": "white",
            "ticks": ""
           },
           "bgcolor": "#E5ECF6",
           "caxis": {
            "gridcolor": "white",
            "linecolor": "white",
            "ticks": ""
           }
          },
          "title": {
           "x": 0.05
          },
          "xaxis": {
           "automargin": true,
           "gridcolor": "white",
           "linecolor": "white",
           "ticks": "",
           "title": {
            "standoff": 15
           },
           "zerolinecolor": "white",
           "zerolinewidth": 2
          },
          "yaxis": {
           "automargin": true,
           "gridcolor": "white",
           "linecolor": "white",
           "ticks": "",
           "title": {
            "standoff": 15
           },
           "zerolinecolor": "white",
           "zerolinewidth": 2
          }
         }
        },
        "title": {
         "text": "Accuracy Distribution by Classifier"
        },
        "width": 700,
        "xaxis": {
         "anchor": "y",
         "categoryarray": [
          "FCN",
          "KAN",
          "FCN_KAN"
         ],
         "categoryorder": "array",
         "domain": [
          0,
          1
         ],
         "title": {
          "text": "Classifier"
         }
        },
        "yaxis": {
         "anchor": "x",
         "domain": [
          0,
          1
         ],
         "title": {
          "text": "Accuracy"
         }
        }
       }
      }
     },
     "metadata": {},
     "output_type": "display_data"
    }
   ],
   "source": [
    "import plotly.express as px\n",
    "import pandas as pd\n",
    "\n",
    "df = pd.read_csv('results/final_results.csv')\n",
    "\n",
    "# Create a boxplot using Plotly\n",
    "fig = px.box(df, color='classifier_name',x='classifier_name', y='accuracy', title=\"Accuracy Distribution by Classifier\", \n",
    "             labels={'classifier_name': 'Classifier', 'accuracy': 'Accuracy'})\n",
    "fig.update_layout(\n",
    "    width=700,  # Adjust the width to make it smaller\n",
    "    height=700,  # Adjust the height if necessary\n",
    ")\n",
    "\n",
    "# Show the plot\n",
    "fig.show()"
   ]
  },
  {
   "cell_type": "markdown",
   "metadata": {},
   "source": [
    "# TSFRESH + KAN\n",
    "Ideia abandonada pois não conseguimos fazer o feature extractor do TSFresh funcionar"
   ]
  },
  {
   "cell_type": "code",
   "execution_count": null,
   "metadata": {},
   "outputs": [
    {
     "name": "stderr",
     "output_type": "stream",
     "text": [
      "Feature Extraction: 100%|██████████| 30/30 [00:26<00:00,  1.12it/s]\n",
      "Feature Extraction: 100%|██████████| 30/30 [00:08<00:00,  3.65it/s]\n",
      "c:\\Users\\andre\\anaconda3\\envs\\pykan\\lib\\site-packages\\tsfresh\\utilities\\dataframe_functions.py:198: RuntimeWarning: The columns ['value__mean_abs_change' 'value__mean_change'\n",
      " 'value__mean_second_derivative_central' 'value__skewness'\n",
      " 'value__kurtosis' 'value__sample_entropy' 'value__autocorrelation__lag_0'\n",
      " 'value__autocorrelation__lag_1' 'value__autocorrelation__lag_2'\n",
      " 'value__autocorrelation__lag_3' 'value__autocorrelation__lag_4'\n",
      " 'value__autocorrelation__lag_5' 'value__autocorrelation__lag_6'\n",
      " 'value__autocorrelation__lag_7' 'value__autocorrelation__lag_8'\n",
      " 'value__autocorrelation__lag_9' 'value__partial_autocorrelation__lag_0'\n",
      " 'value__partial_autocorrelation__lag_1'\n",
      " 'value__partial_autocorrelation__lag_2'\n",
      " 'value__partial_autocorrelation__lag_3'\n",
      " 'value__partial_autocorrelation__lag_4'\n",
      " 'value__partial_autocorrelation__lag_5'\n",
      " 'value__partial_autocorrelation__lag_6'\n",
      " 'value__partial_autocorrelation__lag_7'\n",
      " 'value__partial_autocorrelation__lag_8'\n",
      " 'value__partial_autocorrelation__lag_9'\n",
      " 'value__cwt_coefficients__coeff_1__w_2__widths_(2, 5, 10, 20)'\n",
      " 'value__cwt_coefficients__coeff_1__w_5__widths_(2, 5, 10, 20)'\n",
      " 'value__cwt_coefficients__coeff_1__w_10__widths_(2, 5, 10, 20)'\n",
      " 'value__cwt_coefficients__coeff_1__w_20__widths_(2, 5, 10, 20)'\n",
      " 'value__cwt_coefficients__coeff_2__w_2__widths_(2, 5, 10, 20)'\n",
      " 'value__cwt_coefficients__coeff_2__w_5__widths_(2, 5, 10, 20)'\n",
      " 'value__cwt_coefficients__coeff_2__w_10__widths_(2, 5, 10, 20)'\n",
      " 'value__cwt_coefficients__coeff_2__w_20__widths_(2, 5, 10, 20)'\n",
      " 'value__cwt_coefficients__coeff_3__w_2__widths_(2, 5, 10, 20)'\n",
      " 'value__cwt_coefficients__coeff_3__w_5__widths_(2, 5, 10, 20)'\n",
      " 'value__cwt_coefficients__coeff_3__w_10__widths_(2, 5, 10, 20)'\n",
      " 'value__cwt_coefficients__coeff_3__w_20__widths_(2, 5, 10, 20)'\n",
      " 'value__cwt_coefficients__coeff_4__w_2__widths_(2, 5, 10, 20)'\n",
      " 'value__cwt_coefficients__coeff_4__w_5__widths_(2, 5, 10, 20)'\n",
      " 'value__cwt_coefficients__coeff_4__w_10__widths_(2, 5, 10, 20)'\n",
      " 'value__cwt_coefficients__coeff_4__w_20__widths_(2, 5, 10, 20)'\n",
      " 'value__cwt_coefficients__coeff_5__w_2__widths_(2, 5, 10, 20)'\n",
      " 'value__cwt_coefficients__coeff_5__w_5__widths_(2, 5, 10, 20)'\n",
      " 'value__cwt_coefficients__coeff_5__w_10__widths_(2, 5, 10, 20)'\n",
      " 'value__cwt_coefficients__coeff_5__w_20__widths_(2, 5, 10, 20)'\n",
      " 'value__cwt_coefficients__coeff_6__w_2__widths_(2, 5, 10, 20)'\n",
      " 'value__cwt_coefficients__coeff_6__w_5__widths_(2, 5, 10, 20)'\n",
      " 'value__cwt_coefficients__coeff_6__w_10__widths_(2, 5, 10, 20)'\n",
      " 'value__cwt_coefficients__coeff_6__w_20__widths_(2, 5, 10, 20)'\n",
      " 'value__cwt_coefficients__coeff_7__w_2__widths_(2, 5, 10, 20)'\n",
      " 'value__cwt_coefficients__coeff_7__w_5__widths_(2, 5, 10, 20)'\n",
      " 'value__cwt_coefficients__coeff_7__w_10__widths_(2, 5, 10, 20)'\n",
      " 'value__cwt_coefficients__coeff_7__w_20__widths_(2, 5, 10, 20)'\n",
      " 'value__cwt_coefficients__coeff_8__w_2__widths_(2, 5, 10, 20)'\n",
      " 'value__cwt_coefficients__coeff_8__w_5__widths_(2, 5, 10, 20)'\n",
      " 'value__cwt_coefficients__coeff_8__w_10__widths_(2, 5, 10, 20)'\n",
      " 'value__cwt_coefficients__coeff_8__w_20__widths_(2, 5, 10, 20)'\n",
      " 'value__cwt_coefficients__coeff_9__w_2__widths_(2, 5, 10, 20)'\n",
      " 'value__cwt_coefficients__coeff_9__w_5__widths_(2, 5, 10, 20)'\n",
      " 'value__cwt_coefficients__coeff_9__w_10__widths_(2, 5, 10, 20)'\n",
      " 'value__cwt_coefficients__coeff_9__w_20__widths_(2, 5, 10, 20)'\n",
      " 'value__cwt_coefficients__coeff_10__w_2__widths_(2, 5, 10, 20)'\n",
      " 'value__cwt_coefficients__coeff_10__w_5__widths_(2, 5, 10, 20)'\n",
      " 'value__cwt_coefficients__coeff_10__w_10__widths_(2, 5, 10, 20)'\n",
      " 'value__cwt_coefficients__coeff_10__w_20__widths_(2, 5, 10, 20)'\n",
      " 'value__cwt_coefficients__coeff_11__w_2__widths_(2, 5, 10, 20)'\n",
      " 'value__cwt_coefficients__coeff_11__w_5__widths_(2, 5, 10, 20)'\n",
      " 'value__cwt_coefficients__coeff_11__w_10__widths_(2, 5, 10, 20)'\n",
      " 'value__cwt_coefficients__coeff_11__w_20__widths_(2, 5, 10, 20)'\n",
      " 'value__cwt_coefficients__coeff_12__w_2__widths_(2, 5, 10, 20)'\n",
      " 'value__cwt_coefficients__coeff_12__w_5__widths_(2, 5, 10, 20)'\n",
      " 'value__cwt_coefficients__coeff_12__w_10__widths_(2, 5, 10, 20)'\n",
      " 'value__cwt_coefficients__coeff_12__w_20__widths_(2, 5, 10, 20)'\n",
      " 'value__cwt_coefficients__coeff_13__w_2__widths_(2, 5, 10, 20)'\n",
      " 'value__cwt_coefficients__coeff_13__w_5__widths_(2, 5, 10, 20)'\n",
      " 'value__cwt_coefficients__coeff_13__w_10__widths_(2, 5, 10, 20)'\n",
      " 'value__cwt_coefficients__coeff_13__w_20__widths_(2, 5, 10, 20)'\n",
      " 'value__cwt_coefficients__coeff_14__w_2__widths_(2, 5, 10, 20)'\n",
      " 'value__cwt_coefficients__coeff_14__w_5__widths_(2, 5, 10, 20)'\n",
      " 'value__cwt_coefficients__coeff_14__w_10__widths_(2, 5, 10, 20)'\n",
      " 'value__cwt_coefficients__coeff_14__w_20__widths_(2, 5, 10, 20)'\n",
      " 'value__spkt_welch_density__coeff_2' 'value__spkt_welch_density__coeff_5'\n",
      " 'value__spkt_welch_density__coeff_8'\n",
      " 'value__ar_coefficient__coeff_0__k_10'\n",
      " 'value__ar_coefficient__coeff_1__k_10'\n",
      " 'value__ar_coefficient__coeff_2__k_10'\n",
      " 'value__ar_coefficient__coeff_3__k_10'\n",
      " 'value__ar_coefficient__coeff_4__k_10'\n",
      " 'value__ar_coefficient__coeff_5__k_10'\n",
      " 'value__ar_coefficient__coeff_6__k_10'\n",
      " 'value__ar_coefficient__coeff_7__k_10'\n",
      " 'value__ar_coefficient__coeff_8__k_10'\n",
      " 'value__ar_coefficient__coeff_9__k_10'\n",
      " 'value__fft_coefficient__attr_\"real\"__coeff_1'\n",
      " 'value__fft_coefficient__attr_\"real\"__coeff_2'\n",
      " 'value__fft_coefficient__attr_\"real\"__coeff_3'\n",
      " 'value__fft_coefficient__attr_\"real\"__coeff_4'\n",
      " 'value__fft_coefficient__attr_\"real\"__coeff_5'\n",
      " 'value__fft_coefficient__attr_\"real\"__coeff_6'\n",
      " 'value__fft_coefficient__attr_\"real\"__coeff_7'\n",
      " 'value__fft_coefficient__attr_\"real\"__coeff_8'\n",
      " 'value__fft_coefficient__attr_\"real\"__coeff_9'\n",
      " 'value__fft_coefficient__attr_\"real\"__coeff_10'\n",
      " 'value__fft_coefficient__attr_\"real\"__coeff_11'\n",
      " 'value__fft_coefficient__attr_\"real\"__coeff_12'\n",
      " 'value__fft_coefficient__attr_\"real\"__coeff_13'\n",
      " 'value__fft_coefficient__attr_\"real\"__coeff_14'\n",
      " 'value__fft_coefficient__attr_\"real\"__coeff_15'\n",
      " 'value__fft_coefficient__attr_\"real\"__coeff_16'\n",
      " 'value__fft_coefficient__attr_\"real\"__coeff_17'\n",
      " 'value__fft_coefficient__attr_\"real\"__coeff_18'\n",
      " 'value__fft_coefficient__attr_\"real\"__coeff_19'\n",
      " 'value__fft_coefficient__attr_\"real\"__coeff_20'\n",
      " 'value__fft_coefficient__attr_\"real\"__coeff_21'\n",
      " 'value__fft_coefficient__attr_\"real\"__coeff_22'\n",
      " 'value__fft_coefficient__attr_\"real\"__coeff_23'\n",
      " 'value__fft_coefficient__attr_\"real\"__coeff_24'\n",
      " 'value__fft_coefficient__attr_\"real\"__coeff_25'\n",
      " 'value__fft_coefficient__attr_\"real\"__coeff_26'\n",
      " 'value__fft_coefficient__attr_\"real\"__coeff_27'\n",
      " 'value__fft_coefficient__attr_\"real\"__coeff_28'\n",
      " 'value__fft_coefficient__attr_\"real\"__coeff_29'\n",
      " 'value__fft_coefficient__attr_\"real\"__coeff_30'\n",
      " 'value__fft_coefficient__attr_\"real\"__coeff_31'\n",
      " 'value__fft_coefficient__attr_\"real\"__coeff_32'\n",
      " 'value__fft_coefficient__attr_\"real\"__coeff_33'\n",
      " 'value__fft_coefficient__attr_\"real\"__coeff_34'\n",
      " 'value__fft_coefficient__attr_\"real\"__coeff_35'\n",
      " 'value__fft_coefficient__attr_\"real\"__coeff_36'\n",
      " 'value__fft_coefficient__attr_\"real\"__coeff_37'\n",
      " 'value__fft_coefficient__attr_\"real\"__coeff_38'\n",
      " 'value__fft_coefficient__attr_\"real\"__coeff_39'\n",
      " 'value__fft_coefficient__attr_\"real\"__coeff_40'\n",
      " 'value__fft_coefficient__attr_\"real\"__coeff_41'\n",
      " 'value__fft_coefficient__attr_\"real\"__coeff_42'\n",
      " 'value__fft_coefficient__attr_\"real\"__coeff_43'\n",
      " 'value__fft_coefficient__attr_\"real\"__coeff_44'\n",
      " 'value__fft_coefficient__attr_\"real\"__coeff_45'\n",
      " 'value__fft_coefficient__attr_\"real\"__coeff_46'\n",
      " 'value__fft_coefficient__attr_\"real\"__coeff_47'\n",
      " 'value__fft_coefficient__attr_\"real\"__coeff_48'\n",
      " 'value__fft_coefficient__attr_\"real\"__coeff_49'\n",
      " 'value__fft_coefficient__attr_\"real\"__coeff_50'\n",
      " 'value__fft_coefficient__attr_\"real\"__coeff_51'\n",
      " 'value__fft_coefficient__attr_\"real\"__coeff_52'\n",
      " 'value__fft_coefficient__attr_\"real\"__coeff_53'\n",
      " 'value__fft_coefficient__attr_\"real\"__coeff_54'\n",
      " 'value__fft_coefficient__attr_\"real\"__coeff_55'\n",
      " 'value__fft_coefficient__attr_\"real\"__coeff_56'\n",
      " 'value__fft_coefficient__attr_\"real\"__coeff_57'\n",
      " 'value__fft_coefficient__attr_\"real\"__coeff_58'\n",
      " 'value__fft_coefficient__attr_\"real\"__coeff_59'\n",
      " 'value__fft_coefficient__attr_\"real\"__coeff_60'\n",
      " 'value__fft_coefficient__attr_\"real\"__coeff_61'\n",
      " 'value__fft_coefficient__attr_\"real\"__coeff_62'\n",
      " 'value__fft_coefficient__attr_\"real\"__coeff_63'\n",
      " 'value__fft_coefficient__attr_\"real\"__coeff_64'\n",
      " 'value__fft_coefficient__attr_\"real\"__coeff_65'\n",
      " 'value__fft_coefficient__attr_\"real\"__coeff_66'\n",
      " 'value__fft_coefficient__attr_\"real\"__coeff_67'\n",
      " 'value__fft_coefficient__attr_\"real\"__coeff_68'\n",
      " 'value__fft_coefficient__attr_\"real\"__coeff_69'\n",
      " 'value__fft_coefficient__attr_\"real\"__coeff_70'\n",
      " 'value__fft_coefficient__attr_\"real\"__coeff_71'\n",
      " 'value__fft_coefficient__attr_\"real\"__coeff_72'\n",
      " 'value__fft_coefficient__attr_\"real\"__coeff_73'\n",
      " 'value__fft_coefficient__attr_\"real\"__coeff_74'\n",
      " 'value__fft_coefficient__attr_\"real\"__coeff_75'\n",
      " 'value__fft_coefficient__attr_\"real\"__coeff_76'\n",
      " 'value__fft_coefficient__attr_\"real\"__coeff_77'\n",
      " 'value__fft_coefficient__attr_\"real\"__coeff_78'\n",
      " 'value__fft_coefficient__attr_\"real\"__coeff_79'\n",
      " 'value__fft_coefficient__attr_\"real\"__coeff_80'\n",
      " 'value__fft_coefficient__attr_\"real\"__coeff_81'\n",
      " 'value__fft_coefficient__attr_\"real\"__coeff_82'\n",
      " 'value__fft_coefficient__attr_\"real\"__coeff_83'\n",
      " 'value__fft_coefficient__attr_\"real\"__coeff_84'\n",
      " 'value__fft_coefficient__attr_\"real\"__coeff_85'\n",
      " 'value__fft_coefficient__attr_\"real\"__coeff_86'\n",
      " 'value__fft_coefficient__attr_\"real\"__coeff_87'\n",
      " 'value__fft_coefficient__attr_\"real\"__coeff_88'\n",
      " 'value__fft_coefficient__attr_\"real\"__coeff_89'\n",
      " 'value__fft_coefficient__attr_\"real\"__coeff_90'\n",
      " 'value__fft_coefficient__attr_\"real\"__coeff_91'\n",
      " 'value__fft_coefficient__attr_\"real\"__coeff_92'\n",
      " 'value__fft_coefficient__attr_\"real\"__coeff_93'\n",
      " 'value__fft_coefficient__attr_\"real\"__coeff_94'\n",
      " 'value__fft_coefficient__attr_\"real\"__coeff_95'\n",
      " 'value__fft_coefficient__attr_\"real\"__coeff_96'\n",
      " 'value__fft_coefficient__attr_\"real\"__coeff_97'\n",
      " 'value__fft_coefficient__attr_\"real\"__coeff_98'\n",
      " 'value__fft_coefficient__attr_\"real\"__coeff_99'\n",
      " 'value__fft_coefficient__attr_\"imag\"__coeff_1'\n",
      " 'value__fft_coefficient__attr_\"imag\"__coeff_2'\n",
      " 'value__fft_coefficient__attr_\"imag\"__coeff_3'\n",
      " 'value__fft_coefficient__attr_\"imag\"__coeff_4'\n",
      " 'value__fft_coefficient__attr_\"imag\"__coeff_5'\n",
      " 'value__fft_coefficient__attr_\"imag\"__coeff_6'\n",
      " 'value__fft_coefficient__attr_\"imag\"__coeff_7'\n",
      " 'value__fft_coefficient__attr_\"imag\"__coeff_8'\n",
      " 'value__fft_coefficient__attr_\"imag\"__coeff_9'\n",
      " 'value__fft_coefficient__attr_\"imag\"__coeff_10'\n",
      " 'value__fft_coefficient__attr_\"imag\"__coeff_11'\n",
      " 'value__fft_coefficient__attr_\"imag\"__coeff_12'\n",
      " 'value__fft_coefficient__attr_\"imag\"__coeff_13'\n",
      " 'value__fft_coefficient__attr_\"imag\"__coeff_14'\n",
      " 'value__fft_coefficient__attr_\"imag\"__coeff_15'\n",
      " 'value__fft_coefficient__attr_\"imag\"__coeff_16'\n",
      " 'value__fft_coefficient__attr_\"imag\"__coeff_17'\n",
      " 'value__fft_coefficient__attr_\"imag\"__coeff_18'\n",
      " 'value__fft_coefficient__attr_\"imag\"__coeff_19'\n",
      " 'value__fft_coefficient__attr_\"imag\"__coeff_20'\n",
      " 'value__fft_coefficient__attr_\"imag\"__coeff_21'\n",
      " 'value__fft_coefficient__attr_\"imag\"__coeff_22'\n",
      " 'value__fft_coefficient__attr_\"imag\"__coeff_23'\n",
      " 'value__fft_coefficient__attr_\"imag\"__coeff_24'\n",
      " 'value__fft_coefficient__attr_\"imag\"__coeff_25'\n",
      " 'value__fft_coefficient__attr_\"imag\"__coeff_26'\n",
      " 'value__fft_coefficient__attr_\"imag\"__coeff_27'\n",
      " 'value__fft_coefficient__attr_\"imag\"__coeff_28'\n",
      " 'value__fft_coefficient__attr_\"imag\"__coeff_29'\n",
      " 'value__fft_coefficient__attr_\"imag\"__coeff_30'\n",
      " 'value__fft_coefficient__attr_\"imag\"__coeff_31'\n",
      " 'value__fft_coefficient__attr_\"imag\"__coeff_32'\n",
      " 'value__fft_coefficient__attr_\"imag\"__coeff_33'\n",
      " 'value__fft_coefficient__attr_\"imag\"__coeff_34'\n",
      " 'value__fft_coefficient__attr_\"imag\"__coeff_35'\n",
      " 'value__fft_coefficient__attr_\"imag\"__coeff_36'\n",
      " 'value__fft_coefficient__attr_\"imag\"__coeff_37'\n",
      " 'value__fft_coefficient__attr_\"imag\"__coeff_38'\n",
      " 'value__fft_coefficient__attr_\"imag\"__coeff_39'\n",
      " 'value__fft_coefficient__attr_\"imag\"__coeff_40'\n",
      " 'value__fft_coefficient__attr_\"imag\"__coeff_41'\n",
      " 'value__fft_coefficient__attr_\"imag\"__coeff_42'\n",
      " 'value__fft_coefficient__attr_\"imag\"__coeff_43'\n",
      " 'value__fft_coefficient__attr_\"imag\"__coeff_44'\n",
      " 'value__fft_coefficient__attr_\"imag\"__coeff_45'\n",
      " 'value__fft_coefficient__attr_\"imag\"__coeff_46'\n",
      " 'value__fft_coefficient__attr_\"imag\"__coeff_47'\n",
      " 'value__fft_coefficient__attr_\"imag\"__coeff_48'\n",
      " 'value__fft_coefficient__attr_\"imag\"__coeff_49'\n",
      " 'value__fft_coefficient__attr_\"imag\"__coeff_50'\n",
      " 'value__fft_coefficient__attr_\"imag\"__coeff_51'\n",
      " 'value__fft_coefficient__attr_\"imag\"__coeff_52'\n",
      " 'value__fft_coefficient__attr_\"imag\"__coeff_53'\n",
      " 'value__fft_coefficient__attr_\"imag\"__coeff_54'\n",
      " 'value__fft_coefficient__attr_\"imag\"__coeff_55'\n",
      " 'value__fft_coefficient__attr_\"imag\"__coeff_56'\n",
      " 'value__fft_coefficient__attr_\"imag\"__coeff_57'\n",
      " 'value__fft_coefficient__attr_\"imag\"__coeff_58'\n",
      " 'value__fft_coefficient__attr_\"imag\"__coeff_59'\n",
      " 'value__fft_coefficient__attr_\"imag\"__coeff_60'\n",
      " 'value__fft_coefficient__attr_\"imag\"__coeff_61'\n",
      " 'value__fft_coefficient__attr_\"imag\"__coeff_62'\n",
      " 'value__fft_coefficient__attr_\"imag\"__coeff_63'\n",
      " 'value__fft_coefficient__attr_\"imag\"__coeff_64'\n",
      " 'value__fft_coefficient__attr_\"imag\"__coeff_65'\n",
      " 'value__fft_coefficient__attr_\"imag\"__coeff_66'\n",
      " 'value__fft_coefficient__attr_\"imag\"__coeff_67'\n",
      " 'value__fft_coefficient__attr_\"imag\"__coeff_68'\n",
      " 'value__fft_coefficient__attr_\"imag\"__coeff_69'\n",
      " 'value__fft_coefficient__attr_\"imag\"__coeff_70'\n",
      " 'value__fft_coefficient__attr_\"imag\"__coeff_71'\n",
      " 'value__fft_coefficient__attr_\"imag\"__coeff_72'\n",
      " 'value__fft_coefficient__attr_\"imag\"__coeff_73'\n",
      " 'value__fft_coefficient__attr_\"imag\"__coeff_74'\n",
      " 'value__fft_coefficient__attr_\"imag\"__coeff_75'\n",
      " 'value__fft_coefficient__attr_\"imag\"__coeff_76'\n",
      " 'value__fft_coefficient__attr_\"imag\"__coeff_77'\n",
      " 'value__fft_coefficient__attr_\"imag\"__coeff_78'\n",
      " 'value__fft_coefficient__attr_\"imag\"__coeff_79'\n",
      " 'value__fft_coefficient__attr_\"imag\"__coeff_80'\n",
      " 'value__fft_coefficient__attr_\"imag\"__coeff_81'\n",
      " 'value__fft_coefficient__attr_\"imag\"__coeff_82'\n",
      " 'value__fft_coefficient__attr_\"imag\"__coeff_83'\n",
      " 'value__fft_coefficient__attr_\"imag\"__coeff_84'\n",
      " 'value__fft_coefficient__attr_\"imag\"__coeff_85'\n",
      " 'value__fft_coefficient__attr_\"imag\"__coeff_86'\n",
      " 'value__fft_coefficient__attr_\"imag\"__coeff_87'\n",
      " 'value__fft_coefficient__attr_\"imag\"__coeff_88'\n",
      " 'value__fft_coefficient__attr_\"imag\"__coeff_89'\n",
      " 'value__fft_coefficient__attr_\"imag\"__coeff_90'\n",
      " 'value__fft_coefficient__attr_\"imag\"__coeff_91'\n",
      " 'value__fft_coefficient__attr_\"imag\"__coeff_92'\n",
      " 'value__fft_coefficient__attr_\"imag\"__coeff_93'\n",
      " 'value__fft_coefficient__attr_\"imag\"__coeff_94'\n",
      " 'value__fft_coefficient__attr_\"imag\"__coeff_95'\n",
      " 'value__fft_coefficient__attr_\"imag\"__coeff_96'\n",
      " 'value__fft_coefficient__attr_\"imag\"__coeff_97'\n",
      " 'value__fft_coefficient__attr_\"imag\"__coeff_98'\n",
      " 'value__fft_coefficient__attr_\"imag\"__coeff_99'\n",
      " 'value__fft_coefficient__attr_\"abs\"__coeff_1'\n",
      " 'value__fft_coefficient__attr_\"abs\"__coeff_2'\n",
      " 'value__fft_coefficient__attr_\"abs\"__coeff_3'\n",
      " 'value__fft_coefficient__attr_\"abs\"__coeff_4'\n",
      " 'value__fft_coefficient__attr_\"abs\"__coeff_5'\n",
      " 'value__fft_coefficient__attr_\"abs\"__coeff_6'\n",
      " 'value__fft_coefficient__attr_\"abs\"__coeff_7'\n",
      " 'value__fft_coefficient__attr_\"abs\"__coeff_8'\n",
      " 'value__fft_coefficient__attr_\"abs\"__coeff_9'\n",
      " 'value__fft_coefficient__attr_\"abs\"__coeff_10'\n",
      " 'value__fft_coefficient__attr_\"abs\"__coeff_11'\n",
      " 'value__fft_coefficient__attr_\"abs\"__coeff_12'\n",
      " 'value__fft_coefficient__attr_\"abs\"__coeff_13'\n",
      " 'value__fft_coefficient__attr_\"abs\"__coeff_14'\n",
      " 'value__fft_coefficient__attr_\"abs\"__coeff_15'\n",
      " 'value__fft_coefficient__attr_\"abs\"__coeff_16'\n",
      " 'value__fft_coefficient__attr_\"abs\"__coeff_17'\n",
      " 'value__fft_coefficient__attr_\"abs\"__coeff_18'\n",
      " 'value__fft_coefficient__attr_\"abs\"__coeff_19'\n",
      " 'value__fft_coefficient__attr_\"abs\"__coeff_20'\n",
      " 'value__fft_coefficient__attr_\"abs\"__coeff_21'\n",
      " 'value__fft_coefficient__attr_\"abs\"__coeff_22'\n",
      " 'value__fft_coefficient__attr_\"abs\"__coeff_23'\n",
      " 'value__fft_coefficient__attr_\"abs\"__coeff_24'\n",
      " 'value__fft_coefficient__attr_\"abs\"__coeff_25'\n",
      " 'value__fft_coefficient__attr_\"abs\"__coeff_26'\n",
      " 'value__fft_coefficient__attr_\"abs\"__coeff_27'\n",
      " 'value__fft_coefficient__attr_\"abs\"__coeff_28'\n",
      " 'value__fft_coefficient__attr_\"abs\"__coeff_29'\n",
      " 'value__fft_coefficient__attr_\"abs\"__coeff_30'\n",
      " 'value__fft_coefficient__attr_\"abs\"__coeff_31'\n",
      " 'value__fft_coefficient__attr_\"abs\"__coeff_32'\n",
      " 'value__fft_coefficient__attr_\"abs\"__coeff_33'\n",
      " 'value__fft_coefficient__attr_\"abs\"__coeff_34'\n",
      " 'value__fft_coefficient__attr_\"abs\"__coeff_35'\n",
      " 'value__fft_coefficient__attr_\"abs\"__coeff_36'\n",
      " 'value__fft_coefficient__attr_\"abs\"__coeff_37'\n",
      " 'value__fft_coefficient__attr_\"abs\"__coeff_38'\n",
      " 'value__fft_coefficient__attr_\"abs\"__coeff_39'\n",
      " 'value__fft_coefficient__attr_\"abs\"__coeff_40'\n",
      " 'value__fft_coefficient__attr_\"abs\"__coeff_41'\n",
      " 'value__fft_coefficient__attr_\"abs\"__coeff_42'\n",
      " 'value__fft_coefficient__attr_\"abs\"__coeff_43'\n",
      " 'value__fft_coefficient__attr_\"abs\"__coeff_44'\n",
      " 'value__fft_coefficient__attr_\"abs\"__coeff_45'\n",
      " 'value__fft_coefficient__attr_\"abs\"__coeff_46'\n",
      " 'value__fft_coefficient__attr_\"abs\"__coeff_47'\n",
      " 'value__fft_coefficient__attr_\"abs\"__coeff_48'\n",
      " 'value__fft_coefficient__attr_\"abs\"__coeff_49'\n",
      " 'value__fft_coefficient__attr_\"abs\"__coeff_50'\n",
      " 'value__fft_coefficient__attr_\"abs\"__coeff_51'\n",
      " 'value__fft_coefficient__attr_\"abs\"__coeff_52'\n",
      " 'value__fft_coefficient__attr_\"abs\"__coeff_53'\n",
      " 'value__fft_coefficient__attr_\"abs\"__coeff_54'\n",
      " 'value__fft_coefficient__attr_\"abs\"__coeff_55'\n",
      " 'value__fft_coefficient__attr_\"abs\"__coeff_56'\n",
      " 'value__fft_coefficient__attr_\"abs\"__coeff_57'\n",
      " 'value__fft_coefficient__attr_\"abs\"__coeff_58'\n",
      " 'value__fft_coefficient__attr_\"abs\"__coeff_59'\n",
      " 'value__fft_coefficient__attr_\"abs\"__coeff_60'\n",
      " 'value__fft_coefficient__attr_\"abs\"__coeff_61'\n",
      " 'value__fft_coefficient__attr_\"abs\"__coeff_62'\n",
      " 'value__fft_coefficient__attr_\"abs\"__coeff_63'\n",
      " 'value__fft_coefficient__attr_\"abs\"__coeff_64'\n",
      " 'value__fft_coefficient__attr_\"abs\"__coeff_65'\n",
      " 'value__fft_coefficient__attr_\"abs\"__coeff_66'\n",
      " 'value__fft_coefficient__attr_\"abs\"__coeff_67'\n",
      " 'value__fft_coefficient__attr_\"abs\"__coeff_68'\n",
      " 'value__fft_coefficient__attr_\"abs\"__coeff_69'\n",
      " 'value__fft_coefficient__attr_\"abs\"__coeff_70'\n",
      " 'value__fft_coefficient__attr_\"abs\"__coeff_71'\n",
      " 'value__fft_coefficient__attr_\"abs\"__coeff_72'\n",
      " 'value__fft_coefficient__attr_\"abs\"__coeff_73'\n",
      " 'value__fft_coefficient__attr_\"abs\"__coeff_74'\n",
      " 'value__fft_coefficient__attr_\"abs\"__coeff_75'\n",
      " 'value__fft_coefficient__attr_\"abs\"__coeff_76'\n",
      " 'value__fft_coefficient__attr_\"abs\"__coeff_77'\n",
      " 'value__fft_coefficient__attr_\"abs\"__coeff_78'\n",
      " 'value__fft_coefficient__attr_\"abs\"__coeff_79'\n",
      " 'value__fft_coefficient__attr_\"abs\"__coeff_80'\n",
      " 'value__fft_coefficient__attr_\"abs\"__coeff_81'\n",
      " 'value__fft_coefficient__attr_\"abs\"__coeff_82'\n",
      " 'value__fft_coefficient__attr_\"abs\"__coeff_83'\n",
      " 'value__fft_coefficient__attr_\"abs\"__coeff_84'\n",
      " 'value__fft_coefficient__attr_\"abs\"__coeff_85'\n",
      " 'value__fft_coefficient__attr_\"abs\"__coeff_86'\n",
      " 'value__fft_coefficient__attr_\"abs\"__coeff_87'\n",
      " 'value__fft_coefficient__attr_\"abs\"__coeff_88'\n",
      " 'value__fft_coefficient__attr_\"abs\"__coeff_89'\n",
      " 'value__fft_coefficient__attr_\"abs\"__coeff_90'\n",
      " 'value__fft_coefficient__attr_\"abs\"__coeff_91'\n",
      " 'value__fft_coefficient__attr_\"abs\"__coeff_92'\n",
      " 'value__fft_coefficient__attr_\"abs\"__coeff_93'\n",
      " 'value__fft_coefficient__attr_\"abs\"__coeff_94'\n",
      " 'value__fft_coefficient__attr_\"abs\"__coeff_95'\n",
      " 'value__fft_coefficient__attr_\"abs\"__coeff_96'\n",
      " 'value__fft_coefficient__attr_\"abs\"__coeff_97'\n",
      " 'value__fft_coefficient__attr_\"abs\"__coeff_98'\n",
      " 'value__fft_coefficient__attr_\"abs\"__coeff_99'\n",
      " 'value__fft_coefficient__attr_\"angle\"__coeff_1'\n",
      " 'value__fft_coefficient__attr_\"angle\"__coeff_2'\n",
      " 'value__fft_coefficient__attr_\"angle\"__coeff_3'\n",
      " 'value__fft_coefficient__attr_\"angle\"__coeff_4'\n",
      " 'value__fft_coefficient__attr_\"angle\"__coeff_5'\n",
      " 'value__fft_coefficient__attr_\"angle\"__coeff_6'\n",
      " 'value__fft_coefficient__attr_\"angle\"__coeff_7'\n",
      " 'value__fft_coefficient__attr_\"angle\"__coeff_8'\n",
      " 'value__fft_coefficient__attr_\"angle\"__coeff_9'\n",
      " 'value__fft_coefficient__attr_\"angle\"__coeff_10'\n",
      " 'value__fft_coefficient__attr_\"angle\"__coeff_11'\n",
      " 'value__fft_coefficient__attr_\"angle\"__coeff_12'\n",
      " 'value__fft_coefficient__attr_\"angle\"__coeff_13'\n",
      " 'value__fft_coefficient__attr_\"angle\"__coeff_14'\n",
      " 'value__fft_coefficient__attr_\"angle\"__coeff_15'\n",
      " 'value__fft_coefficient__attr_\"angle\"__coeff_16'\n",
      " 'value__fft_coefficient__attr_\"angle\"__coeff_17'\n",
      " 'value__fft_coefficient__attr_\"angle\"__coeff_18'\n",
      " 'value__fft_coefficient__attr_\"angle\"__coeff_19'\n",
      " 'value__fft_coefficient__attr_\"angle\"__coeff_20'\n",
      " 'value__fft_coefficient__attr_\"angle\"__coeff_21'\n",
      " 'value__fft_coefficient__attr_\"angle\"__coeff_22'\n",
      " 'value__fft_coefficient__attr_\"angle\"__coeff_23'\n",
      " 'value__fft_coefficient__attr_\"angle\"__coeff_24'\n",
      " 'value__fft_coefficient__attr_\"angle\"__coeff_25'\n",
      " 'value__fft_coefficient__attr_\"angle\"__coeff_26'\n",
      " 'value__fft_coefficient__attr_\"angle\"__coeff_27'\n",
      " 'value__fft_coefficient__attr_\"angle\"__coeff_28'\n",
      " 'value__fft_coefficient__attr_\"angle\"__coeff_29'\n",
      " 'value__fft_coefficient__attr_\"angle\"__coeff_30'\n",
      " 'value__fft_coefficient__attr_\"angle\"__coeff_31'\n",
      " 'value__fft_coefficient__attr_\"angle\"__coeff_32'\n",
      " 'value__fft_coefficient__attr_\"angle\"__coeff_33'\n",
      " 'value__fft_coefficient__attr_\"angle\"__coeff_34'\n",
      " 'value__fft_coefficient__attr_\"angle\"__coeff_35'\n",
      " 'value__fft_coefficient__attr_\"angle\"__coeff_36'\n",
      " 'value__fft_coefficient__attr_\"angle\"__coeff_37'\n",
      " 'value__fft_coefficient__attr_\"angle\"__coeff_38'\n",
      " 'value__fft_coefficient__attr_\"angle\"__coeff_39'\n",
      " 'value__fft_coefficient__attr_\"angle\"__coeff_40'\n",
      " 'value__fft_coefficient__attr_\"angle\"__coeff_41'\n",
      " 'value__fft_coefficient__attr_\"angle\"__coeff_42'\n",
      " 'value__fft_coefficient__attr_\"angle\"__coeff_43'\n",
      " 'value__fft_coefficient__attr_\"angle\"__coeff_44'\n",
      " 'value__fft_coefficient__attr_\"angle\"__coeff_45'\n",
      " 'value__fft_coefficient__attr_\"angle\"__coeff_46'\n",
      " 'value__fft_coefficient__attr_\"angle\"__coeff_47'\n",
      " 'value__fft_coefficient__attr_\"angle\"__coeff_48'\n",
      " 'value__fft_coefficient__attr_\"angle\"__coeff_49'\n",
      " 'value__fft_coefficient__attr_\"angle\"__coeff_50'\n",
      " 'value__fft_coefficient__attr_\"angle\"__coeff_51'\n",
      " 'value__fft_coefficient__attr_\"angle\"__coeff_52'\n",
      " 'value__fft_coefficient__attr_\"angle\"__coeff_53'\n",
      " 'value__fft_coefficient__attr_\"angle\"__coeff_54'\n",
      " 'value__fft_coefficient__attr_\"angle\"__coeff_55'\n",
      " 'value__fft_coefficient__attr_\"angle\"__coeff_56'\n",
      " 'value__fft_coefficient__attr_\"angle\"__coeff_57'\n",
      " 'value__fft_coefficient__attr_\"angle\"__coeff_58'\n",
      " 'value__fft_coefficient__attr_\"angle\"__coeff_59'\n",
      " 'value__fft_coefficient__attr_\"angle\"__coeff_60'\n",
      " 'value__fft_coefficient__attr_\"angle\"__coeff_61'\n",
      " 'value__fft_coefficient__attr_\"angle\"__coeff_62'\n",
      " 'value__fft_coefficient__attr_\"angle\"__coeff_63'\n",
      " 'value__fft_coefficient__attr_\"angle\"__coeff_64'\n",
      " 'value__fft_coefficient__attr_\"angle\"__coeff_65'\n",
      " 'value__fft_coefficient__attr_\"angle\"__coeff_66'\n",
      " 'value__fft_coefficient__attr_\"angle\"__coeff_67'\n",
      " 'value__fft_coefficient__attr_\"angle\"__coeff_68'\n",
      " 'value__fft_coefficient__attr_\"angle\"__coeff_69'\n",
      " 'value__fft_coefficient__attr_\"angle\"__coeff_70'\n",
      " 'value__fft_coefficient__attr_\"angle\"__coeff_71'\n",
      " 'value__fft_coefficient__attr_\"angle\"__coeff_72'\n",
      " 'value__fft_coefficient__attr_\"angle\"__coeff_73'\n",
      " 'value__fft_coefficient__attr_\"angle\"__coeff_74'\n",
      " 'value__fft_coefficient__attr_\"angle\"__coeff_75'\n",
      " 'value__fft_coefficient__attr_\"angle\"__coeff_76'\n",
      " 'value__fft_coefficient__attr_\"angle\"__coeff_77'\n",
      " 'value__fft_coefficient__attr_\"angle\"__coeff_78'\n",
      " 'value__fft_coefficient__attr_\"angle\"__coeff_79'\n",
      " 'value__fft_coefficient__attr_\"angle\"__coeff_80'\n",
      " 'value__fft_coefficient__attr_\"angle\"__coeff_81'\n",
      " 'value__fft_coefficient__attr_\"angle\"__coeff_82'\n",
      " 'value__fft_coefficient__attr_\"angle\"__coeff_83'\n",
      " 'value__fft_coefficient__attr_\"angle\"__coeff_84'\n",
      " 'value__fft_coefficient__attr_\"angle\"__coeff_85'\n",
      " 'value__fft_coefficient__attr_\"angle\"__coeff_86'\n",
      " 'value__fft_coefficient__attr_\"angle\"__coeff_87'\n",
      " 'value__fft_coefficient__attr_\"angle\"__coeff_88'\n",
      " 'value__fft_coefficient__attr_\"angle\"__coeff_89'\n",
      " 'value__fft_coefficient__attr_\"angle\"__coeff_90'\n",
      " 'value__fft_coefficient__attr_\"angle\"__coeff_91'\n",
      " 'value__fft_coefficient__attr_\"angle\"__coeff_92'\n",
      " 'value__fft_coefficient__attr_\"angle\"__coeff_93'\n",
      " 'value__fft_coefficient__attr_\"angle\"__coeff_94'\n",
      " 'value__fft_coefficient__attr_\"angle\"__coeff_95'\n",
      " 'value__fft_coefficient__attr_\"angle\"__coeff_96'\n",
      " 'value__fft_coefficient__attr_\"angle\"__coeff_97'\n",
      " 'value__fft_coefficient__attr_\"angle\"__coeff_98'\n",
      " 'value__fft_coefficient__attr_\"angle\"__coeff_99'\n",
      " 'value__fft_aggregated__aggtype_\"skew\"'\n",
      " 'value__fft_aggregated__aggtype_\"kurtosis\"'\n",
      " 'value__friedrich_coefficients__coeff_0__m_3__r_30'\n",
      " 'value__friedrich_coefficients__coeff_1__m_3__r_30'\n",
      " 'value__friedrich_coefficients__coeff_2__m_3__r_30'\n",
      " 'value__friedrich_coefficients__coeff_3__m_3__r_30'\n",
      " 'value__max_langevin_fixed_point__m_3__r_30'\n",
      " 'value__linear_trend__attr_\"pvalue\"'\n",
      " 'value__linear_trend__attr_\"intercept\"'\n",
      " 'value__linear_trend__attr_\"slope\"' 'value__linear_trend__attr_\"stderr\"'\n",
      " 'value__agg_linear_trend__attr_\"rvalue\"__chunk_len_5__f_agg_\"max\"'\n",
      " 'value__agg_linear_trend__attr_\"rvalue\"__chunk_len_5__f_agg_\"min\"'\n",
      " 'value__agg_linear_trend__attr_\"rvalue\"__chunk_len_5__f_agg_\"mean\"'\n",
      " 'value__agg_linear_trend__attr_\"rvalue\"__chunk_len_5__f_agg_\"var\"'\n",
      " 'value__agg_linear_trend__attr_\"rvalue\"__chunk_len_10__f_agg_\"max\"'\n",
      " 'value__agg_linear_trend__attr_\"rvalue\"__chunk_len_10__f_agg_\"min\"'\n",
      " 'value__agg_linear_trend__attr_\"rvalue\"__chunk_len_10__f_agg_\"mean\"'\n",
      " 'value__agg_linear_trend__attr_\"rvalue\"__chunk_len_10__f_agg_\"var\"'\n",
      " 'value__agg_linear_trend__attr_\"rvalue\"__chunk_len_50__f_agg_\"max\"'\n",
      " 'value__agg_linear_trend__attr_\"rvalue\"__chunk_len_50__f_agg_\"min\"'\n",
      " 'value__agg_linear_trend__attr_\"rvalue\"__chunk_len_50__f_agg_\"mean\"'\n",
      " 'value__agg_linear_trend__attr_\"rvalue\"__chunk_len_50__f_agg_\"var\"'\n",
      " 'value__agg_linear_trend__attr_\"intercept\"__chunk_len_5__f_agg_\"max\"'\n",
      " 'value__agg_linear_trend__attr_\"intercept\"__chunk_len_5__f_agg_\"min\"'\n",
      " 'value__agg_linear_trend__attr_\"intercept\"__chunk_len_5__f_agg_\"mean\"'\n",
      " 'value__agg_linear_trend__attr_\"intercept\"__chunk_len_5__f_agg_\"var\"'\n",
      " 'value__agg_linear_trend__attr_\"intercept\"__chunk_len_10__f_agg_\"max\"'\n",
      " 'value__agg_linear_trend__attr_\"intercept\"__chunk_len_10__f_agg_\"min\"'\n",
      " 'value__agg_linear_trend__attr_\"intercept\"__chunk_len_10__f_agg_\"mean\"'\n",
      " 'value__agg_linear_trend__attr_\"intercept\"__chunk_len_10__f_agg_\"var\"'\n",
      " 'value__agg_linear_trend__attr_\"intercept\"__chunk_len_50__f_agg_\"max\"'\n",
      " 'value__agg_linear_trend__attr_\"intercept\"__chunk_len_50__f_agg_\"min\"'\n",
      " 'value__agg_linear_trend__attr_\"intercept\"__chunk_len_50__f_agg_\"mean\"'\n",
      " 'value__agg_linear_trend__attr_\"intercept\"__chunk_len_50__f_agg_\"var\"'\n",
      " 'value__agg_linear_trend__attr_\"slope\"__chunk_len_5__f_agg_\"max\"'\n",
      " 'value__agg_linear_trend__attr_\"slope\"__chunk_len_5__f_agg_\"min\"'\n",
      " 'value__agg_linear_trend__attr_\"slope\"__chunk_len_5__f_agg_\"mean\"'\n",
      " 'value__agg_linear_trend__attr_\"slope\"__chunk_len_5__f_agg_\"var\"'\n",
      " 'value__agg_linear_trend__attr_\"slope\"__chunk_len_10__f_agg_\"max\"'\n",
      " 'value__agg_linear_trend__attr_\"slope\"__chunk_len_10__f_agg_\"min\"'\n",
      " 'value__agg_linear_trend__attr_\"slope\"__chunk_len_10__f_agg_\"mean\"'\n",
      " 'value__agg_linear_trend__attr_\"slope\"__chunk_len_10__f_agg_\"var\"'\n",
      " 'value__agg_linear_trend__attr_\"slope\"__chunk_len_50__f_agg_\"max\"'\n",
      " 'value__agg_linear_trend__attr_\"slope\"__chunk_len_50__f_agg_\"min\"'\n",
      " 'value__agg_linear_trend__attr_\"slope\"__chunk_len_50__f_agg_\"mean\"'\n",
      " 'value__agg_linear_trend__attr_\"slope\"__chunk_len_50__f_agg_\"var\"'\n",
      " 'value__agg_linear_trend__attr_\"stderr\"__chunk_len_5__f_agg_\"max\"'\n",
      " 'value__agg_linear_trend__attr_\"stderr\"__chunk_len_5__f_agg_\"min\"'\n",
      " 'value__agg_linear_trend__attr_\"stderr\"__chunk_len_5__f_agg_\"mean\"'\n",
      " 'value__agg_linear_trend__attr_\"stderr\"__chunk_len_5__f_agg_\"var\"'\n",
      " 'value__agg_linear_trend__attr_\"stderr\"__chunk_len_10__f_agg_\"max\"'\n",
      " 'value__agg_linear_trend__attr_\"stderr\"__chunk_len_10__f_agg_\"min\"'\n",
      " 'value__agg_linear_trend__attr_\"stderr\"__chunk_len_10__f_agg_\"mean\"'\n",
      " 'value__agg_linear_trend__attr_\"stderr\"__chunk_len_10__f_agg_\"var\"'\n",
      " 'value__agg_linear_trend__attr_\"stderr\"__chunk_len_50__f_agg_\"max\"'\n",
      " 'value__agg_linear_trend__attr_\"stderr\"__chunk_len_50__f_agg_\"min\"'\n",
      " 'value__agg_linear_trend__attr_\"stderr\"__chunk_len_50__f_agg_\"mean\"'\n",
      " 'value__agg_linear_trend__attr_\"stderr\"__chunk_len_50__f_agg_\"var\"'\n",
      " 'value__augmented_dickey_fuller__attr_\"teststat\"__autolag_\"AIC\"'\n",
      " 'value__augmented_dickey_fuller__attr_\"pvalue\"__autolag_\"AIC\"'\n",
      " 'value__augmented_dickey_fuller__attr_\"usedlag\"__autolag_\"AIC\"'\n",
      " 'value__fourier_entropy__bins_2' 'value__fourier_entropy__bins_3'\n",
      " 'value__fourier_entropy__bins_5' 'value__fourier_entropy__bins_10'\n",
      " 'value__fourier_entropy__bins_100'\n",
      " 'value__permutation_entropy__dimension_3__tau_1'\n",
      " 'value__permutation_entropy__dimension_4__tau_1'\n",
      " 'value__permutation_entropy__dimension_5__tau_1'\n",
      " 'value__permutation_entropy__dimension_6__tau_1'\n",
      " 'value__permutation_entropy__dimension_7__tau_1'\n",
      " 'value__query_similarity_count__query_None__threshold_0.0'\n",
      " 'value__mean_n_absolute_max__number_of_maxima_7'] did not have any finite values. Filling with zeros.\n",
      "  warnings.warn(\n",
      "c:\\Users\\andre\\anaconda3\\envs\\pykan\\lib\\site-packages\\tsfresh\\utilities\\dataframe_functions.py:198: RuntimeWarning: The columns ['value__mean_abs_change' 'value__mean_change'\n",
      " 'value__mean_second_derivative_central' 'value__skewness'\n",
      " 'value__kurtosis' 'value__sample_entropy' 'value__autocorrelation__lag_0'\n",
      " 'value__autocorrelation__lag_1' 'value__autocorrelation__lag_2'\n",
      " 'value__autocorrelation__lag_3' 'value__autocorrelation__lag_4'\n",
      " 'value__autocorrelation__lag_5' 'value__autocorrelation__lag_6'\n",
      " 'value__autocorrelation__lag_7' 'value__autocorrelation__lag_8'\n",
      " 'value__autocorrelation__lag_9' 'value__partial_autocorrelation__lag_0'\n",
      " 'value__partial_autocorrelation__lag_1'\n",
      " 'value__partial_autocorrelation__lag_2'\n",
      " 'value__partial_autocorrelation__lag_3'\n",
      " 'value__partial_autocorrelation__lag_4'\n",
      " 'value__partial_autocorrelation__lag_5'\n",
      " 'value__partial_autocorrelation__lag_6'\n",
      " 'value__partial_autocorrelation__lag_7'\n",
      " 'value__partial_autocorrelation__lag_8'\n",
      " 'value__partial_autocorrelation__lag_9'\n",
      " 'value__cwt_coefficients__coeff_1__w_2__widths_(2, 5, 10, 20)'\n",
      " 'value__cwt_coefficients__coeff_1__w_5__widths_(2, 5, 10, 20)'\n",
      " 'value__cwt_coefficients__coeff_1__w_10__widths_(2, 5, 10, 20)'\n",
      " 'value__cwt_coefficients__coeff_1__w_20__widths_(2, 5, 10, 20)'\n",
      " 'value__cwt_coefficients__coeff_2__w_2__widths_(2, 5, 10, 20)'\n",
      " 'value__cwt_coefficients__coeff_2__w_5__widths_(2, 5, 10, 20)'\n",
      " 'value__cwt_coefficients__coeff_2__w_10__widths_(2, 5, 10, 20)'\n",
      " 'value__cwt_coefficients__coeff_2__w_20__widths_(2, 5, 10, 20)'\n",
      " 'value__cwt_coefficients__coeff_3__w_2__widths_(2, 5, 10, 20)'\n",
      " 'value__cwt_coefficients__coeff_3__w_5__widths_(2, 5, 10, 20)'\n",
      " 'value__cwt_coefficients__coeff_3__w_10__widths_(2, 5, 10, 20)'\n",
      " 'value__cwt_coefficients__coeff_3__w_20__widths_(2, 5, 10, 20)'\n",
      " 'value__cwt_coefficients__coeff_4__w_2__widths_(2, 5, 10, 20)'\n",
      " 'value__cwt_coefficients__coeff_4__w_5__widths_(2, 5, 10, 20)'\n",
      " 'value__cwt_coefficients__coeff_4__w_10__widths_(2, 5, 10, 20)'\n",
      " 'value__cwt_coefficients__coeff_4__w_20__widths_(2, 5, 10, 20)'\n",
      " 'value__cwt_coefficients__coeff_5__w_2__widths_(2, 5, 10, 20)'\n",
      " 'value__cwt_coefficients__coeff_5__w_5__widths_(2, 5, 10, 20)'\n",
      " 'value__cwt_coefficients__coeff_5__w_10__widths_(2, 5, 10, 20)'\n",
      " 'value__cwt_coefficients__coeff_5__w_20__widths_(2, 5, 10, 20)'\n",
      " 'value__cwt_coefficients__coeff_6__w_2__widths_(2, 5, 10, 20)'\n",
      " 'value__cwt_coefficients__coeff_6__w_5__widths_(2, 5, 10, 20)'\n",
      " 'value__cwt_coefficients__coeff_6__w_10__widths_(2, 5, 10, 20)'\n",
      " 'value__cwt_coefficients__coeff_6__w_20__widths_(2, 5, 10, 20)'\n",
      " 'value__cwt_coefficients__coeff_7__w_2__widths_(2, 5, 10, 20)'\n",
      " 'value__cwt_coefficients__coeff_7__w_5__widths_(2, 5, 10, 20)'\n",
      " 'value__cwt_coefficients__coeff_7__w_10__widths_(2, 5, 10, 20)'\n",
      " 'value__cwt_coefficients__coeff_7__w_20__widths_(2, 5, 10, 20)'\n",
      " 'value__cwt_coefficients__coeff_8__w_2__widths_(2, 5, 10, 20)'\n",
      " 'value__cwt_coefficients__coeff_8__w_5__widths_(2, 5, 10, 20)'\n",
      " 'value__cwt_coefficients__coeff_8__w_10__widths_(2, 5, 10, 20)'\n",
      " 'value__cwt_coefficients__coeff_8__w_20__widths_(2, 5, 10, 20)'\n",
      " 'value__cwt_coefficients__coeff_9__w_2__widths_(2, 5, 10, 20)'\n",
      " 'value__cwt_coefficients__coeff_9__w_5__widths_(2, 5, 10, 20)'\n",
      " 'value__cwt_coefficients__coeff_9__w_10__widths_(2, 5, 10, 20)'\n",
      " 'value__cwt_coefficients__coeff_9__w_20__widths_(2, 5, 10, 20)'\n",
      " 'value__cwt_coefficients__coeff_10__w_2__widths_(2, 5, 10, 20)'\n",
      " 'value__cwt_coefficients__coeff_10__w_5__widths_(2, 5, 10, 20)'\n",
      " 'value__cwt_coefficients__coeff_10__w_10__widths_(2, 5, 10, 20)'\n",
      " 'value__cwt_coefficients__coeff_10__w_20__widths_(2, 5, 10, 20)'\n",
      " 'value__cwt_coefficients__coeff_11__w_2__widths_(2, 5, 10, 20)'\n",
      " 'value__cwt_coefficients__coeff_11__w_5__widths_(2, 5, 10, 20)'\n",
      " 'value__cwt_coefficients__coeff_11__w_10__widths_(2, 5, 10, 20)'\n",
      " 'value__cwt_coefficients__coeff_11__w_20__widths_(2, 5, 10, 20)'\n",
      " 'value__cwt_coefficients__coeff_12__w_2__widths_(2, 5, 10, 20)'\n",
      " 'value__cwt_coefficients__coeff_12__w_5__widths_(2, 5, 10, 20)'\n",
      " 'value__cwt_coefficients__coeff_12__w_10__widths_(2, 5, 10, 20)'\n",
      " 'value__cwt_coefficients__coeff_12__w_20__widths_(2, 5, 10, 20)'\n",
      " 'value__cwt_coefficients__coeff_13__w_2__widths_(2, 5, 10, 20)'\n",
      " 'value__cwt_coefficients__coeff_13__w_5__widths_(2, 5, 10, 20)'\n",
      " 'value__cwt_coefficients__coeff_13__w_10__widths_(2, 5, 10, 20)'\n",
      " 'value__cwt_coefficients__coeff_13__w_20__widths_(2, 5, 10, 20)'\n",
      " 'value__cwt_coefficients__coeff_14__w_2__widths_(2, 5, 10, 20)'\n",
      " 'value__cwt_coefficients__coeff_14__w_5__widths_(2, 5, 10, 20)'\n",
      " 'value__cwt_coefficients__coeff_14__w_10__widths_(2, 5, 10, 20)'\n",
      " 'value__cwt_coefficients__coeff_14__w_20__widths_(2, 5, 10, 20)'\n",
      " 'value__spkt_welch_density__coeff_2' 'value__spkt_welch_density__coeff_5'\n",
      " 'value__spkt_welch_density__coeff_8'\n",
      " 'value__ar_coefficient__coeff_0__k_10'\n",
      " 'value__ar_coefficient__coeff_1__k_10'\n",
      " 'value__ar_coefficient__coeff_2__k_10'\n",
      " 'value__ar_coefficient__coeff_3__k_10'\n",
      " 'value__ar_coefficient__coeff_4__k_10'\n",
      " 'value__ar_coefficient__coeff_5__k_10'\n",
      " 'value__ar_coefficient__coeff_6__k_10'\n",
      " 'value__ar_coefficient__coeff_7__k_10'\n",
      " 'value__ar_coefficient__coeff_8__k_10'\n",
      " 'value__ar_coefficient__coeff_9__k_10'\n",
      " 'value__fft_coefficient__attr_\"real\"__coeff_1'\n",
      " 'value__fft_coefficient__attr_\"real\"__coeff_2'\n",
      " 'value__fft_coefficient__attr_\"real\"__coeff_3'\n",
      " 'value__fft_coefficient__attr_\"real\"__coeff_4'\n",
      " 'value__fft_coefficient__attr_\"real\"__coeff_5'\n",
      " 'value__fft_coefficient__attr_\"real\"__coeff_6'\n",
      " 'value__fft_coefficient__attr_\"real\"__coeff_7'\n",
      " 'value__fft_coefficient__attr_\"real\"__coeff_8'\n",
      " 'value__fft_coefficient__attr_\"real\"__coeff_9'\n",
      " 'value__fft_coefficient__attr_\"real\"__coeff_10'\n",
      " 'value__fft_coefficient__attr_\"real\"__coeff_11'\n",
      " 'value__fft_coefficient__attr_\"real\"__coeff_12'\n",
      " 'value__fft_coefficient__attr_\"real\"__coeff_13'\n",
      " 'value__fft_coefficient__attr_\"real\"__coeff_14'\n",
      " 'value__fft_coefficient__attr_\"real\"__coeff_15'\n",
      " 'value__fft_coefficient__attr_\"real\"__coeff_16'\n",
      " 'value__fft_coefficient__attr_\"real\"__coeff_17'\n",
      " 'value__fft_coefficient__attr_\"real\"__coeff_18'\n",
      " 'value__fft_coefficient__attr_\"real\"__coeff_19'\n",
      " 'value__fft_coefficient__attr_\"real\"__coeff_20'\n",
      " 'value__fft_coefficient__attr_\"real\"__coeff_21'\n",
      " 'value__fft_coefficient__attr_\"real\"__coeff_22'\n",
      " 'value__fft_coefficient__attr_\"real\"__coeff_23'\n",
      " 'value__fft_coefficient__attr_\"real\"__coeff_24'\n",
      " 'value__fft_coefficient__attr_\"real\"__coeff_25'\n",
      " 'value__fft_coefficient__attr_\"real\"__coeff_26'\n",
      " 'value__fft_coefficient__attr_\"real\"__coeff_27'\n",
      " 'value__fft_coefficient__attr_\"real\"__coeff_28'\n",
      " 'value__fft_coefficient__attr_\"real\"__coeff_29'\n",
      " 'value__fft_coefficient__attr_\"real\"__coeff_30'\n",
      " 'value__fft_coefficient__attr_\"real\"__coeff_31'\n",
      " 'value__fft_coefficient__attr_\"real\"__coeff_32'\n",
      " 'value__fft_coefficient__attr_\"real\"__coeff_33'\n",
      " 'value__fft_coefficient__attr_\"real\"__coeff_34'\n",
      " 'value__fft_coefficient__attr_\"real\"__coeff_35'\n",
      " 'value__fft_coefficient__attr_\"real\"__coeff_36'\n",
      " 'value__fft_coefficient__attr_\"real\"__coeff_37'\n",
      " 'value__fft_coefficient__attr_\"real\"__coeff_38'\n",
      " 'value__fft_coefficient__attr_\"real\"__coeff_39'\n",
      " 'value__fft_coefficient__attr_\"real\"__coeff_40'\n",
      " 'value__fft_coefficient__attr_\"real\"__coeff_41'\n",
      " 'value__fft_coefficient__attr_\"real\"__coeff_42'\n",
      " 'value__fft_coefficient__attr_\"real\"__coeff_43'\n",
      " 'value__fft_coefficient__attr_\"real\"__coeff_44'\n",
      " 'value__fft_coefficient__attr_\"real\"__coeff_45'\n",
      " 'value__fft_coefficient__attr_\"real\"__coeff_46'\n",
      " 'value__fft_coefficient__attr_\"real\"__coeff_47'\n",
      " 'value__fft_coefficient__attr_\"real\"__coeff_48'\n",
      " 'value__fft_coefficient__attr_\"real\"__coeff_49'\n",
      " 'value__fft_coefficient__attr_\"real\"__coeff_50'\n",
      " 'value__fft_coefficient__attr_\"real\"__coeff_51'\n",
      " 'value__fft_coefficient__attr_\"real\"__coeff_52'\n",
      " 'value__fft_coefficient__attr_\"real\"__coeff_53'\n",
      " 'value__fft_coefficient__attr_\"real\"__coeff_54'\n",
      " 'value__fft_coefficient__attr_\"real\"__coeff_55'\n",
      " 'value__fft_coefficient__attr_\"real\"__coeff_56'\n",
      " 'value__fft_coefficient__attr_\"real\"__coeff_57'\n",
      " 'value__fft_coefficient__attr_\"real\"__coeff_58'\n",
      " 'value__fft_coefficient__attr_\"real\"__coeff_59'\n",
      " 'value__fft_coefficient__attr_\"real\"__coeff_60'\n",
      " 'value__fft_coefficient__attr_\"real\"__coeff_61'\n",
      " 'value__fft_coefficient__attr_\"real\"__coeff_62'\n",
      " 'value__fft_coefficient__attr_\"real\"__coeff_63'\n",
      " 'value__fft_coefficient__attr_\"real\"__coeff_64'\n",
      " 'value__fft_coefficient__attr_\"real\"__coeff_65'\n",
      " 'value__fft_coefficient__attr_\"real\"__coeff_66'\n",
      " 'value__fft_coefficient__attr_\"real\"__coeff_67'\n",
      " 'value__fft_coefficient__attr_\"real\"__coeff_68'\n",
      " 'value__fft_coefficient__attr_\"real\"__coeff_69'\n",
      " 'value__fft_coefficient__attr_\"real\"__coeff_70'\n",
      " 'value__fft_coefficient__attr_\"real\"__coeff_71'\n",
      " 'value__fft_coefficient__attr_\"real\"__coeff_72'\n",
      " 'value__fft_coefficient__attr_\"real\"__coeff_73'\n",
      " 'value__fft_coefficient__attr_\"real\"__coeff_74'\n",
      " 'value__fft_coefficient__attr_\"real\"__coeff_75'\n",
      " 'value__fft_coefficient__attr_\"real\"__coeff_76'\n",
      " 'value__fft_coefficient__attr_\"real\"__coeff_77'\n",
      " 'value__fft_coefficient__attr_\"real\"__coeff_78'\n",
      " 'value__fft_coefficient__attr_\"real\"__coeff_79'\n",
      " 'value__fft_coefficient__attr_\"real\"__coeff_80'\n",
      " 'value__fft_coefficient__attr_\"real\"__coeff_81'\n",
      " 'value__fft_coefficient__attr_\"real\"__coeff_82'\n",
      " 'value__fft_coefficient__attr_\"real\"__coeff_83'\n",
      " 'value__fft_coefficient__attr_\"real\"__coeff_84'\n",
      " 'value__fft_coefficient__attr_\"real\"__coeff_85'\n",
      " 'value__fft_coefficient__attr_\"real\"__coeff_86'\n",
      " 'value__fft_coefficient__attr_\"real\"__coeff_87'\n",
      " 'value__fft_coefficient__attr_\"real\"__coeff_88'\n",
      " 'value__fft_coefficient__attr_\"real\"__coeff_89'\n",
      " 'value__fft_coefficient__attr_\"real\"__coeff_90'\n",
      " 'value__fft_coefficient__attr_\"real\"__coeff_91'\n",
      " 'value__fft_coefficient__attr_\"real\"__coeff_92'\n",
      " 'value__fft_coefficient__attr_\"real\"__coeff_93'\n",
      " 'value__fft_coefficient__attr_\"real\"__coeff_94'\n",
      " 'value__fft_coefficient__attr_\"real\"__coeff_95'\n",
      " 'value__fft_coefficient__attr_\"real\"__coeff_96'\n",
      " 'value__fft_coefficient__attr_\"real\"__coeff_97'\n",
      " 'value__fft_coefficient__attr_\"real\"__coeff_98'\n",
      " 'value__fft_coefficient__attr_\"real\"__coeff_99'\n",
      " 'value__fft_coefficient__attr_\"imag\"__coeff_1'\n",
      " 'value__fft_coefficient__attr_\"imag\"__coeff_2'\n",
      " 'value__fft_coefficient__attr_\"imag\"__coeff_3'\n",
      " 'value__fft_coefficient__attr_\"imag\"__coeff_4'\n",
      " 'value__fft_coefficient__attr_\"imag\"__coeff_5'\n",
      " 'value__fft_coefficient__attr_\"imag\"__coeff_6'\n",
      " 'value__fft_coefficient__attr_\"imag\"__coeff_7'\n",
      " 'value__fft_coefficient__attr_\"imag\"__coeff_8'\n",
      " 'value__fft_coefficient__attr_\"imag\"__coeff_9'\n",
      " 'value__fft_coefficient__attr_\"imag\"__coeff_10'\n",
      " 'value__fft_coefficient__attr_\"imag\"__coeff_11'\n",
      " 'value__fft_coefficient__attr_\"imag\"__coeff_12'\n",
      " 'value__fft_coefficient__attr_\"imag\"__coeff_13'\n",
      " 'value__fft_coefficient__attr_\"imag\"__coeff_14'\n",
      " 'value__fft_coefficient__attr_\"imag\"__coeff_15'\n",
      " 'value__fft_coefficient__attr_\"imag\"__coeff_16'\n",
      " 'value__fft_coefficient__attr_\"imag\"__coeff_17'\n",
      " 'value__fft_coefficient__attr_\"imag\"__coeff_18'\n",
      " 'value__fft_coefficient__attr_\"imag\"__coeff_19'\n",
      " 'value__fft_coefficient__attr_\"imag\"__coeff_20'\n",
      " 'value__fft_coefficient__attr_\"imag\"__coeff_21'\n",
      " 'value__fft_coefficient__attr_\"imag\"__coeff_22'\n",
      " 'value__fft_coefficient__attr_\"imag\"__coeff_23'\n",
      " 'value__fft_coefficient__attr_\"imag\"__coeff_24'\n",
      " 'value__fft_coefficient__attr_\"imag\"__coeff_25'\n",
      " 'value__fft_coefficient__attr_\"imag\"__coeff_26'\n",
      " 'value__fft_coefficient__attr_\"imag\"__coeff_27'\n",
      " 'value__fft_coefficient__attr_\"imag\"__coeff_28'\n",
      " 'value__fft_coefficient__attr_\"imag\"__coeff_29'\n",
      " 'value__fft_coefficient__attr_\"imag\"__coeff_30'\n",
      " 'value__fft_coefficient__attr_\"imag\"__coeff_31'\n",
      " 'value__fft_coefficient__attr_\"imag\"__coeff_32'\n",
      " 'value__fft_coefficient__attr_\"imag\"__coeff_33'\n",
      " 'value__fft_coefficient__attr_\"imag\"__coeff_34'\n",
      " 'value__fft_coefficient__attr_\"imag\"__coeff_35'\n",
      " 'value__fft_coefficient__attr_\"imag\"__coeff_36'\n",
      " 'value__fft_coefficient__attr_\"imag\"__coeff_37'\n",
      " 'value__fft_coefficient__attr_\"imag\"__coeff_38'\n",
      " 'value__fft_coefficient__attr_\"imag\"__coeff_39'\n",
      " 'value__fft_coefficient__attr_\"imag\"__coeff_40'\n",
      " 'value__fft_coefficient__attr_\"imag\"__coeff_41'\n",
      " 'value__fft_coefficient__attr_\"imag\"__coeff_42'\n",
      " 'value__fft_coefficient__attr_\"imag\"__coeff_43'\n",
      " 'value__fft_coefficient__attr_\"imag\"__coeff_44'\n",
      " 'value__fft_coefficient__attr_\"imag\"__coeff_45'\n",
      " 'value__fft_coefficient__attr_\"imag\"__coeff_46'\n",
      " 'value__fft_coefficient__attr_\"imag\"__coeff_47'\n",
      " 'value__fft_coefficient__attr_\"imag\"__coeff_48'\n",
      " 'value__fft_coefficient__attr_\"imag\"__coeff_49'\n",
      " 'value__fft_coefficient__attr_\"imag\"__coeff_50'\n",
      " 'value__fft_coefficient__attr_\"imag\"__coeff_51'\n",
      " 'value__fft_coefficient__attr_\"imag\"__coeff_52'\n",
      " 'value__fft_coefficient__attr_\"imag\"__coeff_53'\n",
      " 'value__fft_coefficient__attr_\"imag\"__coeff_54'\n",
      " 'value__fft_coefficient__attr_\"imag\"__coeff_55'\n",
      " 'value__fft_coefficient__attr_\"imag\"__coeff_56'\n",
      " 'value__fft_coefficient__attr_\"imag\"__coeff_57'\n",
      " 'value__fft_coefficient__attr_\"imag\"__coeff_58'\n",
      " 'value__fft_coefficient__attr_\"imag\"__coeff_59'\n",
      " 'value__fft_coefficient__attr_\"imag\"__coeff_60'\n",
      " 'value__fft_coefficient__attr_\"imag\"__coeff_61'\n",
      " 'value__fft_coefficient__attr_\"imag\"__coeff_62'\n",
      " 'value__fft_coefficient__attr_\"imag\"__coeff_63'\n",
      " 'value__fft_coefficient__attr_\"imag\"__coeff_64'\n",
      " 'value__fft_coefficient__attr_\"imag\"__coeff_65'\n",
      " 'value__fft_coefficient__attr_\"imag\"__coeff_66'\n",
      " 'value__fft_coefficient__attr_\"imag\"__coeff_67'\n",
      " 'value__fft_coefficient__attr_\"imag\"__coeff_68'\n",
      " 'value__fft_coefficient__attr_\"imag\"__coeff_69'\n",
      " 'value__fft_coefficient__attr_\"imag\"__coeff_70'\n",
      " 'value__fft_coefficient__attr_\"imag\"__coeff_71'\n",
      " 'value__fft_coefficient__attr_\"imag\"__coeff_72'\n",
      " 'value__fft_coefficient__attr_\"imag\"__coeff_73'\n",
      " 'value__fft_coefficient__attr_\"imag\"__coeff_74'\n",
      " 'value__fft_coefficient__attr_\"imag\"__coeff_75'\n",
      " 'value__fft_coefficient__attr_\"imag\"__coeff_76'\n",
      " 'value__fft_coefficient__attr_\"imag\"__coeff_77'\n",
      " 'value__fft_coefficient__attr_\"imag\"__coeff_78'\n",
      " 'value__fft_coefficient__attr_\"imag\"__coeff_79'\n",
      " 'value__fft_coefficient__attr_\"imag\"__coeff_80'\n",
      " 'value__fft_coefficient__attr_\"imag\"__coeff_81'\n",
      " 'value__fft_coefficient__attr_\"imag\"__coeff_82'\n",
      " 'value__fft_coefficient__attr_\"imag\"__coeff_83'\n",
      " 'value__fft_coefficient__attr_\"imag\"__coeff_84'\n",
      " 'value__fft_coefficient__attr_\"imag\"__coeff_85'\n",
      " 'value__fft_coefficient__attr_\"imag\"__coeff_86'\n",
      " 'value__fft_coefficient__attr_\"imag\"__coeff_87'\n",
      " 'value__fft_coefficient__attr_\"imag\"__coeff_88'\n",
      " 'value__fft_coefficient__attr_\"imag\"__coeff_89'\n",
      " 'value__fft_coefficient__attr_\"imag\"__coeff_90'\n",
      " 'value__fft_coefficient__attr_\"imag\"__coeff_91'\n",
      " 'value__fft_coefficient__attr_\"imag\"__coeff_92'\n",
      " 'value__fft_coefficient__attr_\"imag\"__coeff_93'\n",
      " 'value__fft_coefficient__attr_\"imag\"__coeff_94'\n",
      " 'value__fft_coefficient__attr_\"imag\"__coeff_95'\n",
      " 'value__fft_coefficient__attr_\"imag\"__coeff_96'\n",
      " 'value__fft_coefficient__attr_\"imag\"__coeff_97'\n",
      " 'value__fft_coefficient__attr_\"imag\"__coeff_98'\n",
      " 'value__fft_coefficient__attr_\"imag\"__coeff_99'\n",
      " 'value__fft_coefficient__attr_\"abs\"__coeff_1'\n",
      " 'value__fft_coefficient__attr_\"abs\"__coeff_2'\n",
      " 'value__fft_coefficient__attr_\"abs\"__coeff_3'\n",
      " 'value__fft_coefficient__attr_\"abs\"__coeff_4'\n",
      " 'value__fft_coefficient__attr_\"abs\"__coeff_5'\n",
      " 'value__fft_coefficient__attr_\"abs\"__coeff_6'\n",
      " 'value__fft_coefficient__attr_\"abs\"__coeff_7'\n",
      " 'value__fft_coefficient__attr_\"abs\"__coeff_8'\n",
      " 'value__fft_coefficient__attr_\"abs\"__coeff_9'\n",
      " 'value__fft_coefficient__attr_\"abs\"__coeff_10'\n",
      " 'value__fft_coefficient__attr_\"abs\"__coeff_11'\n",
      " 'value__fft_coefficient__attr_\"abs\"__coeff_12'\n",
      " 'value__fft_coefficient__attr_\"abs\"__coeff_13'\n",
      " 'value__fft_coefficient__attr_\"abs\"__coeff_14'\n",
      " 'value__fft_coefficient__attr_\"abs\"__coeff_15'\n",
      " 'value__fft_coefficient__attr_\"abs\"__coeff_16'\n",
      " 'value__fft_coefficient__attr_\"abs\"__coeff_17'\n",
      " 'value__fft_coefficient__attr_\"abs\"__coeff_18'\n",
      " 'value__fft_coefficient__attr_\"abs\"__coeff_19'\n",
      " 'value__fft_coefficient__attr_\"abs\"__coeff_20'\n",
      " 'value__fft_coefficient__attr_\"abs\"__coeff_21'\n",
      " 'value__fft_coefficient__attr_\"abs\"__coeff_22'\n",
      " 'value__fft_coefficient__attr_\"abs\"__coeff_23'\n",
      " 'value__fft_coefficient__attr_\"abs\"__coeff_24'\n",
      " 'value__fft_coefficient__attr_\"abs\"__coeff_25'\n",
      " 'value__fft_coefficient__attr_\"abs\"__coeff_26'\n",
      " 'value__fft_coefficient__attr_\"abs\"__coeff_27'\n",
      " 'value__fft_coefficient__attr_\"abs\"__coeff_28'\n",
      " 'value__fft_coefficient__attr_\"abs\"__coeff_29'\n",
      " 'value__fft_coefficient__attr_\"abs\"__coeff_30'\n",
      " 'value__fft_coefficient__attr_\"abs\"__coeff_31'\n",
      " 'value__fft_coefficient__attr_\"abs\"__coeff_32'\n",
      " 'value__fft_coefficient__attr_\"abs\"__coeff_33'\n",
      " 'value__fft_coefficient__attr_\"abs\"__coeff_34'\n",
      " 'value__fft_coefficient__attr_\"abs\"__coeff_35'\n",
      " 'value__fft_coefficient__attr_\"abs\"__coeff_36'\n",
      " 'value__fft_coefficient__attr_\"abs\"__coeff_37'\n",
      " 'value__fft_coefficient__attr_\"abs\"__coeff_38'\n",
      " 'value__fft_coefficient__attr_\"abs\"__coeff_39'\n",
      " 'value__fft_coefficient__attr_\"abs\"__coeff_40'\n",
      " 'value__fft_coefficient__attr_\"abs\"__coeff_41'\n",
      " 'value__fft_coefficient__attr_\"abs\"__coeff_42'\n",
      " 'value__fft_coefficient__attr_\"abs\"__coeff_43'\n",
      " 'value__fft_coefficient__attr_\"abs\"__coeff_44'\n",
      " 'value__fft_coefficient__attr_\"abs\"__coeff_45'\n",
      " 'value__fft_coefficient__attr_\"abs\"__coeff_46'\n",
      " 'value__fft_coefficient__attr_\"abs\"__coeff_47'\n",
      " 'value__fft_coefficient__attr_\"abs\"__coeff_48'\n",
      " 'value__fft_coefficient__attr_\"abs\"__coeff_49'\n",
      " 'value__fft_coefficient__attr_\"abs\"__coeff_50'\n",
      " 'value__fft_coefficient__attr_\"abs\"__coeff_51'\n",
      " 'value__fft_coefficient__attr_\"abs\"__coeff_52'\n",
      " 'value__fft_coefficient__attr_\"abs\"__coeff_53'\n",
      " 'value__fft_coefficient__attr_\"abs\"__coeff_54'\n",
      " 'value__fft_coefficient__attr_\"abs\"__coeff_55'\n",
      " 'value__fft_coefficient__attr_\"abs\"__coeff_56'\n",
      " 'value__fft_coefficient__attr_\"abs\"__coeff_57'\n",
      " 'value__fft_coefficient__attr_\"abs\"__coeff_58'\n",
      " 'value__fft_coefficient__attr_\"abs\"__coeff_59'\n",
      " 'value__fft_coefficient__attr_\"abs\"__coeff_60'\n",
      " 'value__fft_coefficient__attr_\"abs\"__coeff_61'\n",
      " 'value__fft_coefficient__attr_\"abs\"__coeff_62'\n",
      " 'value__fft_coefficient__attr_\"abs\"__coeff_63'\n",
      " 'value__fft_coefficient__attr_\"abs\"__coeff_64'\n",
      " 'value__fft_coefficient__attr_\"abs\"__coeff_65'\n",
      " 'value__fft_coefficient__attr_\"abs\"__coeff_66'\n",
      " 'value__fft_coefficient__attr_\"abs\"__coeff_67'\n",
      " 'value__fft_coefficient__attr_\"abs\"__coeff_68'\n",
      " 'value__fft_coefficient__attr_\"abs\"__coeff_69'\n",
      " 'value__fft_coefficient__attr_\"abs\"__coeff_70'\n",
      " 'value__fft_coefficient__attr_\"abs\"__coeff_71'\n",
      " 'value__fft_coefficient__attr_\"abs\"__coeff_72'\n",
      " 'value__fft_coefficient__attr_\"abs\"__coeff_73'\n",
      " 'value__fft_coefficient__attr_\"abs\"__coeff_74'\n",
      " 'value__fft_coefficient__attr_\"abs\"__coeff_75'\n",
      " 'value__fft_coefficient__attr_\"abs\"__coeff_76'\n",
      " 'value__fft_coefficient__attr_\"abs\"__coeff_77'\n",
      " 'value__fft_coefficient__attr_\"abs\"__coeff_78'\n",
      " 'value__fft_coefficient__attr_\"abs\"__coeff_79'\n",
      " 'value__fft_coefficient__attr_\"abs\"__coeff_80'\n",
      " 'value__fft_coefficient__attr_\"abs\"__coeff_81'\n",
      " 'value__fft_coefficient__attr_\"abs\"__coeff_82'\n",
      " 'value__fft_coefficient__attr_\"abs\"__coeff_83'\n",
      " 'value__fft_coefficient__attr_\"abs\"__coeff_84'\n",
      " 'value__fft_coefficient__attr_\"abs\"__coeff_85'\n",
      " 'value__fft_coefficient__attr_\"abs\"__coeff_86'\n",
      " 'value__fft_coefficient__attr_\"abs\"__coeff_87'\n",
      " 'value__fft_coefficient__attr_\"abs\"__coeff_88'\n",
      " 'value__fft_coefficient__attr_\"abs\"__coeff_89'\n",
      " 'value__fft_coefficient__attr_\"abs\"__coeff_90'\n",
      " 'value__fft_coefficient__attr_\"abs\"__coeff_91'\n",
      " 'value__fft_coefficient__attr_\"abs\"__coeff_92'\n",
      " 'value__fft_coefficient__attr_\"abs\"__coeff_93'\n",
      " 'value__fft_coefficient__attr_\"abs\"__coeff_94'\n",
      " 'value__fft_coefficient__attr_\"abs\"__coeff_95'\n",
      " 'value__fft_coefficient__attr_\"abs\"__coeff_96'\n",
      " 'value__fft_coefficient__attr_\"abs\"__coeff_97'\n",
      " 'value__fft_coefficient__attr_\"abs\"__coeff_98'\n",
      " 'value__fft_coefficient__attr_\"abs\"__coeff_99'\n",
      " 'value__fft_coefficient__attr_\"angle\"__coeff_1'\n",
      " 'value__fft_coefficient__attr_\"angle\"__coeff_2'\n",
      " 'value__fft_coefficient__attr_\"angle\"__coeff_3'\n",
      " 'value__fft_coefficient__attr_\"angle\"__coeff_4'\n",
      " 'value__fft_coefficient__attr_\"angle\"__coeff_5'\n",
      " 'value__fft_coefficient__attr_\"angle\"__coeff_6'\n",
      " 'value__fft_coefficient__attr_\"angle\"__coeff_7'\n",
      " 'value__fft_coefficient__attr_\"angle\"__coeff_8'\n",
      " 'value__fft_coefficient__attr_\"angle\"__coeff_9'\n",
      " 'value__fft_coefficient__attr_\"angle\"__coeff_10'\n",
      " 'value__fft_coefficient__attr_\"angle\"__coeff_11'\n",
      " 'value__fft_coefficient__attr_\"angle\"__coeff_12'\n",
      " 'value__fft_coefficient__attr_\"angle\"__coeff_13'\n",
      " 'value__fft_coefficient__attr_\"angle\"__coeff_14'\n",
      " 'value__fft_coefficient__attr_\"angle\"__coeff_15'\n",
      " 'value__fft_coefficient__attr_\"angle\"__coeff_16'\n",
      " 'value__fft_coefficient__attr_\"angle\"__coeff_17'\n",
      " 'value__fft_coefficient__attr_\"angle\"__coeff_18'\n",
      " 'value__fft_coefficient__attr_\"angle\"__coeff_19'\n",
      " 'value__fft_coefficient__attr_\"angle\"__coeff_20'\n",
      " 'value__fft_coefficient__attr_\"angle\"__coeff_21'\n",
      " 'value__fft_coefficient__attr_\"angle\"__coeff_22'\n",
      " 'value__fft_coefficient__attr_\"angle\"__coeff_23'\n",
      " 'value__fft_coefficient__attr_\"angle\"__coeff_24'\n",
      " 'value__fft_coefficient__attr_\"angle\"__coeff_25'\n",
      " 'value__fft_coefficient__attr_\"angle\"__coeff_26'\n",
      " 'value__fft_coefficient__attr_\"angle\"__coeff_27'\n",
      " 'value__fft_coefficient__attr_\"angle\"__coeff_28'\n",
      " 'value__fft_coefficient__attr_\"angle\"__coeff_29'\n",
      " 'value__fft_coefficient__attr_\"angle\"__coeff_30'\n",
      " 'value__fft_coefficient__attr_\"angle\"__coeff_31'\n",
      " 'value__fft_coefficient__attr_\"angle\"__coeff_32'\n",
      " 'value__fft_coefficient__attr_\"angle\"__coeff_33'\n",
      " 'value__fft_coefficient__attr_\"angle\"__coeff_34'\n",
      " 'value__fft_coefficient__attr_\"angle\"__coeff_35'\n",
      " 'value__fft_coefficient__attr_\"angle\"__coeff_36'\n",
      " 'value__fft_coefficient__attr_\"angle\"__coeff_37'\n",
      " 'value__fft_coefficient__attr_\"angle\"__coeff_38'\n",
      " 'value__fft_coefficient__attr_\"angle\"__coeff_39'\n",
      " 'value__fft_coefficient__attr_\"angle\"__coeff_40'\n",
      " 'value__fft_coefficient__attr_\"angle\"__coeff_41'\n",
      " 'value__fft_coefficient__attr_\"angle\"__coeff_42'\n",
      " 'value__fft_coefficient__attr_\"angle\"__coeff_43'\n",
      " 'value__fft_coefficient__attr_\"angle\"__coeff_44'\n",
      " 'value__fft_coefficient__attr_\"angle\"__coeff_45'\n",
      " 'value__fft_coefficient__attr_\"angle\"__coeff_46'\n",
      " 'value__fft_coefficient__attr_\"angle\"__coeff_47'\n",
      " 'value__fft_coefficient__attr_\"angle\"__coeff_48'\n",
      " 'value__fft_coefficient__attr_\"angle\"__coeff_49'\n",
      " 'value__fft_coefficient__attr_\"angle\"__coeff_50'\n",
      " 'value__fft_coefficient__attr_\"angle\"__coeff_51'\n",
      " 'value__fft_coefficient__attr_\"angle\"__coeff_52'\n",
      " 'value__fft_coefficient__attr_\"angle\"__coeff_53'\n",
      " 'value__fft_coefficient__attr_\"angle\"__coeff_54'\n",
      " 'value__fft_coefficient__attr_\"angle\"__coeff_55'\n",
      " 'value__fft_coefficient__attr_\"angle\"__coeff_56'\n",
      " 'value__fft_coefficient__attr_\"angle\"__coeff_57'\n",
      " 'value__fft_coefficient__attr_\"angle\"__coeff_58'\n",
      " 'value__fft_coefficient__attr_\"angle\"__coeff_59'\n",
      " 'value__fft_coefficient__attr_\"angle\"__coeff_60'\n",
      " 'value__fft_coefficient__attr_\"angle\"__coeff_61'\n",
      " 'value__fft_coefficient__attr_\"angle\"__coeff_62'\n",
      " 'value__fft_coefficient__attr_\"angle\"__coeff_63'\n",
      " 'value__fft_coefficient__attr_\"angle\"__coeff_64'\n",
      " 'value__fft_coefficient__attr_\"angle\"__coeff_65'\n",
      " 'value__fft_coefficient__attr_\"angle\"__coeff_66'\n",
      " 'value__fft_coefficient__attr_\"angle\"__coeff_67'\n",
      " 'value__fft_coefficient__attr_\"angle\"__coeff_68'\n",
      " 'value__fft_coefficient__attr_\"angle\"__coeff_69'\n",
      " 'value__fft_coefficient__attr_\"angle\"__coeff_70'\n",
      " 'value__fft_coefficient__attr_\"angle\"__coeff_71'\n",
      " 'value__fft_coefficient__attr_\"angle\"__coeff_72'\n",
      " 'value__fft_coefficient__attr_\"angle\"__coeff_73'\n",
      " 'value__fft_coefficient__attr_\"angle\"__coeff_74'\n",
      " 'value__fft_coefficient__attr_\"angle\"__coeff_75'\n",
      " 'value__fft_coefficient__attr_\"angle\"__coeff_76'\n",
      " 'value__fft_coefficient__attr_\"angle\"__coeff_77'\n",
      " 'value__fft_coefficient__attr_\"angle\"__coeff_78'\n",
      " 'value__fft_coefficient__attr_\"angle\"__coeff_79'\n",
      " 'value__fft_coefficient__attr_\"angle\"__coeff_80'\n",
      " 'value__fft_coefficient__attr_\"angle\"__coeff_81'\n",
      " 'value__fft_coefficient__attr_\"angle\"__coeff_82'\n",
      " 'value__fft_coefficient__attr_\"angle\"__coeff_83'\n",
      " 'value__fft_coefficient__attr_\"angle\"__coeff_84'\n",
      " 'value__fft_coefficient__attr_\"angle\"__coeff_85'\n",
      " 'value__fft_coefficient__attr_\"angle\"__coeff_86'\n",
      " 'value__fft_coefficient__attr_\"angle\"__coeff_87'\n",
      " 'value__fft_coefficient__attr_\"angle\"__coeff_88'\n",
      " 'value__fft_coefficient__attr_\"angle\"__coeff_89'\n",
      " 'value__fft_coefficient__attr_\"angle\"__coeff_90'\n",
      " 'value__fft_coefficient__attr_\"angle\"__coeff_91'\n",
      " 'value__fft_coefficient__attr_\"angle\"__coeff_92'\n",
      " 'value__fft_coefficient__attr_\"angle\"__coeff_93'\n",
      " 'value__fft_coefficient__attr_\"angle\"__coeff_94'\n",
      " 'value__fft_coefficient__attr_\"angle\"__coeff_95'\n",
      " 'value__fft_coefficient__attr_\"angle\"__coeff_96'\n",
      " 'value__fft_coefficient__attr_\"angle\"__coeff_97'\n",
      " 'value__fft_coefficient__attr_\"angle\"__coeff_98'\n",
      " 'value__fft_coefficient__attr_\"angle\"__coeff_99'\n",
      " 'value__fft_aggregated__aggtype_\"skew\"'\n",
      " 'value__fft_aggregated__aggtype_\"kurtosis\"'\n",
      " 'value__friedrich_coefficients__coeff_0__m_3__r_30'\n",
      " 'value__friedrich_coefficients__coeff_1__m_3__r_30'\n",
      " 'value__friedrich_coefficients__coeff_2__m_3__r_30'\n",
      " 'value__friedrich_coefficients__coeff_3__m_3__r_30'\n",
      " 'value__max_langevin_fixed_point__m_3__r_30'\n",
      " 'value__linear_trend__attr_\"pvalue\"'\n",
      " 'value__linear_trend__attr_\"intercept\"'\n",
      " 'value__linear_trend__attr_\"slope\"' 'value__linear_trend__attr_\"stderr\"'\n",
      " 'value__agg_linear_trend__attr_\"rvalue\"__chunk_len_5__f_agg_\"max\"'\n",
      " 'value__agg_linear_trend__attr_\"rvalue\"__chunk_len_5__f_agg_\"min\"'\n",
      " 'value__agg_linear_trend__attr_\"rvalue\"__chunk_len_5__f_agg_\"mean\"'\n",
      " 'value__agg_linear_trend__attr_\"rvalue\"__chunk_len_5__f_agg_\"var\"'\n",
      " 'value__agg_linear_trend__attr_\"rvalue\"__chunk_len_10__f_agg_\"max\"'\n",
      " 'value__agg_linear_trend__attr_\"rvalue\"__chunk_len_10__f_agg_\"min\"'\n",
      " 'value__agg_linear_trend__attr_\"rvalue\"__chunk_len_10__f_agg_\"mean\"'\n",
      " 'value__agg_linear_trend__attr_\"rvalue\"__chunk_len_10__f_agg_\"var\"'\n",
      " 'value__agg_linear_trend__attr_\"rvalue\"__chunk_len_50__f_agg_\"max\"'\n",
      " 'value__agg_linear_trend__attr_\"rvalue\"__chunk_len_50__f_agg_\"min\"'\n",
      " 'value__agg_linear_trend__attr_\"rvalue\"__chunk_len_50__f_agg_\"mean\"'\n",
      " 'value__agg_linear_trend__attr_\"rvalue\"__chunk_len_50__f_agg_\"var\"'\n",
      " 'value__agg_linear_trend__attr_\"intercept\"__chunk_len_5__f_agg_\"max\"'\n",
      " 'value__agg_linear_trend__attr_\"intercept\"__chunk_len_5__f_agg_\"min\"'\n",
      " 'value__agg_linear_trend__attr_\"intercept\"__chunk_len_5__f_agg_\"mean\"'\n",
      " 'value__agg_linear_trend__attr_\"intercept\"__chunk_len_5__f_agg_\"var\"'\n",
      " 'value__agg_linear_trend__attr_\"intercept\"__chunk_len_10__f_agg_\"max\"'\n",
      " 'value__agg_linear_trend__attr_\"intercept\"__chunk_len_10__f_agg_\"min\"'\n",
      " 'value__agg_linear_trend__attr_\"intercept\"__chunk_len_10__f_agg_\"mean\"'\n",
      " 'value__agg_linear_trend__attr_\"intercept\"__chunk_len_10__f_agg_\"var\"'\n",
      " 'value__agg_linear_trend__attr_\"intercept\"__chunk_len_50__f_agg_\"max\"'\n",
      " 'value__agg_linear_trend__attr_\"intercept\"__chunk_len_50__f_agg_\"min\"'\n",
      " 'value__agg_linear_trend__attr_\"intercept\"__chunk_len_50__f_agg_\"mean\"'\n",
      " 'value__agg_linear_trend__attr_\"intercept\"__chunk_len_50__f_agg_\"var\"'\n",
      " 'value__agg_linear_trend__attr_\"slope\"__chunk_len_5__f_agg_\"max\"'\n",
      " 'value__agg_linear_trend__attr_\"slope\"__chunk_len_5__f_agg_\"min\"'\n",
      " 'value__agg_linear_trend__attr_\"slope\"__chunk_len_5__f_agg_\"mean\"'\n",
      " 'value__agg_linear_trend__attr_\"slope\"__chunk_len_5__f_agg_\"var\"'\n",
      " 'value__agg_linear_trend__attr_\"slope\"__chunk_len_10__f_agg_\"max\"'\n",
      " 'value__agg_linear_trend__attr_\"slope\"__chunk_len_10__f_agg_\"min\"'\n",
      " 'value__agg_linear_trend__attr_\"slope\"__chunk_len_10__f_agg_\"mean\"'\n",
      " 'value__agg_linear_trend__attr_\"slope\"__chunk_len_10__f_agg_\"var\"'\n",
      " 'value__agg_linear_trend__attr_\"slope\"__chunk_len_50__f_agg_\"max\"'\n",
      " 'value__agg_linear_trend__attr_\"slope\"__chunk_len_50__f_agg_\"min\"'\n",
      " 'value__agg_linear_trend__attr_\"slope\"__chunk_len_50__f_agg_\"mean\"'\n",
      " 'value__agg_linear_trend__attr_\"slope\"__chunk_len_50__f_agg_\"var\"'\n",
      " 'value__agg_linear_trend__attr_\"stderr\"__chunk_len_5__f_agg_\"max\"'\n",
      " 'value__agg_linear_trend__attr_\"stderr\"__chunk_len_5__f_agg_\"min\"'\n",
      " 'value__agg_linear_trend__attr_\"stderr\"__chunk_len_5__f_agg_\"mean\"'\n",
      " 'value__agg_linear_trend__attr_\"stderr\"__chunk_len_5__f_agg_\"var\"'\n",
      " 'value__agg_linear_trend__attr_\"stderr\"__chunk_len_10__f_agg_\"max\"'\n",
      " 'value__agg_linear_trend__attr_\"stderr\"__chunk_len_10__f_agg_\"min\"'\n",
      " 'value__agg_linear_trend__attr_\"stderr\"__chunk_len_10__f_agg_\"mean\"'\n",
      " 'value__agg_linear_trend__attr_\"stderr\"__chunk_len_10__f_agg_\"var\"'\n",
      " 'value__agg_linear_trend__attr_\"stderr\"__chunk_len_50__f_agg_\"max\"'\n",
      " 'value__agg_linear_trend__attr_\"stderr\"__chunk_len_50__f_agg_\"min\"'\n",
      " 'value__agg_linear_trend__attr_\"stderr\"__chunk_len_50__f_agg_\"mean\"'\n",
      " 'value__agg_linear_trend__attr_\"stderr\"__chunk_len_50__f_agg_\"var\"'\n",
      " 'value__augmented_dickey_fuller__attr_\"teststat\"__autolag_\"AIC\"'\n",
      " 'value__augmented_dickey_fuller__attr_\"pvalue\"__autolag_\"AIC\"'\n",
      " 'value__augmented_dickey_fuller__attr_\"usedlag\"__autolag_\"AIC\"'\n",
      " 'value__fourier_entropy__bins_2' 'value__fourier_entropy__bins_3'\n",
      " 'value__fourier_entropy__bins_5' 'value__fourier_entropy__bins_10'\n",
      " 'value__fourier_entropy__bins_100'\n",
      " 'value__permutation_entropy__dimension_3__tau_1'\n",
      " 'value__permutation_entropy__dimension_4__tau_1'\n",
      " 'value__permutation_entropy__dimension_5__tau_1'\n",
      " 'value__permutation_entropy__dimension_6__tau_1'\n",
      " 'value__permutation_entropy__dimension_7__tau_1'\n",
      " 'value__query_similarity_count__query_None__threshold_0.0'\n",
      " 'value__mean_n_absolute_max__number_of_maxima_7'] did not have any finite values. Filling with zeros.\n",
      "  warnings.warn(\n"
     ]
    },
    {
     "name": "stdout",
     "output_type": "stream",
     "text": [
      "checkpoint directory created: ./model\n",
      "saving model version 0.0\n"
     ]
    },
    {
     "name": "stderr",
     "output_type": "stream",
     "text": [
      "description:   0%|                                                           | 0/50 [00:07<?, ?it/s]"
     ]
    },
    {
     "name": "stdout",
     "output_type": "stream",
     "text": [
      "lstsq failed\n"
     ]
    },
    {
     "name": "stderr",
     "output_type": "stream",
     "text": [
      "\n"
     ]
    },
    {
     "ename": "UnboundLocalError",
     "evalue": "local variable 'coef' referenced before assignment",
     "output_type": "error",
     "traceback": [
      "\u001b[1;31m---------------------------------------------------------------------------\u001b[0m",
      "\u001b[1;31mUnboundLocalError\u001b[0m                         Traceback (most recent call last)",
      "Cell \u001b[1;32mIn[4], line 79\u001b[0m\n\u001b[0;32m     76\u001b[0m     \u001b[38;5;28;01mreturn\u001b[39;00m torch\u001b[38;5;241m.\u001b[39mmean((torch\u001b[38;5;241m.\u001b[39margmax(model(dataset[\u001b[38;5;124m'\u001b[39m\u001b[38;5;124mtest_input\u001b[39m\u001b[38;5;124m'\u001b[39m]), dim\u001b[38;5;241m=\u001b[39m\u001b[38;5;241m1\u001b[39m) \u001b[38;5;241m==\u001b[39m dataset[\u001b[38;5;124m'\u001b[39m\u001b[38;5;124mtest_label\u001b[39m\u001b[38;5;124m'\u001b[39m])\u001b[38;5;241m.\u001b[39mfloat())\n\u001b[0;32m     78\u001b[0m \u001b[38;5;66;03m# Train the model with cleaned data\u001b[39;00m\n\u001b[1;32m---> 79\u001b[0m results \u001b[38;5;241m=\u001b[39m \u001b[43mmodel\u001b[49m\u001b[38;5;241;43m.\u001b[39;49m\u001b[43mfit\u001b[49m\u001b[43m(\u001b[49m\n\u001b[0;32m     80\u001b[0m \u001b[43m    \u001b[49m\u001b[43mdataset\u001b[49m\u001b[38;5;241;43m=\u001b[39;49m\u001b[43mdataset\u001b[49m\u001b[43m,\u001b[49m\n\u001b[0;32m     81\u001b[0m \u001b[43m    \u001b[49m\u001b[43msteps\u001b[49m\u001b[38;5;241;43m=\u001b[39;49m\u001b[38;5;241;43m50\u001b[39;49m\u001b[43m,\u001b[49m\n\u001b[0;32m     82\u001b[0m \u001b[43m    \u001b[49m\u001b[43mmetrics\u001b[49m\u001b[38;5;241;43m=\u001b[39;49m\u001b[43m(\u001b[49m\u001b[43mtrain_acc\u001b[49m\u001b[43m,\u001b[49m\u001b[43m \u001b[49m\u001b[43mtest_acc\u001b[49m\u001b[43m)\u001b[49m\u001b[43m,\u001b[49m\n\u001b[0;32m     83\u001b[0m \u001b[43m    \u001b[49m\u001b[43mloss_fn\u001b[49m\u001b[38;5;241;43m=\u001b[39;49m\u001b[43mtorch\u001b[49m\u001b[38;5;241;43m.\u001b[39;49m\u001b[43mnn\u001b[49m\u001b[38;5;241;43m.\u001b[39;49m\u001b[43mCrossEntropyLoss\u001b[49m\u001b[43m(\u001b[49m\u001b[43m)\u001b[49m\u001b[43m,\u001b[49m\n\u001b[0;32m     84\u001b[0m \u001b[43m    \u001b[49m\u001b[43mlog\u001b[49m\u001b[38;5;241;43m=\u001b[39;49m\u001b[38;5;241;43m1\u001b[39;49m\u001b[43m,\u001b[49m\n\u001b[0;32m     85\u001b[0m \u001b[43m)\u001b[49m\n\u001b[0;32m     87\u001b[0m \u001b[38;5;66;03m# Print the results\u001b[39;00m\n\u001b[0;32m     88\u001b[0m train_loss, test_loss \u001b[38;5;241m=\u001b[39m results[\u001b[38;5;124m\"\u001b[39m\u001b[38;5;124mtrain_loss\u001b[39m\u001b[38;5;124m\"\u001b[39m][\u001b[38;5;241m-\u001b[39m\u001b[38;5;241m1\u001b[39m], results[\u001b[38;5;124m\"\u001b[39m\u001b[38;5;124mtest_loss\u001b[39m\u001b[38;5;124m\"\u001b[39m][\u001b[38;5;241m-\u001b[39m\u001b[38;5;241m1\u001b[39m]\n",
      "File \u001b[1;32mc:\\Users\\andre\\anaconda3\\envs\\pykan\\lib\\site-packages\\kan\\MultKAN.py:1549\u001b[0m, in \u001b[0;36mMultKAN.fit\u001b[1;34m(self, dataset, opt, steps, log, lamb, lamb_l1, lamb_entropy, lamb_coef, lamb_coefdiff, update_grid, grid_update_num, loss_fn, lr, start_grid_update_step, stop_grid_update_step, batch, metrics, save_fig, in_vars, out_vars, beta, save_fig_freq, img_folder, singularity_avoiding, y_th, reg_metric, display_metrics)\u001b[0m\n\u001b[0;32m   1546\u001b[0m test_id \u001b[38;5;241m=\u001b[39m np\u001b[38;5;241m.\u001b[39mrandom\u001b[38;5;241m.\u001b[39mchoice(dataset[\u001b[38;5;124m'\u001b[39m\u001b[38;5;124mtest_input\u001b[39m\u001b[38;5;124m'\u001b[39m]\u001b[38;5;241m.\u001b[39mshape[\u001b[38;5;241m0\u001b[39m], batch_size_test, replace\u001b[38;5;241m=\u001b[39m\u001b[38;5;28;01mFalse\u001b[39;00m)\n\u001b[0;32m   1548\u001b[0m \u001b[38;5;28;01mif\u001b[39;00m _ \u001b[38;5;241m%\u001b[39m grid_update_freq \u001b[38;5;241m==\u001b[39m \u001b[38;5;241m0\u001b[39m \u001b[38;5;129;01mand\u001b[39;00m _ \u001b[38;5;241m<\u001b[39m stop_grid_update_step \u001b[38;5;129;01mand\u001b[39;00m update_grid \u001b[38;5;129;01mand\u001b[39;00m _ \u001b[38;5;241m>\u001b[39m\u001b[38;5;241m=\u001b[39m start_grid_update_step:\n\u001b[1;32m-> 1549\u001b[0m     \u001b[38;5;28;43mself\u001b[39;49m\u001b[38;5;241;43m.\u001b[39;49m\u001b[43mupdate_grid\u001b[49m\u001b[43m(\u001b[49m\u001b[43mdataset\u001b[49m\u001b[43m[\u001b[49m\u001b[38;5;124;43m'\u001b[39;49m\u001b[38;5;124;43mtrain_input\u001b[39;49m\u001b[38;5;124;43m'\u001b[39;49m\u001b[43m]\u001b[49m\u001b[43m[\u001b[49m\u001b[43mtrain_id\u001b[49m\u001b[43m]\u001b[49m\u001b[43m)\u001b[49m\n\u001b[0;32m   1551\u001b[0m \u001b[38;5;28;01mif\u001b[39;00m opt \u001b[38;5;241m==\u001b[39m \u001b[38;5;124m\"\u001b[39m\u001b[38;5;124mLBFGS\u001b[39m\u001b[38;5;124m\"\u001b[39m:\n\u001b[0;32m   1552\u001b[0m     optimizer\u001b[38;5;241m.\u001b[39mstep(closure)\n",
      "File \u001b[1;32mc:\\Users\\andre\\anaconda3\\envs\\pykan\\lib\\site-packages\\kan\\MultKAN.py:714\u001b[0m, in \u001b[0;36mMultKAN.update_grid\u001b[1;34m(self, x)\u001b[0m\n\u001b[0;32m    710\u001b[0m \u001b[38;5;28;01mdef\u001b[39;00m \u001b[38;5;21mupdate_grid\u001b[39m(\u001b[38;5;28mself\u001b[39m, x):\n\u001b[0;32m    711\u001b[0m \u001b[38;5;250m    \u001b[39m\u001b[38;5;124;03m'''\u001b[39;00m\n\u001b[0;32m    712\u001b[0m \u001b[38;5;124;03m    call update_grid_from_samples. This seems unnecessary but we retain it for the sake of classes that might inherit from MultKAN\u001b[39;00m\n\u001b[0;32m    713\u001b[0m \u001b[38;5;124;03m    '''\u001b[39;00m\n\u001b[1;32m--> 714\u001b[0m     \u001b[38;5;28;43mself\u001b[39;49m\u001b[38;5;241;43m.\u001b[39;49m\u001b[43mupdate_grid_from_samples\u001b[49m\u001b[43m(\u001b[49m\u001b[43mx\u001b[49m\u001b[43m)\u001b[49m\n",
      "File \u001b[1;32mc:\\Users\\andre\\anaconda3\\envs\\pykan\\lib\\site-packages\\kan\\MultKAN.py:708\u001b[0m, in \u001b[0;36mMultKAN.update_grid_from_samples\u001b[1;34m(self, x)\u001b[0m\n\u001b[0;32m    706\u001b[0m \u001b[38;5;28;01mfor\u001b[39;00m l \u001b[38;5;129;01min\u001b[39;00m \u001b[38;5;28mrange\u001b[39m(\u001b[38;5;28mself\u001b[39m\u001b[38;5;241m.\u001b[39mdepth):\n\u001b[0;32m    707\u001b[0m     \u001b[38;5;28mself\u001b[39m\u001b[38;5;241m.\u001b[39mget_act(x)\n\u001b[1;32m--> 708\u001b[0m     \u001b[38;5;28;43mself\u001b[39;49m\u001b[38;5;241;43m.\u001b[39;49m\u001b[43mact_fun\u001b[49m\u001b[43m[\u001b[49m\u001b[43ml\u001b[49m\u001b[43m]\u001b[49m\u001b[38;5;241;43m.\u001b[39;49m\u001b[43mupdate_grid_from_samples\u001b[49m\u001b[43m(\u001b[49m\u001b[38;5;28;43mself\u001b[39;49m\u001b[38;5;241;43m.\u001b[39;49m\u001b[43macts\u001b[49m\u001b[43m[\u001b[49m\u001b[43ml\u001b[49m\u001b[43m]\u001b[49m\u001b[43m)\u001b[49m\n",
      "File \u001b[1;32mc:\\Users\\andre\\anaconda3\\envs\\pykan\\lib\\site-packages\\kan\\KANLayer.py:217\u001b[0m, in \u001b[0;36mKANLayer.update_grid_from_samples\u001b[1;34m(self, x, mode)\u001b[0m\n\u001b[0;32m    214\u001b[0m \u001b[38;5;28mself\u001b[39m\u001b[38;5;241m.\u001b[39mgrid\u001b[38;5;241m.\u001b[39mdata \u001b[38;5;241m=\u001b[39m extend_grid(grid, k_extend\u001b[38;5;241m=\u001b[39m\u001b[38;5;28mself\u001b[39m\u001b[38;5;241m.\u001b[39mk)\n\u001b[0;32m    215\u001b[0m \u001b[38;5;66;03m#print('x_pos 2', x_pos.shape)\u001b[39;00m\n\u001b[0;32m    216\u001b[0m \u001b[38;5;66;03m#print('y_eval 2', y_eval.shape)\u001b[39;00m\n\u001b[1;32m--> 217\u001b[0m \u001b[38;5;28mself\u001b[39m\u001b[38;5;241m.\u001b[39mcoef\u001b[38;5;241m.\u001b[39mdata \u001b[38;5;241m=\u001b[39m \u001b[43mcurve2coef\u001b[49m\u001b[43m(\u001b[49m\u001b[43mx_pos\u001b[49m\u001b[43m,\u001b[49m\u001b[43m \u001b[49m\u001b[43my_eval\u001b[49m\u001b[43m,\u001b[49m\u001b[43m \u001b[49m\u001b[38;5;28;43mself\u001b[39;49m\u001b[38;5;241;43m.\u001b[39;49m\u001b[43mgrid\u001b[49m\u001b[43m,\u001b[49m\u001b[43m \u001b[49m\u001b[38;5;28;43mself\u001b[39;49m\u001b[38;5;241;43m.\u001b[39;49m\u001b[43mk\u001b[49m\u001b[43m)\u001b[49m\n",
      "File \u001b[1;32mc:\\Users\\andre\\anaconda3\\envs\\pykan\\lib\\site-packages\\kan\\spline.py:131\u001b[0m, in \u001b[0;36mcurve2coef\u001b[1;34m(x_eval, y_eval, grid, k)\u001b[0m\n\u001b[0;32m    121\u001b[0m \u001b[38;5;66;03m# manual psuedo-inverse\u001b[39;00m\n\u001b[0;32m    122\u001b[0m \u001b[38;5;250m\u001b[39m\u001b[38;5;124;03m'''lamb=1e-8\u001b[39;00m\n\u001b[0;32m    123\u001b[0m \u001b[38;5;124;03mXtX = torch.einsum('ijmn,ijnp->ijmp', mat.permute(0,1,3,2), mat)\u001b[39;00m\n\u001b[0;32m    124\u001b[0m \u001b[38;5;124;03mXty = torch.einsum('ijmn,ijnp->ijmp', mat.permute(0,1,3,2), y_eval)\u001b[39;00m\n\u001b[1;32m   (...)\u001b[0m\n\u001b[0;32m    128\u001b[0m \u001b[38;5;124;03mB = Xty\u001b[39;00m\n\u001b[0;32m    129\u001b[0m \u001b[38;5;124;03mcoef = (A.pinverse() @ B)[:,:,:,0]'''\u001b[39;00m\n\u001b[1;32m--> 131\u001b[0m \u001b[38;5;28;01mreturn\u001b[39;00m \u001b[43mcoef\u001b[49m\n",
      "\u001b[1;31mUnboundLocalError\u001b[0m: local variable 'coef' referenced before assignment"
     ]
    }
   ],
   "source": [
    "import os\n",
    "import numpy as np\n",
    "import json\n",
    "import matplotlib.pyplot as plt\n",
    "from aeon.datasets import load_from_ts_file\n",
    "from sklearn.preprocessing import LabelEncoder\n",
    "from kan import KAN\n",
    "from tsfresh import extract_features\n",
    "from utils import prepare_tsfresh_data, clean_data\n",
    "\n",
    "# Load training and testing datasets\n",
    "if not os.path.exists(\"./data/ts_files/train.ts\") or not os.path.exists(\"./data/ts_files/test.ts\"):\n",
    "    raise FileNotFoundError(\"Train or test .ts files not found in the specified directory.\")\n",
    "\n",
    "X_train, y_train = load_from_ts_file(\"./data/ts_files/train.ts\")\n",
    "X_test, y_test = load_from_ts_file(\"./data/ts_files/test.ts\")\n",
    "\n",
    "# Encode string labels into integers\n",
    "label_encoder = LabelEncoder()\n",
    "y_train_encoded = label_encoder.fit_transform(y_train)\n",
    "y_test_encoded = label_encoder.transform(y_test)\n",
    "\n",
    "# Prepare the data for TSFresh\n",
    "train_df = prepare_tsfresh_data(X_train)\n",
    "test_df = prepare_tsfresh_data(X_test)\n",
    "\n",
    "# Extract features using TSFresh\n",
    "X_train_features = extract_features(train_df, column_id=\"id\", column_sort=\"time\")\n",
    "X_test_features = extract_features(test_df, column_id=\"id\", column_sort=\"time\")\n",
    "\n",
    "# Clean the extracted features (handle NaNs and remove zero vectors)\n",
    "X_train_features_clean, y_train_encoded_clean = clean_data(X_train_features, y_train_encoded)\n",
    "X_test_features_clean, y_test_encoded_clean = clean_data(X_test_features, y_test_encoded)\n",
    "\n",
    "\n",
    "print(X_train_features_clean.isnull().sum())  # Check NaNs in the training data\n",
    "print(X_test_features_clean.isnull().sum())   # Check NaNs in the test data\n",
    "print(y_train_encoded_clean.isnull().sum())\n",
    "print(y_test_encoded_clean.isnull().sum())\n",
    "\n",
    "# Convert cleaned features to numpy arrays\n",
    "X_train_cleaned = X_train_features_clean.values\n",
    "X_test_cleaned = X_test_features_clean.values\n",
    "\n",
    "# Define KAN model input dimensions\n",
    "n_instances, embedding_size = X_train_cleaned.shape\n",
    "n_classes = len(np.unique(y_train_encoded_clean))  # Number of unique classes in training labels\n",
    "\n",
    "# Initialize the KAN model\n",
    "kan_model = KAN(\n",
    "    width=[[embedding_size, 0], [50, 0], [30, 0], [n_classes, 0]],\n",
    "    grid=5,\n",
    "    k=3,\n",
    "    seed=42,\n",
    ")\n",
    "\n",
    "# Prepare dataset for KAN\n",
    "dataset = {\n",
    "    \"train_input\": X_train_cleaned,\n",
    "    \"train_label\": y_train_encoded_clean,\n",
    "    \"test_input\": X_test_cleaned,\n",
    "    \"test_label\": y_test_encoded_clean,\n",
    "}\n",
    "\n",
    "# Iteratively refine grids\n",
    "train_losses = []\n",
    "test_losses = []\n",
    "train_accuracies = []\n",
    "test_accuracies = []\n",
    "experiment_num = []\n",
    "steps = 50\n",
    "\n",
    "def train_acc():\n",
    "    preds = np.argmax(kan_model.predict(dataset[\"train_input\"]), axis=1)\n",
    "    return np.mean(preds == dataset[\"train_label\"])\n",
    "\n",
    "def test_acc():\n",
    "    preds = np.argmax(kan_model.predict(dataset[\"test_input\"]), axis=1)\n",
    "    return np.mean(preds == dataset[\"test_label\"])\n",
    "\n",
    "NUM_EXPERIMENTS = 5\n",
    "for experiment in range(NUM_EXPERIMENTS):\n",
    "    kan_model = KAN(\n",
    "        width=[[embedding_size, 0], [50, 0], [30, 0], [n_classes, 0]],\n",
    "        grid=5,\n",
    "        k=3,\n",
    "        seed=42,\n",
    "    )\n",
    "\n",
    "    # Train the model and capture the results\n",
    "    results = kan_model.fit(\n",
    "        ckpt_path='./kan_feature_ext',\n",
    "        dataset=dataset,\n",
    "        steps=steps,\n",
    "        metrics=(train_acc, test_acc),\n",
    "        loss_fn=\"cross_entropy\",  # Replace with appropriate loss function for KAN\n",
    "        log=1,\n",
    "    )\n",
    "    experiment_num.append(experiment)\n",
    "    train_losses.append(results[\"train_loss\"][-1])\n",
    "    test_losses.append(results[\"test_loss\"][-1])\n",
    "    train_accuracies.append(results[\"train_acc\"][-1])\n",
    "    test_accuracies.append(results[\"test_acc\"][-1])\n",
    "\n",
    "# Save the metrics to JSON\n",
    "metrics = {\n",
    "    'experiment': experiment_num,\n",
    "    \"train_loss\": train_losses,\n",
    "    \"test_loss\": test_losses,\n",
    "    \"train_acc\": train_accuracies,\n",
    "    \"test_acc\": test_accuracies,\n",
    "}\n",
    "with open(\"kan_metrics.json\", \"w\") as f:\n",
    "    json.dump(metrics, f)\n",
    "\n",
    "# Plot the results\n",
    "plt.figure(figsize=(12, 6))\n",
    "\n",
    "# Plot losses\n",
    "plt.subplot(1, 2, 1)\n",
    "plt.plot(experiment_num, train_losses, marker=\"o\", label=\"Train Loss\", color=\"blue\")\n",
    "plt.plot(experiment_num, test_losses, marker=\"o\", label=\"Test Loss\", color=\"orange\")\n",
    "plt.xlabel(\"Grid Size\")\n",
    "plt.ylabel(\"Loss\")\n",
    "plt.title(\"Loss vs Grid Size\")\n",
    "plt.legend()\n",
    "\n",
    "# Plot accuracies\n",
    "plt.subplot(1, 2, 2)\n",
    "plt.plot(experiment_num, train_accuracies, marker=\"o\", label=\"Train Accuracy\", color=\"blue\")\n",
    "plt.plot(experiment_num, test_accuracies, marker=\"o\", label=\"Test Accuracy\", color=\"orange\")\n",
    "plt.xlabel(\"Grid Size\")\n",
    "plt.ylabel(\"Accuracy\")\n",
    "plt.title(\"Accuracy vs Grid Size\")\n",
    "plt.legend()\n",
    "\n",
    "plt.tight_layout()\n",
    "plt.show()"
   ]
  },
  {
   "cell_type": "code",
   "execution_count": null,
   "metadata": {},
   "outputs": [],
   "source": []
  }
 ],
 "metadata": {
  "kernelspec": {
   "display_name": "pykan",
   "language": "python",
   "name": "python3"
  },
  "language_info": {
   "codemirror_mode": {
    "name": "ipython",
    "version": 3
   },
   "file_extension": ".py",
   "mimetype": "text/x-python",
   "name": "python",
   "nbconvert_exporter": "python",
   "pygments_lexer": "ipython3",
   "version": "3.9.7"
  }
 },
 "nbformat": 4,
 "nbformat_minor": 2
}
